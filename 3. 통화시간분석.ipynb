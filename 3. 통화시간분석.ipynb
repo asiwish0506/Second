{
 "cells": [
  {
   "cell_type": "code",
   "execution_count": 11,
   "metadata": {},
   "outputs": [],
   "source": [
    "import pandas as pd\n",
    "import numpy as np\n",
    "import matplotlib.pyplot as plt\n",
    "import seaborn as sns\n",
    "import datetime\n",
    "import time"
   ]
  },
  {
   "cell_type": "code",
   "execution_count": 12,
   "metadata": {},
   "outputs": [],
   "source": [
    "import matplotlib as mpl\n",
    "import matplotlib.pylab as plt2\n",
    "\n",
    "plt2.rcParams[\"font.family\"] = \"NanumGothicCoding\"\n",
    "plt2.rcParams[\"font.size\"] = 14\n",
    "plt2.rcParams[\"figure.figsize\"] = (12, 10)\n",
    "mpl.rcParams['axes.unicode_minus'] = False"
   ]
  },
  {
   "cell_type": "code",
   "execution_count": 13,
   "metadata": {},
   "outputs": [
    {
     "name": "stdout",
     "output_type": "stream",
     "text": [
      "...tmp_db name = tmp_20200714_17_51_09_6d4ca7169ea12d8b06f8032deee5b6147bae68da\n",
      "Start creating table\n",
      "drop table if exists default.tmp_20200714_17_51_09_6d4ca7169ea12d8b06f8032deee5b6147bae68da\n",
      "<< table not exist\n",
      "\n",
      "        create  table         default.tmp_20200714_17_51_09_6d4ca7169ea12d8b06f8032deee5b6147bae68da\n",
      "        with (format='Parquet', parquet_compression='GZIP')\n",
      "        as\n",
      "        select * from default.tm_result_temp\n",
      ".\n",
      ">> Athena Query Success!!\n",
      ">> Athena Query EXCUTION COMPLETE....\n",
      ">> S3 FILE GENERATION SUCCESS!! (File count: 4)\n",
      "Elapsed Time = 11.48\n",
      ">> Start downloading table\n",
      "aws s3 cp s3://adt-sandbox/dsc/tables/d69aaa57-46c1-40bd-ab11-617db0767202 /home/skinet/tmp/tmp_20200714_17_51_09_6d4ca7169ea12d8b06f8032deee5b6147bae68da --recursive\n",
      "Elapsed Time = 3.59\n",
      ">> Loading data\n",
      "Dropping tmp db\n",
      "<< Delete s3://adt-sandbox/dsc/tables/d69aaa57-46c1-40bd-ab11-617db0767202\n",
      "Removing tmp_dir!\n",
      "Elapsed Time for downloading and loading = 5.86\n",
      "Total Elapsed Time = 20.93\n"
     ]
    }
   ],
   "source": [
    "from skinet.utils.athena_tools import *\n",
    "conn = athena_connection()\n",
    "df = load_from_athena(conn, \"select * from default.tm_result_temp\")"
   ]
  },
  {
   "cell_type": "code",
   "execution_count": 14,
   "metadata": {},
   "outputs": [
    {
     "data": {
      "text/html": [
       "<div>\n",
       "<style scoped>\n",
       "    .dataframe tbody tr th:only-of-type {\n",
       "        vertical-align: middle;\n",
       "    }\n",
       "\n",
       "    .dataframe tbody tr th {\n",
       "        vertical-align: top;\n",
       "    }\n",
       "\n",
       "    .dataframe thead th {\n",
       "        text-align: right;\n",
       "    }\n",
       "</style>\n",
       "<table border=\"1\" class=\"dataframe\">\n",
       "  <thead>\n",
       "    <tr style=\"text-align: right;\">\n",
       "      <th></th>\n",
       "      <th>contactid</th>\n",
       "      <th>s25csq</th>\n",
       "      <th>custid</th>\n",
       "      <th>contactstartdate</th>\n",
       "      <th>contactstarttime</th>\n",
       "      <th>contactenddate</th>\n",
       "      <th>talkenddate</th>\n",
       "      <th>contactendtime</th>\n",
       "      <th>talkendtime</th>\n",
       "      <th>userid</th>\n",
       "      <th>...</th>\n",
       "      <th>ncusttel</th>\n",
       "      <th>ncustzip</th>\n",
       "      <th>description</th>\n",
       "      <th>listid</th>\n",
       "      <th>listname</th>\n",
       "      <th>listtype</th>\n",
       "      <th>extracteddate</th>\n",
       "      <th>dialresultcd</th>\n",
       "      <th>call_success</th>\n",
       "      <th>final_success</th>\n",
       "    </tr>\n",
       "  </thead>\n",
       "  <tbody>\n",
       "    <tr>\n",
       "      <th>0</th>\n",
       "      <td>81448111</td>\n",
       "      <td>211063182</td>\n",
       "      <td>211063182</td>\n",
       "      <td>2020/04/22</td>\n",
       "      <td>13:30:21</td>\n",
       "      <td>2020/04/22</td>\n",
       "      <td>2020/04/22</td>\n",
       "      <td>13:33:51</td>\n",
       "      <td>13:33:36</td>\n",
       "      <td>K1190830</td>\n",
       "      <td>...</td>\n",
       "      <td>01056947728</td>\n",
       "      <td>*</td>\n",
       "      <td>★화재실손주택(20200401)_그외 : 성공-TM거부 : [화재안심TM]</td>\n",
       "      <td>123943</td>\n",
       "      <td>★화재실손주택(20200401)_그외</td>\n",
       "      <td>주택</td>\n",
       "      <td>2020/04/01</td>\n",
       "      <td>SE01</td>\n",
       "      <td>1</td>\n",
       "      <td>0</td>\n",
       "    </tr>\n",
       "    <tr>\n",
       "      <th>1</th>\n",
       "      <td>81295102</td>\n",
       "      <td>218106394</td>\n",
       "      <td>218106394</td>\n",
       "      <td>2020/04/13</td>\n",
       "      <td>14:51:10</td>\n",
       "      <td>2020/04/13</td>\n",
       "      <td>2020/04/13</td>\n",
       "      <td>14:53:23</td>\n",
       "      <td>14:52:34</td>\n",
       "      <td>K1190037</td>\n",
       "      <td>...</td>\n",
       "      <td>01021284991</td>\n",
       "      <td>*</td>\n",
       "      <td>★화재실손주택(20200401)_그외 : 성공-단순재통화 : [화재안심TM]목조 필...</td>\n",
       "      <td>123943</td>\n",
       "      <td>★화재실손주택(20200401)_그외</td>\n",
       "      <td>주택</td>\n",
       "      <td>2020/04/01</td>\n",
       "      <td>SS05</td>\n",
       "      <td>1</td>\n",
       "      <td>0</td>\n",
       "    </tr>\n",
       "    <tr>\n",
       "      <th>2</th>\n",
       "      <td>81247021</td>\n",
       "      <td>217127977</td>\n",
       "      <td>217127977</td>\n",
       "      <td>2020/04/09</td>\n",
       "      <td>16:26:43</td>\n",
       "      <td>2020/04/09</td>\n",
       "      <td>2020/04/09</td>\n",
       "      <td>16:27:05</td>\n",
       "      <td>16:26:57</td>\n",
       "      <td>CI07225</td>\n",
       "      <td>...</td>\n",
       "      <td>01022580803</td>\n",
       "      <td>*</td>\n",
       "      <td>★ADT화재안심(20200401)_일반 : 실패-무응답 : [화재안심TM]</td>\n",
       "      <td>123945</td>\n",
       "      <td>★ADT화재안심(20200401)_일반</td>\n",
       "      <td>화재</td>\n",
       "      <td>2020/04/01</td>\n",
       "      <td>NF03</td>\n",
       "      <td>0</td>\n",
       "      <td>0</td>\n",
       "    </tr>\n",
       "    <tr>\n",
       "      <th>3</th>\n",
       "      <td>81308017</td>\n",
       "      <td>216100835</td>\n",
       "      <td>216100835</td>\n",
       "      <td>2020/04/14</td>\n",
       "      <td>09:54:27</td>\n",
       "      <td>2020/04/14</td>\n",
       "      <td>2020/04/14</td>\n",
       "      <td>09:55:19</td>\n",
       "      <td>09:55:08</td>\n",
       "      <td>K1180707</td>\n",
       "      <td>...</td>\n",
       "      <td>01044622125</td>\n",
       "      <td>*</td>\n",
       "      <td>★ADT화재안심(20200401)_일반 : 성공-거절 : [화재안심TM]</td>\n",
       "      <td>123945</td>\n",
       "      <td>★ADT화재안심(20200401)_일반</td>\n",
       "      <td>화재</td>\n",
       "      <td>2020/04/01</td>\n",
       "      <td>SS03</td>\n",
       "      <td>1</td>\n",
       "      <td>0</td>\n",
       "    </tr>\n",
       "    <tr>\n",
       "      <th>4</th>\n",
       "      <td>81540900</td>\n",
       "      <td>219064254</td>\n",
       "      <td>219064254</td>\n",
       "      <td>2020/04/28</td>\n",
       "      <td>10:43:58</td>\n",
       "      <td>2020/04/28</td>\n",
       "      <td>2020/04/28</td>\n",
       "      <td>10:45:13</td>\n",
       "      <td>10:45:07</td>\n",
       "      <td>MPC02645</td>\n",
       "      <td>...</td>\n",
       "      <td>01062316875</td>\n",
       "      <td>*</td>\n",
       "      <td>★ADT화재안심(20200401)_일반 : 실패-무응답 : [화재안심TM]</td>\n",
       "      <td>123945</td>\n",
       "      <td>★ADT화재안심(20200401)_일반</td>\n",
       "      <td>화재</td>\n",
       "      <td>2020/04/01</td>\n",
       "      <td>NF03</td>\n",
       "      <td>0</td>\n",
       "      <td>0</td>\n",
       "    </tr>\n",
       "  </tbody>\n",
       "</table>\n",
       "<p>5 rows × 21 columns</p>\n",
       "</div>"
      ],
      "text/plain": [
       "   contactid     s25csq     custid contactstartdate contactstarttime  \\\n",
       "0   81448111  211063182  211063182       2020/04/22         13:30:21   \n",
       "1   81295102  218106394  218106394       2020/04/13         14:51:10   \n",
       "2   81247021  217127977  217127977       2020/04/09         16:26:43   \n",
       "3   81308017  216100835  216100835       2020/04/14         09:54:27   \n",
       "4   81540900  219064254  219064254       2020/04/28         10:43:58   \n",
       "\n",
       "  contactenddate talkenddate contactendtime talkendtime    userid  ...  \\\n",
       "0     2020/04/22  2020/04/22       13:33:51    13:33:36  K1190830  ...   \n",
       "1     2020/04/13  2020/04/13       14:53:23    14:52:34  K1190037  ...   \n",
       "2     2020/04/09  2020/04/09       16:27:05    16:26:57   CI07225  ...   \n",
       "3     2020/04/14  2020/04/14       09:55:19    09:55:08  K1180707  ...   \n",
       "4     2020/04/28  2020/04/28       10:45:13    10:45:07  MPC02645  ...   \n",
       "\n",
       "      ncusttel ncustzip                                        description  \\\n",
       "0  01056947728        *          ★화재실손주택(20200401)_그외 : 성공-TM거부 : [화재안심TM]   \n",
       "1  01021284991        *  ★화재실손주택(20200401)_그외 : 성공-단순재통화 : [화재안심TM]목조 필...   \n",
       "2  01022580803        *          ★ADT화재안심(20200401)_일반 : 실패-무응답 : [화재안심TM]   \n",
       "3  01044622125        *           ★ADT화재안심(20200401)_일반 : 성공-거절 : [화재안심TM]   \n",
       "4  01062316875        *          ★ADT화재안심(20200401)_일반 : 실패-무응답 : [화재안심TM]   \n",
       "\n",
       "   listid               listname listtype extracteddate dialresultcd  \\\n",
       "0  123943   ★화재실손주택(20200401)_그외       주택    2020/04/01         SE01   \n",
       "1  123943   ★화재실손주택(20200401)_그외       주택    2020/04/01         SS05   \n",
       "2  123945  ★ADT화재안심(20200401)_일반       화재    2020/04/01         NF03   \n",
       "3  123945  ★ADT화재안심(20200401)_일반       화재    2020/04/01         SS03   \n",
       "4  123945  ★ADT화재안심(20200401)_일반       화재    2020/04/01         NF03   \n",
       "\n",
       "  call_success  final_success  \n",
       "0            1              0  \n",
       "1            1              0  \n",
       "2            0              0  \n",
       "3            1              0  \n",
       "4            0              0  \n",
       "\n",
       "[5 rows x 21 columns]"
      ]
     },
     "execution_count": 14,
     "metadata": {},
     "output_type": "execute_result"
    }
   ],
   "source": [
    "df.head()"
   ]
  },
  {
   "cell_type": "code",
   "execution_count": 15,
   "metadata": {},
   "outputs": [],
   "source": [
    "data = df.copy()"
   ]
  },
  {
   "cell_type": "code",
   "execution_count": 16,
   "metadata": {},
   "outputs": [],
   "source": [
    "data[['contactstarttime', 'contactendtime']] = data[['contactstarttime', 'contactendtime']].apply(pd.to_timedelta)"
   ]
  },
  {
   "cell_type": "code",
   "execution_count": 17,
   "metadata": {},
   "outputs": [],
   "source": [
    "data['call_duration'] = (data['contactendtime'] - data['contactstarttime']).astype('timedelta64[s]')"
   ]
  },
  {
   "cell_type": "code",
   "execution_count": 18,
   "metadata": {},
   "outputs": [],
   "source": [
    "bins = [0, 10, 30,  60,  90, 120, 150, 180, 210, 240, 270]"
   ]
  },
  {
   "cell_type": "code",
   "execution_count": 19,
   "metadata": {},
   "outputs": [],
   "source": [
    "data['call_duration_cut'] = pd.cut(data['call_duration'], bins = bins)"
   ]
  },
  {
   "cell_type": "code",
   "execution_count": 20,
   "metadata": {},
   "outputs": [
    {
     "data": {
      "image/png": "[encoded data removed]",
      "text/plain": [
       "<Figure size 864x720 with 1 Axes>"
      ]
     },
     "metadata": {
      "needs_background": "light"
     },
     "output_type": "display_data"
    }
   ],
   "source": [
    "fig, ax = plt.subplots()\n",
    "ax.spines['right'].set_visible(False)\n",
    "ax.spines['top'].set_visible(False)\n",
    "\n",
    "sns.countplot(data[data['call_success'] == 1].call_duration_cut, palette = 'GnBu_d')\n",
    "plt.xticks(rotation = 45)\n",
    "plt.xlabel('통화시간')\n",
    "plt.ylabel('통화성공횟수')\n",
    "plt.savefig('통화성공건수_통화시간.png', dpi  = 500, bbox_inches = 'tight')"
   ]
  },
  {
   "cell_type": "code",
   "execution_count": 21,
   "metadata": {},
   "outputs": [
    {
     "data": {
      "text/plain": [
       "169.63446009008644"
      ]
     },
     "execution_count": 21,
     "metadata": {},
     "output_type": "execute_result"
    }
   ],
   "source": [
    "data[data['call_success'] == 1].call_duration.mean()"
   ]
  },
  {
   "cell_type": "code",
   "execution_count": 22,
   "metadata": {},
   "outputs": [
    {
     "data": {
      "image/png": "[encoded data removed]",
      "text/plain": [
       "<Figure size 864x720 with 1 Axes>"
      ]
     },
     "metadata": {
      "needs_background": "light"
     },
     "output_type": "display_data"
    }
   ],
   "source": [
    "fig, ax = plt.subplots()\n",
    "ax.spines['right'].set_visible(False)\n",
    "ax.spines['top'].set_visible(False)\n",
    "\n",
    "sns.countplot(data[data['final_success'] == 1].call_duration_cut, palette = 'GnBu_d')\n",
    "plt.xticks(rotation = 45)\n",
    "plt.xlabel('통화시간')\n",
    "plt.ylabel('유치성공횟수')\n",
    "plt.savefig('유치성공건수_통화시간.png', dpi  = 500, bbox_inches = 'tight')"
   ]
  },
  {
   "cell_type": "code",
   "execution_count": 23,
   "metadata": {},
   "outputs": [
    {
     "data": {
      "text/plain": [
       "380.74521422060167"
      ]
     },
     "execution_count": 23,
     "metadata": {},
     "output_type": "execute_result"
    }
   ],
   "source": [
    "data[data['final_success'] == 1].call_duration.mean()"
   ]
  },
  {
   "cell_type": "code",
   "execution_count": 24,
   "metadata": {},
   "outputs": [],
   "source": [
    "data['dialresultcd'] = data['dialresultcd'].map({\n",
    "                                     'NF03' : '실패-무응답',\n",
    "                                     'NF05' : '성공-가망재통화',\n",
    "                                     'SE01' : '성공-TM거부',\n",
    "                                     'SE04' : 'TM-자체제외',\n",
    "                                     'SE05' : '오류번호',\n",
    "                                     'SS01' : '성공-유치완료',\n",
    "                                     'SS02' : '성공-중도취소',\n",
    "                                     'SS03' : '성공-거절',\n",
    "                                     'SS05' : '성공-단순재통화',\n",
    "                                     'SS06' : '성공-부재중'   \n",
    "                                   })"
   ]
  },
  {
   "cell_type": "code",
   "execution_count": 25,
   "metadata": {},
   "outputs": [
    {
     "data": {
      "image/png": "[encoded data removed]",
      "text/plain": [
       "<Figure size 864x720 with 1 Axes>"
      ]
     },
     "metadata": {
      "needs_background": "light"
     },
     "output_type": "display_data"
    }
   ],
   "source": [
    "fig, ax = plt.subplots()\n",
    "ax.spines['right'].set_visible(False)\n",
    "ax.spines['top'].set_visible(False)\n",
    "\n",
    "sns.countplot(data['dialresultcd'], order = data['dialresultcd'].value_counts().index, palette = 'GnBu_d')\n",
    "plt.xticks(rotation = 45)\n",
    "\n",
    "\n",
    "for i, bar in enumerate(ax.patches):\n",
    "    h = bar.get_height()\n",
    "    ax.text(\n",
    "        i, # bar index (x coordinate of text)\n",
    "        h+300, # y coordinate of text\n",
    "        '{}'.format(int(h)),  # y label\n",
    "        ha='center', \n",
    "        va='center', \n",
    "        size=14)\n",
    "\n",
    "plt.savefig('통화결과.png', dpi  = 500, bbox_inches = 'tight')"
   ]
  },
  {
   "cell_type": "code",
   "execution_count": null,
   "metadata": {},
   "outputs": [],
   "source": []
  },
  {
   "cell_type": "code",
   "execution_count": null,
   "metadata": {},
   "outputs": [],
   "source": []
  },
  {
   "cell_type": "code",
   "execution_count": null,
   "metadata": {},
   "outputs": [],
   "source": []
  },
  {
   "cell_type": "code",
   "execution_count": null,
   "metadata": {},
   "outputs": [],
   "source": []
  }
 ],
 "metadata": {
  "kernelspec": {
   "display_name": "Python 3",
   "language": "python",
   "name": "python3"
  },
  "language_info": {
   "codemirror_mode": {
    "name": "ipython",
    "version": 3
   },
   "file_extension": ".py",
   "mimetype": "text/x-python",
   "name": "python",
   "nbconvert_exporter": "python",
   "pygments_lexer": "ipython3",
   "version": "3.6.8"
  }
 },
 "nbformat": 4,
 "nbformat_minor": 4
}
