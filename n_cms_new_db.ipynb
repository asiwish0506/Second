{
 "cells": [
  {
   "cell_type": "code",
   "execution_count": null,
   "metadata": {},
   "outputs": [],
   "source": [
    "import pandas as pd\n",
    "import numpy as np\n",
    "import matplotlib.pyplot as plt\n",
    "import seaborn as sns\n",
    "import warnings\n",
    "from datetime import datetime\n",
    "from skinet.utils.athena_tools import *\n",
    "warnings.filterwarnings(\"ignore\")"
   ]
  },
  {
   "cell_type": "code",
   "execution_count": null,
   "metadata": {},
   "outputs": [],
   "source": [
    "# matplotlib 한글 나오게 하기\n",
    "\n",
    "import matplotlib as mpl\n",
    "import matplotlib.pylab as plt2 \n",
    "\n",
    "plt2.rcParams[\"font.family\"] = \"NanumGothincCoding\"\n",
    "plt2.rcParams[\"font.size\"] = 12\n",
    "plt2.rcParams[\"figure.figsize\"] = (14, 4) \n",
    "mpl.rcParams['axes.unicode_minus'] = False "
   ]
  },
  {
   "cell_type": "code",
   "execution_count": null,
   "metadata": {},
   "outputs": [],
   "source": [
    "ym = '202010' # 전월 \n",
    "fm = '202009' # 최초 청구월 기준\n",
    "ft = 20200801 # 최종 통화일 기준"
   ]
  },
  {
   "cell_type": "code",
   "execution_count": null,
   "metadata": {},
   "outputs": [],
   "source": [
    "# tm list header update \n",
    "conn = athena_connection()\n",
    "drop_table_in_athena(conn, 'default.tm_list_header')\n",
    "temp = load_from_athena(conn, '''\n",
    "SELECT DISTINCT listid\n",
    "     , listname\n",
    "     , listtypecd\n",
    "     , extracteddate\n",
    "     , extractedtime\n",
    "     , extractorid\n",
    "     , requestcnt\n",
    "     , extractedcnt \n",
    "     , isallocation\n",
    "     , teamcd\n",
    "     , extractedgbn\n",
    "FROM telepro.tm_list_cat\n",
    "WHERE listtypecd = '35'\n",
    "  AND extractorid = 'K1170127'\n",
    "''')\n",
    "load_to_athena(conn, temp, 'default.tm_list_header')\n",
    "del temp"
   ]
  },
  {
   "cell_type": "code",
   "execution_count": null,
   "metadata": {},
   "outputs": [],
   "source": [
    "# # 보험 가입자 리스트 추출\n",
    "\n",
    "# conn = athena_connection()\n",
    "# ins = load_from_athena(conn, '''\n",
    "# SELECT DISTINCT b.ctnum\n",
    "#      , b.rqnum\n",
    "#      , b.aedat\n",
    "#      , b.ins_type\n",
    "#      , b.ins_amt\n",
    "#      , b.ins_amt_type\n",
    "#      , b.ins_payment\n",
    "#      , b.ins_stat\n",
    "#      , b.ins_user4\n",
    "#      , c.ins_stat_nm\n",
    "#      , c.ins_amt_type_nm\n",
    "#      , d.ctnum_old\n",
    "#   FROM (SELECT DISTINCT ctnum, ins_type, ins_amt, ins_amt_type, ins_payment, ins_stat, rqnum, aedat, ins_user4\n",
    "#              FROM sap.zsdt4150m\n",
    "#             WHERE ins_type IN ('02', '03', '07')) b\n",
    "# LEFT JOIN (SELECT DISTINCT ctnum, rqnum, ins_stat_nm, ins_amt_type_nm FROM mart.zsdr6051) c\n",
    "#        ON b.ctnum = c.ctnum\n",
    "#       AND b.rqnum = c.rqnum\n",
    "# LEFT JOIN (SELECT DISTINCT ctnum, ctnum_old FROM mart.zsdr6001 WHERE ctnum_old <> '') d\n",
    "#        ON b.ctnum = d.ctnum\n",
    "# ''') "
   ]
  },
  {
   "cell_type": "code",
   "execution_count": null,
   "metadata": {},
   "outputs": [],
   "source": [
    "conn = athena_connection()\n",
    "magam = load_from_athena(conn, '''\n",
    "\n",
    "SELECT a.kcalss\n",
    "\t , d.kunnr\n",
    "\t , d.ctnum\n",
    "     , a.conn_dept\n",
    "     , a.conn_emp\n",
    "     , a.cost_dept\n",
    "     , a.cost_emp\n",
    "     , a.ctnum as ctnum_hash\n",
    "     , a.cstat\n",
    "     , a.gad_name\n",
    "     , a.gad_start\n",
    "     , a.conn_start\n",
    "     , a.conn_end\n",
    "     , CAST(a.monexp_amt AS DOUBLE) AS monexp_amt\n",
    "     , a.conn_type\n",
    "     , a.ctype_l\n",
    "     , a.ctype_m\n",
    "     , a.ctype_s\n",
    "     , a.intro_asp\n",
    "     , a.itype_l\n",
    "     , a.itype_m\n",
    "     , a.itype_s\n",
    "     , a.itype_sdesc\n",
    "     , a.kunnr as kunnr_hash\n",
    "     , c.name1\n",
    "     , a.gad_add01\n",
    "     , a.post_add01\n",
    "     , a.first_bildate\n",
    "     , c.telf2\n",
    "--     , (SELECT ETAX_EMAIL FROM SAP.ZSDT4021 WHERE CTNUM = A.CTNUM AND RQNUM = A.RQNUM AND AMT_TYPE = 'F3' AND MANDT = '100') AS 전자계산서EMAIL\n",
    "--     , (SELECT GROS_CODE FROM SAP.ZSDT1110 WHERE KUNNR = A.KUNNR AND MANDT = '100' AND BUKRS = '1000') AS GROSCODE\n",
    "     , a.svc_str\n",
    "     , a.pay_type\n",
    "     , a.depo_type\n",
    "     , a.line_type\n",
    "     , a.pck_str\n",
    "--     , (SELECT BIR_DATE FROM SAP.ZSDT1110 WHERE KUNNR = A.KUNNR AND MANDT = '100' AND BUKRS = '1000') AS 생년월일\n",
    "     , SUBSTR(c.stcd1, 1 ,6) AS B_YMD\n",
    "     , SUBSTR(c.stcd1, 7 ,1) AS SEX\n",
    "     , c.stcd2\n",
    "     , c.j_1kftbus AS uptae\n",
    "     , c.j_1kftind AS jongmok\n",
    "     , a.gros_code\n",
    "     , a.gross_type\n",
    "     , a.kvgr4\n",
    "     , a.gad_pstlz\n",
    "     , a.gad_add02\n",
    "     , a.post_add02\n",
    "     , b.result1\n",
    "     , b.result2\n",
    "     , b.result3\n",
    "     , b.result4\n",
    "     , b.result5\n",
    "     , b.result6\n",
    "     , b.sms_yn\n",
    "     , b.email_yn\n",
    "     , b.tm_yn\n",
    "     , b.dm_yn\n",
    "     , b.sk1_yn\n",
    "     , b.sk2_yn\n",
    "     , b.adt1_yn\n",
    "     , b.aedat\n",
    "     , b.aenam\n",
    "     , e.ctrt_id\n",
    "FROM sap.zsdt4013      AS a \n",
    "LEFT JOIN (SELECT ctnum, kunnr, sms_yn, email_yn, tm_yn, dm_yn, sk1_yn, sk2_yn, adt1_yn, aedat, aenam, result1, result2, result3, result4, result5, result6 FROM sap.zsdt3748 WHERE usest = 'X') AS b\n",
    "      ON a.ctnum = b.ctnum\n",
    "LEFT JOIN (SELECT kunnr, stcd2, stcd1, telf2, name1, j_1kftbus, j_1kftind FROM sap.kna1 WHERE mandt = '100') AS c\n",
    "      ON a.kunnr = c.kunnr\n",
    "LEFT JOIN (select distinct ctnum_hash, ctnum, kunnr_hash, kunnr from adt_work.hash_info) d\n",
    "       ON a.ctnum = d.ctnum_hash\n",
    "LEFT JOIN (select distinct ctrt_id, ctnum from telepro.tb_nsok_mapping) e\n",
    "       ON a.ctnum = e.ctnum\n",
    "  WHERE a.mandt = '100' \n",
    "    AND a.stmon = \\'{}\\'  --년월 변경\n",
    "    AND a.bukrs = '1000'\n",
    "    AND a.cstat IN ('1','2');\n",
    "\n",
    "'''.format(ym)) "
   ]
  },
  {
   "cell_type": "code",
   "execution_count": null,
   "metadata": {},
   "outputs": [],
   "source": [
    "from skinet.utils.athena_tools import *\n",
    "conn = athena_connection()\n",
    "tm = load_from_athena(conn, '''\n",
    "WITH t1 AS (\n",
    "SELECT b.kunnr_hash AS kunnr, MAX(a.talkenddate) AS talkenddate\n",
    "  FROM telepro.tb_contact a\n",
    "LEFT JOIN (SELECT ctnum_hash, kunnr_hash FROM adt_work.hash_info) b\n",
    "       ON a.s25csq = b.ctnum_hash\n",
    "WHERE a.listid in (SELECT DISTINCT listid FROM default.tm_list_header)\n",
    "GROUP BY b.kunnr_hash\n",
    ")\n",
    "\n",
    ", t2 AS (\n",
    "SELECT b.kunnr_hash AS kunnr, a.talkenddate, MAX(a.contactendtime) AS contactendtime\n",
    "  FROM telepro.tb_contact a\n",
    "LEFT JOIN (SELECT ctnum_hash, kunnr_hash FROM adt_work.hash_info) b\n",
    "       ON a.s25csq = b.ctnum_hash\n",
    "WHERE a.listid in (SELECT DISTINCT listid FROM default.tm_list_header)\n",
    "GROUP BY b.kunnr_hash, a.talkenddate\n",
    ")\n",
    "\n",
    ", t3 AS (\n",
    "SELECT b.kunnr_hash AS kunnr, a.talkenddate, a.contactendtime, a.dialresultcd\n",
    "  FROM telepro.tb_contact a\n",
    "LEFT JOIN (SELECT ctnum_hash, kunnr_hash FROM adt_work.hash_info) b\n",
    "       ON a.s25csq = b.ctnum_hash\n",
    " WHERE a.listid in (SELECT DISTINCT listid FROM default.tm_list_header)\n",
    ")\n",
    "\n",
    ", t4 AS (\n",
    "SELECT b.kunnr_hash AS kunnr, COUNT(DISTINCT a.listid) AS contact_cnt\n",
    "  FROM telepro.tb_contact a\n",
    "LEFT JOIN (SELECT ctnum_hash, kunnr_hash FROM adt_work.hash_info) b\n",
    "       ON a.s25csq = b.ctnum_hash\n",
    " WHERE a.listid in (SELECT DISTINCT listid FROM default.tm_list_header) \n",
    "GROUP BY b.kunnr_hash\n",
    ")\n",
    "\n",
    "SELECT DISTINCT t1.kunnr, t1.talkenddate, t2.contactendtime, t3.dialresultcd, t4.contact_cnt\n",
    "  FROM t1\n",
    "LEFT JOIN t2 \n",
    "       ON t1.kunnr = t2.kunnr\n",
    "      AND t1.talkenddate = t2.talkenddate\n",
    "LEFT JOIN t3\n",
    "       ON t1.kunnr = t3.kunnr\n",
    "      AND t1.talkenddate = t3.talkenddate\n",
    "      AND t2.contactendtime = t3.contactendtime\n",
    "LEFT JOIN t4\n",
    "       ON t1.kunnr = t4.kunnr\n",
    "''') "
   ]
  },
  {
   "cell_type": "code",
   "execution_count": null,
   "metadata": {},
   "outputs": [],
   "source": [
    "magam.shape"
   ]
  },
  {
   "cell_type": "code",
   "execution_count": null,
   "metadata": {},
   "outputs": [],
   "source": [
    "tm_drop_duplicates = tm.drop_duplicates()\n",
    "tm_drop_duplicates.shape"
   ]
  },
  {
   "cell_type": "code",
   "execution_count": null,
   "metadata": {},
   "outputs": [],
   "source": [
    "magam = pd.merge(magam, tm, how='left', left_on='kunnr_hash', right_on='kunnr')"
   ]
  },
  {
   "cell_type": "code",
   "execution_count": null,
   "metadata": {},
   "outputs": [],
   "source": [
    "magam = magam.drop_duplicates()\n",
    "magam.shape"
   ]
  },
  {
   "cell_type": "code",
   "execution_count": null,
   "metadata": {},
   "outputs": [],
   "source": [
    "drop_col = ['kcalss', 'conn_dept', 'conn_emp', 'cost_dept', 'cost_emp', 'intro_asp', 'itype_sdesc', 'svc_str', 'pay_type', 'depo_type',\n",
    "            'result1', 'result2', 'result3', 'result4', 'result5', 'result6']\n",
    "magam.drop(drop_col, axis=1, inplace=True)"
   ]
  },
  {
   "cell_type": "code",
   "execution_count": null,
   "metadata": {},
   "outputs": [],
   "source": [
    "magam_copy = magam.copy()"
   ]
  },
  {
   "cell_type": "code",
   "execution_count": null,
   "metadata": {},
   "outputs": [],
   "source": [
    "# magam = magam_copy.copy()"
   ]
  },
  {
   "cell_type": "code",
   "execution_count": null,
   "metadata": {},
   "outputs": [],
   "source": [
    "cond1 = magam['cstat'].isin(['1'])\n",
    "cond2 = magam['conn_type'].isin(['A02'])                                                    # CMS, Non CMS"
   ]
  },
  {
   "cell_type": "code",
   "execution_count": null,
   "metadata": {},
   "outputs": [],
   "source": [
    "temp1 = magam[cond1 & cond2]"
   ]
  },
  {
   "cell_type": "code",
   "execution_count": null,
   "metadata": {},
   "outputs": [],
   "source": [
    "temp1['telf2'] = temp1['telf2'].str.replace('-|/|' '|'  '', '', regex=True)\n",
    "temp1['telf2'] = np.where(temp1['telf2'].str[0] != '0', \"0\"+temp1['telf2'], temp1['telf2'])\n",
    "temp1['telf2'] = temp1['telf2'].str.replace(' ', '')\n",
    "temp1['telf2'] = temp1['telf2'].str.replace('(', '')\n",
    "temp1['telf2'] = temp1['telf2'].str.replace(')', '')"
   ]
  },
  {
   "cell_type": "code",
   "execution_count": null,
   "metadata": {},
   "outputs": [],
   "source": [
    "temp1.columns"
   ]
  },
  {
   "cell_type": "code",
   "execution_count": null,
   "metadata": {},
   "outputs": [],
   "source": [
    "temp1[temp1['ctnum'] == '211061046'].kunnr_y.iloc[0]"
   ]
  },
  {
   "cell_type": "code",
   "execution_count": null,
   "metadata": {},
   "outputs": [],
   "source": [
    "tm[tm['kunnr'] == 'c1cbb1245842160c407e61f6587937b4879dcf882a73567bec42052e62a21d39']"
   ]
  },
  {
   "cell_type": "code",
   "execution_count": null,
   "metadata": {},
   "outputs": [],
   "source": []
  },
  {
   "cell_type": "code",
   "execution_count": null,
   "metadata": {},
   "outputs": [],
   "source": []
  },
  {
   "cell_type": "code",
   "execution_count": null,
   "metadata": {},
   "outputs": [],
   "source": [
    "temp1.drop(['ctnum_hash', 'kunnr_hash', 'pck_str', 'b_ymd', 'sex', 'stcd2', 'kunnr_y'], axis=1, inplace=True)"
   ]
  },
  {
   "cell_type": "code",
   "execution_count": null,
   "metadata": {},
   "outputs": [],
   "source": [
    "temp1 = temp1.rename(columns={\n",
    "      'kunnr_x' : '고객번호',\n",
    "      'ctnum' : '계약번호',\n",
    "      'cstat' : '계약상태',\n",
    "      'gad_name' : '상호',\n",
    "      'gad_start' : '경비개시일',\n",
    "      'conn_start' : '계약개시일',\n",
    "      'conn_end' : '계약종료일',\n",
    "      'monexp_amt' : '월정료',\n",
    "      'conn_type' : '계약타입',\n",
    "      'ctype_l' : '채널(대)',\n",
    "      'ctype_m' : '채널(중)',\n",
    "      'ctype_s' : '채널(소)',\n",
    "      'itype_l' : '업종(대)',\n",
    "      'itype_m' : '업종(중)',\n",
    "      'itype_s' : '업종(소)',\n",
    "      'name1' : '이름1',\n",
    "      'gad_add01' : '경비물건주소',\n",
    "      'post_add01' : '우편물수령지주소1',\n",
    "      'first_bildate' : '최초청구일',\n",
    "      'telf2' : '전화번호',\n",
    "      'line_type' : '관제회선구분',\n",
    "      'uptae' : '업태',\n",
    "      'jongmok' : '종목',\n",
    "      'gros_code' : '그로스코드',\n",
    "      'gross_type' : '그로스타입',\n",
    "      'kvgr4' : '세그먼트',\n",
    "      'gad_pstlz' : '우편번호',\n",
    "      'gad_add02' : '경비물건주소상세',\n",
    "      'post_add02' : '우편물수령지주소2',\n",
    "      'sms_yn' : 'SMS동의',\n",
    "      'email_yn' : 'EMAIL동의',\n",
    "      'tm_yn' : 'TM동의',\n",
    "      'dm_yn' : 'DM동의',\n",
    "      'sk1_yn' : 'SK1동의',\n",
    "      'sk2_yn' : 'SK2동의',\n",
    "      'adt1_yn' : '마케팅수신동의',\n",
    "      'aedat' : '작업일자',\n",
    "      'aenam' : '변경자',\n",
    "      'ctrt_id' : 'n사계약번호',\n",
    "      'talkenddate' : '최종접촉일',\n",
    "      'contactendtime' : '최종접촉시간',\n",
    "      'dialresultcd' : '최종접촉결과',\n",
    "      'contact_cnt' : '접촉회차'\n",
    "})"
   ]
  },
  {
   "cell_type": "code",
   "execution_count": null,
   "metadata": {},
   "outputs": [],
   "source": [
    "temp1 = temp1[\n",
    "    ['고객번호', '계약번호', '계약상태', '상호', '경비개시일', '계약개시일', '계약종료일', \n",
    "     '월정료', '계약타입', '채널(대)', '채널(중)', '채널(소)', '업종(대)', '업종(중)', '업종(소)', \n",
    "           '이름1', '경비물건주소', '우편물수령지주소1', '최초청구일', '전화번호',\n",
    "           '관제회선구분', '업태', '종목', '그로스코드', '그로스타입', '세그먼트', '우편번호', '경비물건주소상세',\n",
    "           '우편물수령지주소2', 'SMS동의', 'EMAIL동의', 'TM동의', 'DM동의', 'SK1동의', 'SK2동의', '마케팅수신동의',\n",
    "           '작업일자', '변경자', 'n사계약번호', '최종접촉일', '최종접촉시간', '최종접촉결과',\n",
    "           '접촉회차']\n",
    "]"
   ]
  },
  {
   "cell_type": "code",
   "execution_count": null,
   "metadata": {},
   "outputs": [],
   "source": [
    "temp1.to_csv('/home/skinet/hojin/tm_upsell/N_cms_new_db_201104.csv', encoding='utf-8-sig')"
   ]
  },
  {
   "cell_type": "code",
   "execution_count": null,
   "metadata": {},
   "outputs": [],
   "source": []
  },
  {
   "cell_type": "code",
   "execution_count": null,
   "metadata": {},
   "outputs": [],
   "source": []
  },
  {
   "cell_type": "code",
   "execution_count": null,
   "metadata": {},
   "outputs": [],
   "source": []
  },
  {
   "cell_type": "code",
   "execution_count": null,
   "metadata": {},
   "outputs": [],
   "source": []
  },
  {
   "cell_type": "code",
   "execution_count": null,
   "metadata": {},
   "outputs": [],
   "source": []
  },
  {
   "cell_type": "code",
   "execution_count": null,
   "metadata": {},
   "outputs": [],
   "source": []
  },
  {
   "cell_type": "code",
   "execution_count": null,
   "metadata": {},
   "outputs": [],
   "source": []
  },
  {
   "cell_type": "code",
   "execution_count": null,
   "metadata": {},
   "outputs": [],
   "source": [
    "# magam_copy.drop(['ctnum_hash', 'kunnr_hash', 'pck_str', 'b_ymd', 'sex', 'stcd2', 'ctnum_x', 's25csq'], axis=1, inplace=True)"
   ]
  },
  {
   "cell_type": "code",
   "execution_count": null,
   "metadata": {},
   "outputs": [],
   "source": [
    "# magam_copy = magam_copy.rename(columns={\n",
    "#       'kunnr' : '고객번호',\n",
    "#       'ctnum_x' : '계약번호',\n",
    "#       'cstat' : '계약상태',\n",
    "#       'gad_name' : '상호',\n",
    "#       'gad_start' : '경비개시일',\n",
    "#       'conn_start' : '계약개시일',\n",
    "#       'conn_end' : '계약종료일',\n",
    "#       'monexp_amt' : '월정료',\n",
    "#       'conn_type' : '계약타입',\n",
    "#       'ctype_l' : '채널(대)',\n",
    "#       'ctype_m' : '채널(중)',\n",
    "#       'ctype_s' : '채널(소)',\n",
    "#       'itype_l' : '업종(대)',\n",
    "#       'itype_m' : '업종(중)',\n",
    "#       'itype_s' : '업종(소)',\n",
    "#       'name1' : '이름1',\n",
    "#       'gad_add01' : '경비물건주소',\n",
    "#       'post_add01' : '우편물수령지주소1',\n",
    "#       'first_bildate' : '최초청구일',\n",
    "#       'telf2' : '전화번호',\n",
    "#       'line_type' : '관제회선구분',\n",
    "#       'uptae' : '업태',\n",
    "#       'jongmok' : '종목',\n",
    "#       'gros_code' : '그로스코드',\n",
    "#       'gross_type' : '그로스타입',\n",
    "#       'kvgr4' : '세그먼트',\n",
    "#       'gad_pstlz' : '우편번호',\n",
    "#       'gad_add02' : '경비물건주소상세',\n",
    "#       'post_add02' : '우편물수령지주소2',\n",
    "#       'sms_yn' : 'SMS동의',\n",
    "#       'email_yn' : 'EMAIL동의',\n",
    "#       'tm_yn' : 'TM동의',\n",
    "#       'dm_yn' : 'DM동의',\n",
    "#       'sk1_yn' : 'SK1동의',\n",
    "#       'sk2_yn' : 'SK2동의',\n",
    "#       'adt1_yn' : '마케팅수신동의',\n",
    "#       'aedat' : '작업일자',\n",
    "#       'aenam' : '변경자',\n",
    "#       'ctrt_id' : 'n사계약번호',\n",
    "#       'rqnum' : '변경요청번호',\n",
    "#       'ins_type' : '보험구분',\n",
    "#       'ins_amt' : '보험금액',\n",
    "#       'ins_amt_type' : '배상액구분',\n",
    "#       'ins_payment' : '보험납부금액',\n",
    "#       'ins_stat' : '보험현상태구분',\n",
    "#       'ins_stat_nm' : '보험현상태구분이름',\n",
    "#       'ins_amt_type_nm' : '배상액구분이름',\n",
    "#       'talkenddate' : '최종접촉일',\n",
    "#       'contactendtime' : '최종접촉시간',\n",
    "#       'dialresultcd' : '최종접촉결과',\n",
    "#       'contact_cnt' : '접촉회차'\n",
    "# })"
   ]
  },
  {
   "cell_type": "code",
   "execution_count": null,
   "metadata": {},
   "outputs": [],
   "source": [
    "# magam_copy.to_csv('/home/skinet/hojin/tm_upsell/9월마감.csv', encoding='utf-8-sig')"
   ]
  },
  {
   "cell_type": "code",
   "execution_count": null,
   "metadata": {},
   "outputs": [],
   "source": [
    "# magam_copy.shape"
   ]
  },
  {
   "cell_type": "code",
   "execution_count": null,
   "metadata": {},
   "outputs": [],
   "source": [
    "hash_table = load_from_athena(conn, '''\n",
    "SELECT *\n",
    "  FROM adt_work.hash_info\n",
    "'''\n",
    "                             )"
   ]
  },
  {
   "cell_type": "code",
   "execution_count": null,
   "metadata": {},
   "outputs": [],
   "source": []
  }
 ],
 "metadata": {
  "kernelspec": {
   "display_name": "Python 3",
   "language": "python",
   "name": "python3"
  },
  "language_info": {
   "codemirror_mode": {
    "name": "ipython",
    "version": 3
   },
   "file_extension": ".py",
   "mimetype": "text/x-python",
   "name": "python",
   "nbconvert_exporter": "python",
   "pygments_lexer": "ipython3",
   "version": "3.6.8"
  }
 },
 "nbformat": 4,
 "nbformat_minor": 4
}
