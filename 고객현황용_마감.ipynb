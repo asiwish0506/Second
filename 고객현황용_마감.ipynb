{
 "cells": [
  {
   "cell_type": "code",
   "execution_count": 1,
   "metadata": {},
   "outputs": [],
   "source": [
    "import pandas as pd\n",
    "import numpy as np\n",
    "import matplotlib.pyplot as plt\n",
    "import seaborn as sns\n",
    "from datetime import datetime, date, timedelta\n",
    "from dateutil.relativedelta import relativedelta\n",
    "import time\n",
    "import warnings\n",
    "warnings.filterwarnings(\"ignore\")"
   ]
  },
  {
   "cell_type": "code",
   "execution_count": 2,
   "metadata": {},
   "outputs": [],
   "source": [
    "month = '202011'"
   ]
  },
  {
   "cell_type": "code",
   "execution_count": 3,
   "metadata": {},
   "outputs": [
    {
     "name": "stdout",
     "output_type": "stream",
     "text": [
      "...tmp_db name = tmp_20201207_10_17_22_107eb78ec09969947151f8dc510d23e8fae9a2b9\n",
      "Start creating table\n",
      "drop table if exists default.tmp_20201207_10_17_22_107eb78ec09969947151f8dc510d23e8fae9a2b9\n",
      "<< table not exist\n",
      "\n",
      "        create  table         default.tmp_20201207_10_17_22_107eb78ec09969947151f8dc510d23e8fae9a2b9\n",
      "        with (format='Parquet', parquet_compression='GZIP')\n",
      "        as\n",
      "        \n",
      "\n",
      "    SELECT DISTINCT a.kcalss\n",
      "     , a.conn_dept\n",
      "     , a.conn_emp\n",
      "     , a.cost_dept\n",
      "     , a.cost_emp\n",
      "     , a.ctnum\n",
      "     , a.cstat\n",
      "     , a.gad_name\n",
      "     , a.gad_start\n",
      "     , a.conn_start\n",
      "     , a.conn_end\n",
      "     , CAST(a.monexp_amt AS DOUBLE) AS monexp_amt\n",
      "     , a.conn_type\n",
      "     , a.ctype_l\n",
      "     , a.ctype_m\n",
      "     , a.intro_asp\n",
      "     , a.itype_l\n",
      "     , a.itype_m\n",
      "     , a.itype_s\n",
      "     , a.itype_sdesc\n",
      "     , a.kunnr\n",
      "     , c.name1\n",
      "     , a.gad_add01\n",
      "     , a.post_add01\n",
      "     , a.first_bildate\n",
      "     , c.telf2\n",
      "--     , (SELECT ETAX_EMAIL FROM SAP.ZSDT4021 WHERE CTNUM = A.CTNUM AND RQNUM = A.RQNUM AND AMT_TYPE = 'F3' AND MANDT = '100') AS 전자계산서EMAIL\n",
      "--     , (SELECT GROS_CODE FROM SAP.ZSDT1110 WHERE KUNNR = A.KUNNR AND MANDT = '100' AND BUKRS = '1000') AS GROSCODE\n",
      "     , a.svc_str\n",
      "     , a.pay_type\n",
      "     , a.depo_type\n",
      "     , a.line_type\n",
      "     , a.pck_str\n",
      "--     , (SELECT BIR_DATE FROM SAP.ZSDT1110 WHERE KUNNR = A.KUNNR AND MANDT = '100' AND BUKRS = '1000') AS 생년월일\n",
      "     , SUBSTR(c.stcd1, 1 ,6) AS B_YMD\n",
      "     , SUBSTR(c.stcd1, 7 ,1) AS SEX\n",
      "     , c.stcd2\n",
      "     , a.gros_code\n",
      "     , a.gross_type\n",
      "     , a.kvgr4\n",
      "     , a.gad_pstlz\n",
      "     , a.gad_add02\n",
      "     , a.post_add02\n",
      "     , b.result1\n",
      "     , b.result2\n",
      "     , b.result3\n",
      "     , b.result4\n",
      "     , b.result5\n",
      "     , b.result6\n",
      "     , b.sms_yn\n",
      "     , b.email_yn\n",
      "     , b.tm_yn\n",
      "     , b.dm_yn\n",
      "     , b.sk1_yn\n",
      "     , b.sk2_yn\n",
      "     , b.adt1_yn\n",
      "     , b.aedat\n",
      "     , b.aenam\n",
      "  FROM sap.zsdt4013      AS a \n",
      "  LEFT JOIN (SELECT ctnum, kunnr, sms_yn, email_yn, tm_yn, dm_yn, sk1_yn, sk2_yn, adt1_yn, aedat, aenam, result1, result2, result3, result4, result5, result6 FROM sap.zsdt3748 WHERE usest = 'X') AS b\n",
      "        ON a.ctnum = b.ctnum\n",
      "  LEFT JOIN (SELECT kunnr, stcd2, stcd1, telf2, name1 FROM sap.kna1 WHERE mandt = '100') AS c\n",
      "        ON a.kunnr = c.kunnr\n",
      "  WHERE a.mandt = '100' \n",
      "    AND a.stmon = '202011'  --년월 변경\n",
      "    AND a.bukrs = '1000'\n",
      "    AND a.cstat IN ('1','2');\n",
      "\n",
      "\n",
      "..........\n",
      ">> Athena Query Success!!\n",
      ">> Athena Query EXCUTION COMPLETE....\n",
      ">> S3 FILE GENERATION SUCCESS!! (File count: 21)\n",
      "Elapsed Time = 70.03\n",
      ">> Start downloading table\n",
      "aws s3 cp s3://adt-sandbox/dsc/tables/ba4ac96a-b0a7-4f4f-a169-12ae333c94d7 /home/skinet/tmp/tmp_20201207_10_17_22_107eb78ec09969947151f8dc510d23e8fae9a2b9 --recursive\n",
      "Elapsed Time = 29.55\n",
      ">> Loading data\n",
      "Dropping tmp db\n",
      "<< Delete s3://adt-sandbox/dsc/tables/ba4ac96a-b0a7-4f4f-a169-12ae333c94d7\n",
      "Removing tmp_dir!\n",
      "Elapsed Time for downloading and loading = 13.49\n",
      "Total Elapsed Time = 113.08\n"
     ]
    }
   ],
   "source": [
    "from skinet.utils.athena_tools import *\n",
    "conn = athena_connection()\n",
    "df = load_from_athena(conn, '''\n",
    "\n",
    "    SELECT DISTINCT a.kcalss\n",
    "     , a.conn_dept\n",
    "     , a.conn_emp\n",
    "     , a.cost_dept\n",
    "     , a.cost_emp\n",
    "     , a.ctnum\n",
    "     , a.cstat\n",
    "     , a.gad_name\n",
    "     , a.gad_start\n",
    "     , a.conn_start\n",
    "     , a.conn_end\n",
    "     , CAST(a.monexp_amt AS DOUBLE) AS monexp_amt\n",
    "     , a.conn_type\n",
    "     , a.ctype_l\n",
    "     , a.ctype_m\n",
    "     , a.intro_asp\n",
    "     , a.itype_l\n",
    "     , a.itype_m\n",
    "     , a.itype_s\n",
    "     , a.itype_sdesc\n",
    "     , a.kunnr\n",
    "     , c.name1\n",
    "     , a.gad_add01\n",
    "     , a.post_add01\n",
    "     , a.first_bildate\n",
    "     , c.telf2\n",
    "--     , (SELECT ETAX_EMAIL FROM SAP.ZSDT4021 WHERE CTNUM = A.CTNUM AND RQNUM = A.RQNUM AND AMT_TYPE = 'F3' AND MANDT = '100') AS 전자계산서EMAIL\n",
    "--     , (SELECT GROS_CODE FROM SAP.ZSDT1110 WHERE KUNNR = A.KUNNR AND MANDT = '100' AND BUKRS = '1000') AS GROSCODE\n",
    "     , a.svc_str\n",
    "     , a.pay_type\n",
    "     , a.depo_type\n",
    "     , a.line_type\n",
    "     , a.pck_str\n",
    "--     , (SELECT BIR_DATE FROM SAP.ZSDT1110 WHERE KUNNR = A.KUNNR AND MANDT = '100' AND BUKRS = '1000') AS 생년월일\n",
    "     , SUBSTR(c.stcd1, 1 ,6) AS B_YMD\n",
    "     , SUBSTR(c.stcd1, 7 ,1) AS SEX\n",
    "     , c.stcd2\n",
    "     , a.gros_code\n",
    "     , a.gross_type\n",
    "     , a.kvgr4\n",
    "     , a.gad_pstlz\n",
    "     , a.gad_add02\n",
    "     , a.post_add02\n",
    "     , b.result1\n",
    "     , b.result2\n",
    "     , b.result3\n",
    "     , b.result4\n",
    "     , b.result5\n",
    "     , b.result6\n",
    "     , b.sms_yn\n",
    "     , b.email_yn\n",
    "     , b.tm_yn\n",
    "     , b.dm_yn\n",
    "     , b.sk1_yn\n",
    "     , b.sk2_yn\n",
    "     , b.adt1_yn\n",
    "     , b.aedat\n",
    "     , b.aenam\n",
    "  FROM sap.zsdt4013      AS a \n",
    "  LEFT JOIN (SELECT ctnum, kunnr, sms_yn, email_yn, tm_yn, dm_yn, sk1_yn, sk2_yn, adt1_yn, aedat, aenam, result1, result2, result3, result4, result5, result6 FROM sap.zsdt3748 WHERE usest = 'X') AS b\n",
    "        ON a.ctnum = b.ctnum\n",
    "  LEFT JOIN (SELECT kunnr, stcd2, stcd1, telf2, name1 FROM sap.kna1 WHERE mandt = '100') AS c\n",
    "        ON a.kunnr = c.kunnr\n",
    "  WHERE a.mandt = '100' \n",
    "    AND a.stmon = \\'{}\\'  --년월 변경\n",
    "    AND a.bukrs = '1000'\n",
    "    AND a.cstat IN ('1','2');\n",
    "\n",
    "'''.format(month)) "
   ]
  },
  {
   "cell_type": "code",
   "execution_count": 4,
   "metadata": {},
   "outputs": [
    {
     "name": "stdout",
     "output_type": "stream",
     "text": [
      "...tmp_db name = tmp_20201207_10_19_15_f91c5b6e1ffcd079a8de18ec144852ec1261ffe0\n",
      "Start creating table\n",
      "drop table if exists default.tmp_20201207_10_19_15_f91c5b6e1ffcd079a8de18ec144852ec1261ffe0\n",
      "<< table not exist\n",
      "\n",
      "        create  table         default.tmp_20201207_10_19_15_f91c5b6e1ffcd079a8de18ec144852ec1261ffe0\n",
      "        with (format='Parquet', parquet_compression='GZIP')\n",
      "        as\n",
      "        \n",
      "SELECT * \n",
      "  FROM adt_work.hash_info\n",
      "\n",
      "..\n",
      ">> Athena Query Success!!\n",
      ">> Athena Query EXCUTION COMPLETE....\n",
      ">> S3 FILE GENERATION SUCCESS!! (File count: 9)\n",
      "Elapsed Time = 19.62\n",
      ">> Start downloading table\n",
      "aws s3 cp s3://adt-sandbox/dsc/tables/cf784f4d-c7fe-46e6-b1f9-d3966daf4900 /home/skinet/tmp/tmp_20201207_10_19_15_f91c5b6e1ffcd079a8de18ec144852ec1261ffe0 --recursive\n",
      "Elapsed Time = 12.14\n",
      ">> Loading data\n",
      "Dropping tmp db\n",
      "<< Delete s3://adt-sandbox/dsc/tables/cf784f4d-c7fe-46e6-b1f9-d3966daf4900\n",
      "Removing tmp_dir!\n",
      "Elapsed Time for downloading and loading = 9.29\n",
      "Total Elapsed Time = 41.05\n"
     ]
    }
   ],
   "source": [
    "hashed = load_from_athena(conn, '''\n",
    "SELECT * \n",
    "  FROM adt_work.hash_info\n",
    "''') "
   ]
  },
  {
   "cell_type": "code",
   "execution_count": 5,
   "metadata": {},
   "outputs": [],
   "source": [
    "full = pd.merge(df, hashed, how='left', left_on='ctnum', right_on='ctnum_hash')"
   ]
  },
  {
   "cell_type": "code",
   "execution_count": 6,
   "metadata": {},
   "outputs": [],
   "source": [
    "full = full[['kunnr_y', 'ctnum_y', 'conn_dept', 'conn_emp', 'cost_dept', 'cost_emp', \n",
    "             'cstat', 'gad_name', 'gad_start', 'conn_start', 'conn_end', 'monexp_amt',\n",
    "             'conn_type', 'ctype_l', 'ctype_m', 'intro_asp', 'itype_l', 'itype_m', \n",
    "             'itype_s', 'itype_sdesc', 'name1', 'gad_add01', 'post_add01', 'first_bildate',\n",
    "             'telf2', 'svc_str', 'pay_type', 'depo_type', 'line_type', 'pck_str', 'b_ymd',\n",
    "             'sex', 'stcd2', 'gros_code', 'gross_type', 'kvgr4', 'gad_pstlz', 'gad_add02', \n",
    "             'post_add02', 'result1', 'result2', 'result3', 'result4', 'result5', 'result6',\n",
    "             'sms_yn', 'email_yn', 'tm_yn', 'dm_yn', 'sk1_yn', 'sk2_yn']]"
   ]
  },
  {
   "cell_type": "code",
   "execution_count": 7,
   "metadata": {},
   "outputs": [],
   "source": [
    "# cond1 = (full['conn_type'] == 'A01') | (full['conn_type'] == 'A02')\n",
    "# cond2 = (full['gross_type'] != \"Y\")                \n",
    "# cond3 = (full['gros_code'] == ' ')         "
   ]
  },
  {
   "cell_type": "code",
   "execution_count": 8,
   "metadata": {},
   "outputs": [],
   "source": [
    "# full = full[cond1 & cond2 & cond3]"
   ]
  },
  {
   "cell_type": "code",
   "execution_count": 9,
   "metadata": {},
   "outputs": [],
   "source": [
    "# code_table = pd.read_csv('/home/skinet/hojin/코드테이블.csv')"
   ]
  },
  {
   "cell_type": "code",
   "execution_count": 10,
   "metadata": {},
   "outputs": [],
   "source": [
    "# channel_l = code_table[code_table['table'] == '채널(대)'][['code', 'value']]"
   ]
  },
  {
   "cell_type": "code",
   "execution_count": 11,
   "metadata": {},
   "outputs": [],
   "source": [
    "# full = pd.merge(full, channel_l, how='left', left_on='ctype_l', right_on='code')\n",
    "# full.rename(columns={'value' : '채널(대)'}, inplace=True)\n",
    "# full.drop(['code', 'ctype_l'], axis=1, inplace=True)"
   ]
  },
  {
   "cell_type": "code",
   "execution_count": 12,
   "metadata": {},
   "outputs": [],
   "source": [
    "# upjong_m = code_table[code_table['table'] == '업종(중)'][['code', 'value']]"
   ]
  },
  {
   "cell_type": "code",
   "execution_count": 13,
   "metadata": {},
   "outputs": [],
   "source": [
    "# full = pd.merge(full, upjong_m, how='left', left_on='itype_m', right_on='code')\n",
    "# full.rename(columns={'value' : '업종(중)'}, inplace=True)\n",
    "# full.drop(['code', 'itype_m'], axis=1, inplace=True)"
   ]
  },
  {
   "cell_type": "code",
   "execution_count": 14,
   "metadata": {},
   "outputs": [],
   "source": [
    "# napip = code_table[code_table['table'] == '납입방법'][['code', 'value']] "
   ]
  },
  {
   "cell_type": "code",
   "execution_count": 15,
   "metadata": {},
   "outputs": [],
   "source": [
    "# full = pd.merge(full, napip, how='left', left_on='pay_type', right_on='code')\n",
    "# full.rename(columns={'value' : '납입방법'}, inplace=True)\n",
    "# full.drop(['code', 'pay_type'], axis=1, inplace=True)"
   ]
  },
  {
   "cell_type": "code",
   "execution_count": 16,
   "metadata": {},
   "outputs": [],
   "source": [
    "# ipgum = code_table[code_table['table'] == '입금방법'][['code', 'value']] "
   ]
  },
  {
   "cell_type": "code",
   "execution_count": 17,
   "metadata": {},
   "outputs": [],
   "source": [
    "# ipgum.code = ipgum.code.str.zfill(2)"
   ]
  },
  {
   "cell_type": "code",
   "execution_count": 18,
   "metadata": {},
   "outputs": [],
   "source": [
    "# full = pd.merge(full, ipgum, how='left', left_on='depo_type', right_on='code')\n",
    "# full.rename(columns={'value' : '입금방법'}, inplace=True)\n",
    "# # full.drop(['code', 'depo_type'], axis=1, inplace=True)"
   ]
  },
  {
   "cell_type": "code",
   "execution_count": 19,
   "metadata": {},
   "outputs": [],
   "source": [
    "# upjong_s = code_table[code_table['table'] == '업종(소)'][['code', 'value']] "
   ]
  },
  {
   "cell_type": "code",
   "execution_count": 20,
   "metadata": {},
   "outputs": [],
   "source": [
    "# upjong_s.code = upjong_s.code.str.zfill(3)"
   ]
  },
  {
   "cell_type": "code",
   "execution_count": 21,
   "metadata": {},
   "outputs": [],
   "source": [
    "# full = pd.merge(full, upjong_s, how='left', left_on='itype_s', right_on='code')\n",
    "# full.rename(columns={'value' : '업종(소)'}, inplace=True)\n",
    "# full.drop(['code', 'itype_s'], axis=1, inplace=True)"
   ]
  },
  {
   "cell_type": "code",
   "execution_count": 22,
   "metadata": {},
   "outputs": [],
   "source": [
    "# post = pd.read_csv('/home/skinet/hojin/신우편번호_광역시도명.csv')\n",
    "# post['신.우편번호 앞 2자리'] = post['신.우편번호 앞 2자리'].astype(str)\n",
    "# post['신.우편번호 앞 2자리'] = post['신.우편번호 앞 2자리'].str.zfill(2)"
   ]
  },
  {
   "cell_type": "code",
   "execution_count": 23,
   "metadata": {},
   "outputs": [],
   "source": [
    "# full['temp'] = full['gad_pstlz'].str[0:2]"
   ]
  },
  {
   "cell_type": "code",
   "execution_count": 24,
   "metadata": {},
   "outputs": [],
   "source": [
    "# full = pd.merge(full, post, how='left', left_on='temp', right_on='신.우편번호 앞 2자리')\n",
    "# full.rename(columns={'광역시도명' : '시도1'}, inplace=True)\n",
    "# full.drop(['신.우편번호 앞 2자리', 'temp'], axis=1, inplace=True)"
   ]
  },
  {
   "cell_type": "code",
   "execution_count": 25,
   "metadata": {},
   "outputs": [],
   "source": [
    "# cond = [\n",
    "#       full['gad_add01'].str.contains('서울|특별', regex=True),\n",
    "#       full['gad_add01'].str.contains('경기|경기도', regex=True),\n",
    "#       full['gad_add01'].str.contains('인천', regex=True),\n",
    "#       full['gad_add01'].str.contains('강원', regex=True),\n",
    "#       full['gad_add01'].str.contains('충북|충청북도', regex=True),\n",
    "#       full['gad_add01'].str.contains('세종', regex=True),\n",
    "#       full['gad_add01'].str.contains('충남|충청남도', regex=True),\n",
    "#       full['gad_add01'].str.contains('대전', regex=True),\n",
    "#       full['gad_add01'].str.contains('경북|경상북도', regex=True),\n",
    "#       full['gad_add01'].str.contains('대구', regex=True),\n",
    "#       full['gad_add01'].str.contains('울산', regex=True),\n",
    "#       full['gad_add01'].str.contains('부산', regex=True),\n",
    "#       full['gad_add01'].str.contains('경남|경상남도', regex=True),\n",
    "#       full['gad_add01'].str.contains('전북|전라북도', regex=True),\n",
    "#       full['gad_add01'].str.contains('전남|전라남도', regex=True),\n",
    "#       full['gad_add01'].str.contains('광주', regex=True),\n",
    "#       full['gad_add01'].str.contains('제주', regex=True)\n",
    "# ]\n",
    "\n",
    "# choice = ['서울', '경기', '인천', '강원', '충북', '세종', '충남', '대전', \n",
    "#           '경북', '대구', '울산', '부산', '경남', '전북', '전남', '광주', '제주']"
   ]
  },
  {
   "cell_type": "code",
   "execution_count": 26,
   "metadata": {},
   "outputs": [],
   "source": [
    "# full['시도2'] = np.select(cond, choice)"
   ]
  },
  {
   "cell_type": "code",
   "execution_count": 27,
   "metadata": {},
   "outputs": [],
   "source": [
    "# full['시도'] = np.where(full['시도1'].isnull() == True, full['시도2'], full['시도1'])\n",
    "# full.drop(['시도1', '시도2'], axis=1, inplace=True)"
   ]
  },
  {
   "cell_type": "code",
   "execution_count": 28,
   "metadata": {},
   "outputs": [],
   "source": [
    "# full['monexp_amt'] = full['monexp_amt']*100"
   ]
  },
  {
   "cell_type": "code",
   "execution_count": 29,
   "metadata": {},
   "outputs": [],
   "source": [
    "# bins = [0, 60000, 80000, 100000, 120000, 140000, 160000, 200000, np.inf]\n",
    "# labels = ['~60k', '~80k', '~100k', '~120k', '~140k', '~160k', '~200k', '200k~']\n",
    "\n",
    "# full['월정료'] = pd.cut(full['monexp_amt'], bins=bins, labels=labels)"
   ]
  },
  {
   "cell_type": "code",
   "execution_count": 30,
   "metadata": {},
   "outputs": [],
   "source": [
    "today = datetime.today()\n",
    "\n",
    "year = str(today.year)[2:4]\n",
    "month = str(today.month - 1).zfill(2) \n",
    "\n",
    "first_day = today.replace(day=1)\n",
    "last_day_month_ago = first_day - timedelta(days=1)\n",
    "\n",
    "\n",
    "day = str(last_day_month_ago.day)\n",
    "\n",
    "filename = year + '년' + month + '월' + '_마감.csv'"
   ]
  },
  {
   "cell_type": "code",
   "execution_count": 31,
   "metadata": {},
   "outputs": [],
   "source": [
    "# full.loc[full['gad_start'] == '00000000', 'gad_start'] = '29991231'\n",
    "# full.loc[full['gad_start'] == ' ', 'gad_start'] = '29991231'"
   ]
  },
  {
   "cell_type": "code",
   "execution_count": 32,
   "metadata": {},
   "outputs": [],
   "source": [
    "# full['gad_start_new'] = full['gad_start'].apply(lambda x : datetime.strptime(x, '%Y%m%d'))"
   ]
  },
  {
   "cell_type": "code",
   "execution_count": 33,
   "metadata": {},
   "outputs": [],
   "source": [
    "# full['유지기간_'] = full['gad_start_new'].apply(lambda x : relativedelta(last_day_month_ago, x).years)"
   ]
  },
  {
   "cell_type": "code",
   "execution_count": 34,
   "metadata": {},
   "outputs": [],
   "source": [
    "# full.drop('gad_start_new', axis=1, inplace=True)"
   ]
  },
  {
   "cell_type": "code",
   "execution_count": null,
   "metadata": {},
   "outputs": [],
   "source": [
    "# bins = [-np.inf, -0.000001, 1, 3, 5, 7, 10, np.inf]\n",
    "# labels =  ['데이터 없음', '~1년', '~3년', '~5년', '~7년', '~10년', '10년~']\n",
    "\n",
    "# full['유지기간'] = pd.cut(full['유지기간_'], bins=bins, labels=labels)\n",
    "\n",
    "# full.drop('유지기간_', axis=1, inplace=True)"
   ]
  },
  {
   "cell_type": "code",
   "execution_count": 35,
   "metadata": {},
   "outputs": [
    {
     "data": {
      "text/plain": [
       "Index(['kunnr_y', 'ctnum_y', 'conn_dept', 'conn_emp', 'cost_dept', 'cost_emp',\n",
       "       'cstat', 'gad_name', 'gad_start', 'conn_start', 'conn_end',\n",
       "       'monexp_amt', 'conn_type', 'ctype_l', 'ctype_m', 'intro_asp', 'itype_l',\n",
       "       'itype_m', 'itype_s', 'itype_sdesc', 'name1', 'gad_add01', 'post_add01',\n",
       "       'first_bildate', 'telf2', 'svc_str', 'pay_type', 'depo_type',\n",
       "       'line_type', 'pck_str', 'b_ymd', 'sex', 'stcd2', 'gros_code',\n",
       "       'gross_type', 'kvgr4', 'gad_pstlz', 'gad_add02', 'post_add02',\n",
       "       'result1', 'result2', 'result3', 'result4', 'result5', 'result6',\n",
       "       'sms_yn', 'email_yn', 'tm_yn', 'dm_yn', 'sk1_yn', 'sk2_yn'],\n",
       "      dtype='object')"
      ]
     },
     "execution_count": 35,
     "metadata": {},
     "output_type": "execute_result"
    }
   ],
   "source": [
    "full.columns"
   ]
  },
  {
   "cell_type": "code",
   "execution_count": 36,
   "metadata": {},
   "outputs": [],
   "source": [
    "full = full.rename(columns={\n",
    "    'conn_dept' : '경비부서',\n",
    "    'ctnum_y' : '계약번호',\n",
    "    'cstat' : '현상태',\n",
    "    'gad_start' : '경비개시일',\n",
    "    'monexp_amt' : '월정료',\n",
    "    'conn_type' : '계약타입',\n",
    "    'ctype_l' : '채널(대)',\n",
    "    'ctype_m' : '채널(중)',\n",
    "    'itype_l' : '업종(대)',\n",
    "    'itype_m' : '업종(중)',\n",
    "    'itype_s' : '업종(소)',\n",
    "    'svc_str' : '제공서비스코드',\n",
    "    'pay_type' : '납입방법',\n",
    "    'depo_type' : '입금방법',\n",
    "    'gross_type' : '그로스적용',\n",
    "    'gros_code' : '그로스코드',\n",
    "    'kvgr4' : '세그먼트',\n",
    "    'gad_pstlz' : '우편번호',\n",
    "    'first_bildate' : '최초청구일'\n",
    "})"
   ]
  },
  {
   "cell_type": "code",
   "execution_count": 37,
   "metadata": {},
   "outputs": [],
   "source": [
    "full['생년월일'] = np.nan\n",
    "full['주민번호생년월일'] = np.nan\n",
    "full['성별구분'] = np.nan"
   ]
  },
  {
   "cell_type": "code",
   "execution_count": 38,
   "metadata": {},
   "outputs": [],
   "source": [
    "full = full[['경비부서', '계약번호', '현상태', '경비개시일', '월정료', '계약타입', '채널(대)', '채널(중)', '업종(대)', '업종(중)', '업종(소)', '제공서비스코드', \n",
    "             '납입방법', '입금방법', '생년월일', '주민번호생년월일', '성별구분', '그로스적용', '그로스코드', '세그먼트', '우편번호', '최초청구일']]"
   ]
  },
  {
   "cell_type": "code",
   "execution_count": 39,
   "metadata": {},
   "outputs": [
    {
     "data": {
      "text/html": [
       "<div>\n",
       "<style scoped>\n",
       "    .dataframe tbody tr th:only-of-type {\n",
       "        vertical-align: middle;\n",
       "    }\n",
       "\n",
       "    .dataframe tbody tr th {\n",
       "        vertical-align: top;\n",
       "    }\n",
       "\n",
       "    .dataframe thead th {\n",
       "        text-align: right;\n",
       "    }\n",
       "</style>\n",
       "<table border=\"1\" class=\"dataframe\">\n",
       "  <thead>\n",
       "    <tr style=\"text-align: right;\">\n",
       "      <th></th>\n",
       "      <th>경비부서</th>\n",
       "      <th>계약번호</th>\n",
       "      <th>현상태</th>\n",
       "      <th>경비개시일</th>\n",
       "      <th>월정료</th>\n",
       "      <th>계약타입</th>\n",
       "      <th>채널(대)</th>\n",
       "      <th>채널(중)</th>\n",
       "      <th>업종(대)</th>\n",
       "      <th>업종(중)</th>\n",
       "      <th>...</th>\n",
       "      <th>납입방법</th>\n",
       "      <th>입금방법</th>\n",
       "      <th>생년월일</th>\n",
       "      <th>주민번호생년월일</th>\n",
       "      <th>성별구분</th>\n",
       "      <th>그로스적용</th>\n",
       "      <th>그로스코드</th>\n",
       "      <th>세그먼트</th>\n",
       "      <th>우편번호</th>\n",
       "      <th>최초청구일</th>\n",
       "    </tr>\n",
       "  </thead>\n",
       "  <tbody>\n",
       "    <tr>\n",
       "      <th>0</th>\n",
       "      <td>551300</td>\n",
       "      <td>220065786</td>\n",
       "      <td>1</td>\n",
       "      <td>20200410</td>\n",
       "      <td>350.00</td>\n",
       "      <td>A02</td>\n",
       "      <td>A00</td>\n",
       "      <td>A01</td>\n",
       "      <td>1</td>\n",
       "      <td>10</td>\n",
       "      <td>...</td>\n",
       "      <td>2</td>\n",
       "      <td>03</td>\n",
       "      <td>NaN</td>\n",
       "      <td>NaN</td>\n",
       "      <td>NaN</td>\n",
       "      <td></td>\n",
       "      <td></td>\n",
       "      <td>C2</td>\n",
       "      <td>14001</td>\n",
       "      <td>20200413</td>\n",
       "    </tr>\n",
       "    <tr>\n",
       "      <th>1</th>\n",
       "      <td>551600</td>\n",
       "      <td>220065935</td>\n",
       "      <td>1</td>\n",
       "      <td>20200410</td>\n",
       "      <td>810.00</td>\n",
       "      <td>A01</td>\n",
       "      <td>E00</td>\n",
       "      <td>E01</td>\n",
       "      <td>4</td>\n",
       "      <td>20</td>\n",
       "      <td>...</td>\n",
       "      <td>2</td>\n",
       "      <td>0Q</td>\n",
       "      <td>NaN</td>\n",
       "      <td>NaN</td>\n",
       "      <td>NaN</td>\n",
       "      <td></td>\n",
       "      <td></td>\n",
       "      <td>C3</td>\n",
       "      <td>22752</td>\n",
       "      <td>20200413</td>\n",
       "    </tr>\n",
       "    <tr>\n",
       "      <th>2</th>\n",
       "      <td>551600</td>\n",
       "      <td>220065935</td>\n",
       "      <td>1</td>\n",
       "      <td>20200410</td>\n",
       "      <td>810.00</td>\n",
       "      <td>A01</td>\n",
       "      <td>E00</td>\n",
       "      <td>E01</td>\n",
       "      <td>4</td>\n",
       "      <td>20</td>\n",
       "      <td>...</td>\n",
       "      <td>2</td>\n",
       "      <td>0Q</td>\n",
       "      <td>NaN</td>\n",
       "      <td>NaN</td>\n",
       "      <td>NaN</td>\n",
       "      <td></td>\n",
       "      <td></td>\n",
       "      <td>C3</td>\n",
       "      <td>22752</td>\n",
       "      <td>20200413</td>\n",
       "    </tr>\n",
       "    <tr>\n",
       "      <th>3</th>\n",
       "      <td>130630</td>\n",
       "      <td>220066390</td>\n",
       "      <td>1</td>\n",
       "      <td>20200421</td>\n",
       "      <td>170.45</td>\n",
       "      <td>A01</td>\n",
       "      <td>W00</td>\n",
       "      <td>M14</td>\n",
       "      <td>4</td>\n",
       "      <td>21</td>\n",
       "      <td>...</td>\n",
       "      <td>3</td>\n",
       "      <td>0Q</td>\n",
       "      <td>NaN</td>\n",
       "      <td>NaN</td>\n",
       "      <td>NaN</td>\n",
       "      <td></td>\n",
       "      <td></td>\n",
       "      <td>C4</td>\n",
       "      <td>04580</td>\n",
       "      <td>20200501</td>\n",
       "    </tr>\n",
       "    <tr>\n",
       "      <th>4</th>\n",
       "      <td>550140</td>\n",
       "      <td>220119579</td>\n",
       "      <td>1</td>\n",
       "      <td>20200625</td>\n",
       "      <td>1000.00</td>\n",
       "      <td>A01</td>\n",
       "      <td>A00</td>\n",
       "      <td>A01</td>\n",
       "      <td>4</td>\n",
       "      <td>21</td>\n",
       "      <td>...</td>\n",
       "      <td>2</td>\n",
       "      <td>03</td>\n",
       "      <td>NaN</td>\n",
       "      <td>NaN</td>\n",
       "      <td>NaN</td>\n",
       "      <td></td>\n",
       "      <td></td>\n",
       "      <td>C4</td>\n",
       "      <td>15057</td>\n",
       "      <td>20200626</td>\n",
       "    </tr>\n",
       "  </tbody>\n",
       "</table>\n",
       "<p>5 rows × 22 columns</p>\n",
       "</div>"
      ],
      "text/plain": [
       "     경비부서       계약번호 현상태     경비개시일      월정료 계약타입 채널(대) 채널(중) 업종(대) 업종(중)  ...  \\\n",
       "0  551300  220065786   1  20200410   350.00  A02   A00   A01     1    10  ...   \n",
       "1  551600  220065935   1  20200410   810.00  A01   E00   E01     4    20  ...   \n",
       "2  551600  220065935   1  20200410   810.00  A01   E00   E01     4    20  ...   \n",
       "3  130630  220066390   1  20200421   170.45  A01   W00   M14     4    21  ...   \n",
       "4  550140  220119579   1  20200625  1000.00  A01   A00   A01     4    21  ...   \n",
       "\n",
       "  납입방법 입금방법 생년월일 주민번호생년월일  성별구분  그로스적용  그로스코드 세그먼트   우편번호     최초청구일  \n",
       "0    2   03  NaN      NaN   NaN                 C2  14001  20200413  \n",
       "1    2   0Q  NaN      NaN   NaN                 C3  22752  20200413  \n",
       "2    2   0Q  NaN      NaN   NaN                 C3  22752  20200413  \n",
       "3    3   0Q  NaN      NaN   NaN                 C4  04580  20200501  \n",
       "4    2   03  NaN      NaN   NaN                 C4  15057  20200626  \n",
       "\n",
       "[5 rows x 22 columns]"
      ]
     },
     "execution_count": 39,
     "metadata": {},
     "output_type": "execute_result"
    }
   ],
   "source": [
    "full.head()"
   ]
  },
  {
   "cell_type": "code",
   "execution_count": 40,
   "metadata": {},
   "outputs": [],
   "source": [
    "full = full.drop_duplicates()"
   ]
  },
  {
   "cell_type": "code",
   "execution_count": 41,
   "metadata": {},
   "outputs": [],
   "source": [
    "full.to_csv(year+'년'+month+'월_고객현황용_마감.csv', encoding='utf-8-sig')"
   ]
  },
  {
   "cell_type": "code",
   "execution_count": null,
   "metadata": {},
   "outputs": [],
   "source": []
  }
 ],
 "metadata": {
  "kernelspec": {
   "display_name": "Python 3",
   "language": "python",
   "name": "python3"
  },
  "language_info": {
   "codemirror_mode": {
    "name": "ipython",
    "version": 3
   },
   "file_extension": ".py",
   "mimetype": "text/x-python",
   "name": "python",
   "nbconvert_exporter": "python",
   "pygments_lexer": "ipython3",
   "version": "3.6.8"
  }
 },
 "nbformat": 4,
 "nbformat_minor": 4
}
