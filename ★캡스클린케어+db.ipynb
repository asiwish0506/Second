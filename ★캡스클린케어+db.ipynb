{
 "cells": [
  {
   "cell_type": "code",
   "execution_count": 1,
   "metadata": {},
   "outputs": [],
   "source": [
    "import pandas as pd\n",
    "import numpy as np\n",
    "import matplotlib.pyplot as plt\n",
    "import seaborn as sns\n",
    "import warnings\n",
    "import datetime\n",
    "from dateutil.relativedelta import relativedelta\n",
    "from skinet.utils.athena_tools import *\n",
    "warnings.filterwarnings(\"ignore\")"
   ]
  },
  {
   "cell_type": "code",
   "execution_count": 2,
   "metadata": {},
   "outputs": [],
   "source": [
    "ym = '202011'                          # 전월 (몇월의 마감자료로 작업하고 있는지)\n",
    "final_call_boundary = '2020/10/01'     # 최종 통화일 기준 (이 이후 통화건이 있으면 제외)\n",
    "final_call_boundary_2 = '2020/01/01'     # 최종 통화일 기준 (이 이후 통화건이 있으면 제외)"
   ]
  },
  {
   "cell_type": "code",
   "execution_count": 3,
   "metadata": {},
   "outputs": [
    {
     "data": {
      "text/plain": [
       "'20200501'"
      ]
     },
     "execution_count": 3,
     "metadata": {},
     "output_type": "execute_result"
    }
   ],
   "source": [
    "# 6개월 전 연월일\n",
    "ymd_minus_6month = datetime.date(int(ym[0:4]), int(ym[4:6]), 1) - relativedelta(months=6)\n",
    "ymd_minus_6month = str(ymd_minus_6month.year)+str(ymd_minus_6month.month).zfill(2)+str(ymd_minus_6month.day).zfill(2)\n",
    "ymd_minus_6month"
   ]
  },
  {
   "cell_type": "code",
   "execution_count": 4,
   "metadata": {},
   "outputs": [
    {
     "data": {
      "text/plain": [
       "'2020/05/01'"
      ]
     },
     "execution_count": 4,
     "metadata": {},
     "output_type": "execute_result"
    }
   ],
   "source": [
    "# 6개월 전 연월일 (슬래쉬 형식)\n",
    "ymd_minus_6month_slash = datetime.date(int(ym[0:4]), int(ym[4:6]), 1) - relativedelta(months=6)\n",
    "ymd_minus_6month_slash = str(ymd_minus_6month_slash.year)+'/'+str(ymd_minus_6month_slash.month).zfill(2)+'/'+str(ymd_minus_6month_slash.day).zfill(2)\n",
    "ymd_minus_6month_slash"
   ]
  },
  {
   "cell_type": "code",
   "execution_count": 5,
   "metadata": {},
   "outputs": [
    {
     "data": {
      "text/plain": [
       "'20191101'"
      ]
     },
     "execution_count": 5,
     "metadata": {},
     "output_type": "execute_result"
    }
   ],
   "source": [
    "# 1년 전 연월일\n",
    "ymd_minus_1year = datetime.date(int(ym[0:4]), int(ym[4:6]), 1) - relativedelta(years=1)\n",
    "ymd_minus_1year = str(ymd_minus_1year.year)+str(ymd_minus_1year.month).zfill(2)+str(ymd_minus_1year.day).zfill(2)\n",
    "ymd_minus_1year"
   ]
  },
  {
   "cell_type": "markdown",
   "metadata": {},
   "source": [
    "## 2. 기 가입고객 테이블"
   ]
  },
  {
   "cell_type": "code",
   "execution_count": 6,
   "metadata": {},
   "outputs": [
    {
     "name": "stdout",
     "output_type": "stream",
     "text": [
      "...tmp_db name = tmp_20201222_11_04_11_f90212b83a2e2e5497dc644d5e47c6d1eacd6992\n",
      "Start creating table\n",
      "drop table if exists default.tmp_20201222_11_04_11_f90212b83a2e2e5497dc644d5e47c6d1eacd6992\n",
      "<< table not exist\n",
      "\n",
      "        create  table         default.tmp_20201222_11_04_11_f90212b83a2e2e5497dc644d5e47c6d1eacd6992\n",
      "        with (format='Parquet', parquet_compression='GZIP')\n",
      "        as\n",
      "        \n",
      "WITH t1 AS (\n",
      "SELECT DISTINCT b.ctnum AS ctnum_hash\n",
      "     , e.ctnum\n",
      "     , b.rqnum\n",
      "     , b.valid_sdate\n",
      "     , b.valid_edate\n",
      "     , b.ins_type\n",
      "     , b.ins_amt\n",
      "     , b.ins_amt_type\n",
      "     , b.ins_payment\n",
      "     , b.ins_stat\n",
      "     , b.ins_user4\n",
      "     , c.ins_stat_nm\n",
      "     , c.ins_amt_type_nm\n",
      "\t , f.gad_start\n",
      "     , d.ctnum_old\n",
      "  FROM (SELECT DISTINCT ctnum, ins_type, ins_amt, ins_amt_type, ins_payment, ins_stat, rqnum, valid_sdate, valid_edate, ins_user4\n",
      "             FROM sap.zsdt4150\n",
      "            WHERE ins_type IN ('02', '03', '05', '07')) b\n",
      "LEFT JOIN (SELECT DISTINCT ctnum, rqnum, ins_stat_nm, ins_amt_type_nm FROM mart.zsdr6051) c\n",
      "       ON b.ctnum = c.ctnum\n",
      "      AND b.rqnum = c.rqnum\n",
      "LEFT JOIN (SELECT DISTINCT ctnum, ctnum_old FROM mart.zsdr6001 WHERE ctnum_old <> '') d\n",
      "       ON b.ctnum = d.ctnum\n",
      "LEFT JOIN (SELECT DISTINCT ctnum, ctnum_hash FROM adt_work.hash_info) e\n",
      "       ON b.ctnum = e.ctnum_hash\n",
      "LEFT JOIN (SELECT ctnum, gad_start FROM sap.zsdt4013 WHERE stmon = '202011') f\n",
      "       ON b.ctnum = f.ctnum\n",
      ")\n",
      "\n",
      ", t2 AS (\n",
      "SELECT * , 'case1' AS info FROM t1 WHERE ins_stat = '1' AND ins_type = '02' AND ins_amt_type >= '20' UNION ALL\n",
      "SELECT * , 'case2' AS info FROM t1 WHERE ins_stat = '1' AND ins_type = '03' AND ins_amt_type >= '50' UNION ALL\n",
      "SELECT * , 'case3' AS info FROM t1 WHERE ins_stat = '1' AND ins_user4 = 'TM'\n",
      ")\n",
      "\n",
      "SELECT DISTINCT *\n",
      "  FROM t2\n",
      " WHERE valid_sdate <> '99991231'\n",
      "\n",
      "...\n",
      ">> Athena Query Success!!\n",
      ">> Athena Query EXCUTION COMPLETE....\n",
      ">> S3 FILE GENERATION SUCCESS!! (File count: 6)\n",
      "Elapsed Time = 30.47\n",
      ">> Start downloading table\n",
      "aws s3 cp s3://adt-sandbox/dsc/tables/8606fad0-540f-4471-baf9-96c029d819ca /home/skinet/tmp/tmp_20201222_11_04_11_f90212b83a2e2e5497dc644d5e47c6d1eacd6992 --recursive\n",
      "Elapsed Time = 8.19\n",
      ">> Loading data\n",
      "Dropping tmp db\n",
      "<< Delete s3://adt-sandbox/dsc/tables/8606fad0-540f-4471-baf9-96c029d819ca\n",
      "Removing tmp_dir!\n",
      "Elapsed Time for downloading and loading = 7.90\n",
      "Total Elapsed Time = 46.57\n"
     ]
    }
   ],
   "source": [
    "conn = athena_connection()\n",
    "gigaip = load_from_athena(conn, '''\n",
    "WITH t1 AS (\n",
    "SELECT DISTINCT b.ctnum AS ctnum_hash\n",
    "     , e.ctnum\n",
    "     , b.rqnum\n",
    "     , b.valid_sdate\n",
    "     , b.valid_edate\n",
    "     , b.ins_type\n",
    "     , b.ins_amt\n",
    "     , b.ins_amt_type\n",
    "     , b.ins_payment\n",
    "     , b.ins_stat\n",
    "     , b.ins_user4\n",
    "     , c.ins_stat_nm\n",
    "     , c.ins_amt_type_nm\n",
    "\t , f.gad_start\n",
    "     , d.ctnum_old\n",
    "  FROM (SELECT DISTINCT ctnum, ins_type, ins_amt, ins_amt_type, ins_payment, ins_stat, rqnum, valid_sdate, valid_edate, ins_user4\n",
    "             FROM sap.zsdt4150\n",
    "            WHERE ins_type IN ('02', '03', '05', '07')) b\n",
    "LEFT JOIN (SELECT DISTINCT ctnum, rqnum, ins_stat_nm, ins_amt_type_nm FROM mart.zsdr6051) c\n",
    "       ON b.ctnum = c.ctnum\n",
    "      AND b.rqnum = c.rqnum\n",
    "LEFT JOIN (SELECT DISTINCT ctnum, ctnum_old FROM mart.zsdr6001 WHERE ctnum_old <> '') d\n",
    "       ON b.ctnum = d.ctnum\n",
    "LEFT JOIN (SELECT DISTINCT ctnum, ctnum_hash FROM adt_work.hash_info) e\n",
    "       ON b.ctnum = e.ctnum_hash\n",
    "LEFT JOIN (SELECT ctnum, gad_start FROM sap.zsdt4013 WHERE stmon = \\'{}\\') f\n",
    "       ON b.ctnum = f.ctnum\n",
    ")\n",
    "\n",
    ", t2 AS (\n",
    "SELECT * , 'case1' AS info FROM t1 WHERE ins_stat = '1' AND ins_type = '02' AND ins_amt_type >= '20' UNION ALL\n",
    "SELECT * , 'case2' AS info FROM t1 WHERE ins_stat = '1' AND ins_type = '03' AND ins_amt_type >= '50' UNION ALL\n",
    "SELECT * , 'case3' AS info FROM t1 WHERE ins_stat = '1' AND ins_user4 = 'TM'\n",
    ")\n",
    "\n",
    "SELECT DISTINCT *\n",
    "  FROM t2\n",
    " WHERE valid_sdate <> '99991231'\n",
    "'''.format(ym))"
   ]
  },
  {
   "cell_type": "markdown",
   "metadata": {},
   "source": [
    "## 3. TM 실적 테이블 (계약번호, 회차, 최종접촉일, 최종접촉결과)"
   ]
  },
  {
   "cell_type": "code",
   "execution_count": 7,
   "metadata": {},
   "outputs": [
    {
     "name": "stdout",
     "output_type": "stream",
     "text": [
      "<< Delete s3://adt-sandbox/_create/tables/default.tm_upsell_result_table\n",
      "...tmp_db name = tmp_20201222_11_05_03_6d4488bb10c62f137fb665638ff9b51bb34c1cc7\n",
      "Start creating table\n",
      "drop table if exists default.tmp_20201222_11_05_03_6d4488bb10c62f137fb665638ff9b51bb34c1cc7\n",
      "<< table not exist\n",
      "\n",
      "        create  table         default.tmp_20201222_11_05_03_6d4488bb10c62f137fb665638ff9b51bb34c1cc7\n",
      "        with (format='Parquet', parquet_compression='GZIP')\n",
      "        as\n",
      "        \n",
      "WITH t1 AS (\n",
      "SELECT DISTINCT a.custid, b.kunnr, CONCAT(dialdate, ' ; ', dialtime) AS dialdate, resultcd, teamcd\n",
      "  FROM telepro.tm_list a\n",
      "LEFT JOIN (SELECT DISTINCT ctnum, kunnr, ctnum_hash, kunnr_hash FROM adt_work.hash_info) b\n",
      "      ON a.custid = b.ctnum\n",
      " WHERE teamcd IN ('313', '316')\n",
      ")\n",
      "\n",
      ", t2_temp AS (\n",
      "SELECT DISTINCT kunnr, resultcd, dialdate\n",
      "  FROM t1\n",
      "WHERE resultcd IS NOT NULL\n",
      "  AND resultcd <> ''\n",
      "  AND resultcd <> ' '\n",
      ")\n",
      "\n",
      ", t2 AS(\n",
      "SELECT a.kunnr, COUNT(a.resultcd) AS con_cnt, MAX(a.dialdate) AS final_dialdate\n",
      "  FROM t2_temp a\n",
      "LEFT JOIN (SELECT DISTINCT kunnr, kunnr_hash FROM adt_work.hash_info) b\n",
      "       ON a.kunnr = b.kunnr\n",
      "GROUP BY a.kunnr\n",
      "\n",
      ")\n",
      "\n",
      "SELECT a.*, b.resultcd\n",
      "  FROM t2 a\n",
      "LEFT JOIN (SELECT * FROM t1) b\n",
      "       ON a.kunnr = b.kunnr\n",
      "      AND a.final_dialdate = b.dialdate\n",
      "\n",
      "...\n",
      ">> Athena Query Success!!\n",
      ">> Athena Query EXCUTION COMPLETE....\n",
      ">> S3 FILE GENERATION SUCCESS!! (File count: 6)\n",
      "Elapsed Time = 26.59\n",
      ">> Start downloading table\n",
      "aws s3 cp s3://adt-sandbox/dsc/tables/8c2f9ac1-d5ce-44ee-83df-ca3921f45cf3 /home/skinet/tmp/tmp_20201222_11_05_03_6d4488bb10c62f137fb665638ff9b51bb34c1cc7 --recursive\n",
      "Elapsed Time = 7.49\n",
      ">> Loading data\n",
      "Dropping tmp db\n",
      "<< Delete s3://adt-sandbox/dsc/tables/8c2f9ac1-d5ce-44ee-83df-ca3921f45cf3\n",
      "Removing tmp_dir!\n",
      "Elapsed Time for downloading and loading = 6.32\n",
      "Total Elapsed Time = 40.40\n",
      "default.tm_upsell_result_table is_exist: False\n",
      "['kunnr string', 'con_cnt int', 'final_dialdate string', 'resultcd string']\n",
      "<< table not exist\n",
      "CREATE EXTERNAL TABLE IF NOT EXISTS default.tm_upsell_result_table (                kunnr string, con_cnt int, final_dialdate string, resultcd string                )                                stored as parquet location 's3://adt-sandbox/_create/tables/default.tm_upsell_result_table'\n",
      "\n",
      ">> Athena Query Success!!\n",
      ">> Athena Query EXCUTION COMPLETE....\n",
      "load data from local to aws s3!\n",
      "aws s3 cp /home/skinet/tmp/default.tm_upsell_result_table/ s3://adt-sandbox/_create/tables/default.tm_upsell_result_table/ --recursive\n",
      "rm /home/skinet/tmp/default.tm_upsell_result_table\n"
     ]
    },
    {
     "data": {
      "text/plain": [
       "0"
      ]
     },
     "execution_count": 7,
     "metadata": {},
     "output_type": "execute_result"
    }
   ],
   "source": [
    "conn = athena_connection()\n",
    "drop_table_in_athena(conn, 'default.tm_upsell_result_table')\n",
    "tm = load_from_athena(conn, '''\n",
    "WITH t1 AS (\n",
    "SELECT DISTINCT a.custid, b.kunnr, CONCAT(dialdate, ' ; ', dialtime) AS dialdate, resultcd, teamcd\n",
    "  FROM telepro.tm_list a\n",
    "LEFT JOIN (SELECT DISTINCT ctnum, kunnr, ctnum_hash, kunnr_hash FROM adt_work.hash_info) b\n",
    "      ON a.custid = b.ctnum\n",
    " WHERE teamcd IN ('313', '316')\n",
    ")\n",
    "\n",
    ", t2_temp AS (\n",
    "SELECT DISTINCT kunnr, resultcd, dialdate\n",
    "  FROM t1\n",
    "WHERE resultcd IS NOT NULL\n",
    "  AND resultcd <> ''\n",
    "  AND resultcd <> ' '\n",
    ")\n",
    "\n",
    ", t2 AS(\n",
    "SELECT a.kunnr, COUNT(a.resultcd) AS con_cnt, MAX(a.dialdate) AS final_dialdate\n",
    "  FROM t2_temp a\n",
    "LEFT JOIN (SELECT DISTINCT kunnr, kunnr_hash FROM adt_work.hash_info) b\n",
    "       ON a.kunnr = b.kunnr\n",
    "GROUP BY a.kunnr\n",
    "\n",
    ")\n",
    "\n",
    "SELECT a.*, b.resultcd\n",
    "  FROM t2 a\n",
    "LEFT JOIN (SELECT * FROM t1) b\n",
    "       ON a.kunnr = b.kunnr\n",
    "      AND a.final_dialdate = b.dialdate\n",
    "''')\n",
    "load_to_athena(conn, tm, 'default.tm_upsell_result_table')"
   ]
  },
  {
   "cell_type": "markdown",
   "metadata": {},
   "source": [
    "## TM 거부 이력 고객 "
   ]
  },
  {
   "cell_type": "code",
   "execution_count": 8,
   "metadata": {},
   "outputs": [
    {
     "name": "stdout",
     "output_type": "stream",
     "text": [
      "...tmp_db name = tmp_20201222_11_05_53_8598cb085908b38eb145b9f85b970a5a314660e2\n",
      "Start creating table\n",
      "drop table if exists default.tmp_20201222_11_05_53_8598cb085908b38eb145b9f85b970a5a314660e2\n",
      "<< table not exist\n",
      "\n",
      "        create  table         default.tmp_20201222_11_05_53_8598cb085908b38eb145b9f85b970a5a314660e2\n",
      "        with (format='Parquet', parquet_compression='GZIP')\n",
      "        as\n",
      "        \n",
      "SELECT DISTINCT a.custid, b.kunnr, CONCAT(dialdate, ' ; ', dialtime) AS dialdate, resultcd\n",
      "  FROM telepro.tm_list a\n",
      "LEFT JOIN (SELECT DISTINCT ctnum, kunnr, ctnum_hash, kunnr_hash FROM adt_work.hash_info) b\n",
      "      ON a.custid = b.ctnum\n",
      " WHERE resultcd = 'SE01'\n",
      "\n",
      "...\n",
      ">> Athena Query Success!!\n",
      ">> Athena Query EXCUTION COMPLETE....\n",
      ">> S3 FILE GENERATION SUCCESS!! (File count: 6)\n",
      "Elapsed Time = 25.91\n",
      ">> Start downloading table\n",
      "aws s3 cp s3://adt-sandbox/dsc/tables/5a6000fd-6dbc-42f4-9eb0-bb77dbad7bef /home/skinet/tmp/tmp_20201222_11_05_53_8598cb085908b38eb145b9f85b970a5a314660e2 --recursive\n",
      "Elapsed Time = 8.02\n",
      ">> Loading data\n",
      "Dropping tmp db\n",
      "<< Delete s3://adt-sandbox/dsc/tables/5a6000fd-6dbc-42f4-9eb0-bb77dbad7bef\n",
      "Removing tmp_dir!\n",
      "Elapsed Time for downloading and loading = 5.98\n",
      "Total Elapsed Time = 39.91\n"
     ]
    }
   ],
   "source": [
    "conn = athena_connection()\n",
    "tm_refuse = load_from_athena(conn, '''\n",
    "SELECT DISTINCT a.custid, b.kunnr, CONCAT(dialdate, ' ; ', dialtime) AS dialdate, resultcd\n",
    "  FROM telepro.tm_list a\n",
    "LEFT JOIN (SELECT DISTINCT ctnum, kunnr, ctnum_hash, kunnr_hash FROM adt_work.hash_info) b\n",
    "      ON a.custid = b.ctnum\n",
    " WHERE resultcd = 'SE01'\n",
    "''')"
   ]
  },
  {
   "cell_type": "markdown",
   "metadata": {},
   "source": [
    "## 1차 결과테이블 추출 (1번 ~ 15번 조건 반영)"
   ]
  },
  {
   "cell_type": "code",
   "execution_count": 9,
   "metadata": {},
   "outputs": [
    {
     "name": "stdout",
     "output_type": "stream",
     "text": [
      "...tmp_db name = tmp_20201222_11_06_33_01d83cdcee4c00de989ca4741c54b9de42c86891\n",
      "Start creating table\n",
      "drop table if exists default.tmp_20201222_11_06_33_01d83cdcee4c00de989ca4741c54b9de42c86891\n",
      "<< table not exist\n",
      "\n",
      "        create  table         default.tmp_20201222_11_06_33_01d83cdcee4c00de989ca4741c54b9de42c86891\n",
      "        with (format='Parquet', parquet_compression='GZIP')\n",
      "        as\n",
      "        \n",
      "WITH magam AS (\n",
      "SELECT a.*, b.con_cnt, b.final_dialdate, b.resultcd\n",
      "     , ROW_NUMBER() OVER (PARTITION BY a.kunnr ORDER BY a.conn_type ASC, a.ctnum DESC, a.aedat DESC, a.aezet DESC) AS kunnr_rownum\n",
      "  FROM default.monthly_deadline_202011 a\n",
      "LEFT JOIN default.tm_upsell_result_table b\n",
      "       ON a.kunnr = b.kunnr\n",
      "LEFT JOIN default.tm_upsell_db_temp c\n",
      "       ON a.ctnum = c.ctnum\n",
      ")\n",
      "\n",
      "-- 이 하단부터 조건들\n",
      "\n",
      ", t1 AS (\n",
      "SELECT '1' AS filter, *  FROM magam WHERE cstat <> '1'\n",
      ")\n",
      "\n",
      ", t2 AS (\n",
      "SELECT '2' AS filter, *  FROM magam WHERE itype_l <> '1' OR itype_m <> '02'\n",
      ")\n",
      "\n",
      ", t3 AS (\n",
      "SELECT '3' AS filter, *  FROM magam WHERE gros_code > '0'\n",
      ")\n",
      "\n",
      ", t4 AS (\n",
      "SELECT '4' AS filter, *  FROM magam WHERE gross_type = 'Y'\n",
      ")\n",
      "\n",
      ", t5 AS (\n",
      "SELECT '5' AS filter, * FROM magam WHERE adt1_yn = 'N'\n",
      ")\n",
      "\n",
      ", t6 AS (\n",
      "SELECT '6' AS filter, * FROM magam WHERE tm_yn = 'N' OR tm_yn IS NULL or tm_yn = '' or tm_yn = ' '\n",
      ")\n",
      "\n",
      ", t7 AS (\n",
      "SELECT '7' AS filter, * FROM magam WHERE (itype_l = '1' AND (monexp_amt < 30000 OR monexp_amt > 400000))\n",
      "                                      OR (itype_l = '4' AND (monexp_amt < 30000 OR monexp_amt > 150000))\n",
      ")\n",
      "\n",
      ", t8 AS (\n",
      "SELECT '8' AS filter, * FROM magam WHERE kunnr_rownum > 1\n",
      ")\n",
      "\n",
      ", total AS (\n",
      "SELECT * FROM t1 UNION ALL \n",
      "SELECT * FROM t2 UNION ALL \n",
      "SELECT * FROM t3 UNION ALL \n",
      "SELECT * FROM t4 UNION ALL \n",
      "SELECT * FROM t5 UNION ALL \n",
      "SELECT * FROM t6 UNION ALL \n",
      "SELECT * FROM t7 UNION ALL \n",
      "SELECT * FROM t8\n",
      ")\n",
      "\n",
      ", final_filter AS (\n",
      "SELECT ctnum, MIN(filter) AS filter FROM total GROUP BY ctnum\n",
      ")\n",
      "\n",
      "SELECT b.filter, a.* FROM magam a LEFT JOIN final_filter b ON a.ctnum = b.ctnum \n",
      "\n",
      "..\n",
      ">> Athena Query Success!!\n",
      ">> Athena Query EXCUTION COMPLETE....\n",
      ">> S3 FILE GENERATION SUCCESS!! (File count: 19)\n",
      "Elapsed Time = 19.40\n",
      ">> Start downloading table\n",
      "aws s3 cp s3://adt-sandbox/dsc/tables/22337f8b-d8a7-443a-be45-58ba4bc4dee0 /home/skinet/tmp/tmp_20201222_11_06_33_01d83cdcee4c00de989ca4741c54b9de42c86891 --recursive\n",
      "Elapsed Time = 27.76\n",
      ">> Loading data\n",
      "Dropping tmp db\n",
      "<< Delete s3://adt-sandbox/dsc/tables/22337f8b-d8a7-443a-be45-58ba4bc4dee0\n",
      "Removing tmp_dir!\n",
      "Elapsed Time for downloading and loading = 12.78\n",
      "Total Elapsed Time = 59.94\n"
     ]
    }
   ],
   "source": [
    "df = load_from_athena(conn,'''\n",
    "WITH magam AS (\n",
    "SELECT a.*, b.con_cnt, b.final_dialdate, b.resultcd\n",
    "     , ROW_NUMBER() OVER (PARTITION BY a.kunnr ORDER BY a.conn_type ASC, a.ctnum DESC, a.aedat DESC, a.aezet DESC) AS kunnr_rownum\n",
    "  FROM default.monthly_deadline_{} a\n",
    "LEFT JOIN default.tm_upsell_result_table b\n",
    "       ON a.kunnr = b.kunnr\n",
    "LEFT JOIN default.tm_upsell_db_temp c\n",
    "       ON a.ctnum = c.ctnum\n",
    ")\n",
    "\n",
    "-- 이 하단부터 조건들\n",
    "\n",
    ", t1 AS (\n",
    "SELECT '1' AS filter, *  FROM magam WHERE cstat <> '1'\n",
    ")\n",
    "\n",
    ", t2 AS (\n",
    "SELECT '2' AS filter, *  FROM magam WHERE itype_l <> '1' OR itype_m <> '02'\n",
    ")\n",
    "\n",
    ", t3 AS (\n",
    "SELECT '3' AS filter, *  FROM magam WHERE gros_code > '0'\n",
    ")\n",
    "\n",
    ", t4 AS (\n",
    "SELECT '4' AS filter, *  FROM magam WHERE gross_type = 'Y'\n",
    ")\n",
    "\n",
    ", t5 AS (\n",
    "SELECT '5' AS filter, * FROM magam WHERE adt1_yn = 'N'\n",
    ")\n",
    "\n",
    ", t6 AS (\n",
    "SELECT '6' AS filter, * FROM magam WHERE tm_yn = 'N' OR tm_yn IS NULL or tm_yn = '' or tm_yn = ' '\n",
    ")\n",
    "\n",
    ", t7 AS (\n",
    "SELECT '7' AS filter, * FROM magam WHERE (itype_l = '1' AND (monexp_amt < 30000 OR monexp_amt > 400000))\n",
    "                                      OR (itype_l = '4' AND (monexp_amt < 30000 OR monexp_amt > 150000))\n",
    ")\n",
    "\n",
    ", t8 AS (\n",
    "SELECT '8' AS filter, * FROM magam WHERE kunnr_rownum > 1\n",
    ")\n",
    "\n",
    ", total AS (\n",
    "SELECT * FROM t1 UNION ALL \n",
    "SELECT * FROM t2 UNION ALL \n",
    "SELECT * FROM t3 UNION ALL \n",
    "SELECT * FROM t4 UNION ALL \n",
    "SELECT * FROM t5 UNION ALL \n",
    "SELECT * FROM t6 UNION ALL \n",
    "SELECT * FROM t7 UNION ALL \n",
    "SELECT * FROM t8\n",
    ")\n",
    "\n",
    ", final_filter AS (\n",
    "SELECT ctnum, MIN(filter) AS filter FROM total GROUP BY ctnum\n",
    ")\n",
    "\n",
    "SELECT b.filter, a.* FROM magam a LEFT JOIN final_filter b ON a.ctnum = b.ctnum \n",
    "'''.format(ym))"
   ]
  },
  {
   "cell_type": "code",
   "execution_count": 10,
   "metadata": {},
   "outputs": [
    {
     "data": {
      "text/plain": [
       "0     55115\n",
       "1      2880\n",
       "2    673540\n",
       "3      4406\n",
       "4        88\n",
       "5      1703\n",
       "6     30498\n",
       "7      2365\n",
       "8      2844\n",
       "Name: filter, dtype: int64"
      ]
     },
     "execution_count": 10,
     "metadata": {},
     "output_type": "execute_result"
    }
   ],
   "source": [
    "df['filter'].fillna(0).astype(int).value_counts(dropna=False).sort_index()"
   ]
  },
  {
   "cell_type": "code",
   "execution_count": 11,
   "metadata": {},
   "outputs": [],
   "source": [
    "# 불필요한 컬럼 제거 \n",
    "drop_col = ['kcalss', 'conn_dept', 'conn_emp', 'cost_dept', 'cost_emp', 'intro_asp', 'itype_sdesc', 'svc_str', 'pay_type', 'depo_type', 'kunnr_rownum']\n",
    "df.drop(drop_col, axis=1, inplace=True)"
   ]
  },
  {
   "cell_type": "code",
   "execution_count": 12,
   "metadata": {},
   "outputs": [],
   "source": [
    "# 혹시 몰라서 카피떠놓기\n",
    "df_copy = df.copy()"
   ]
  },
  {
   "cell_type": "code",
   "execution_count": 13,
   "metadata": {},
   "outputs": [],
   "source": [
    "# df = df_copy.copy()"
   ]
  },
  {
   "cell_type": "code",
   "execution_count": 14,
   "metadata": {},
   "outputs": [],
   "source": [
    "# 필터링하지 않을 이상전화번호 리스트 (이상한 전화번호지만 db에 남겨놓고 TM센터에서 수기로 다른 번호 찾기 시도)\n",
    "no_delete = ['0', \n",
    "'00','01','02','03','010','0101','01111','010000','010226','0100000','0101111','0105256','0109152','0109364','01000000','01001638','02000000','010000000','010010010','010111111'\n",
    ",'011111111','020000000','021111111','0100000000','0100000001','0100100000','0101010101','0101111111','0101111234','0101231234','0101234567','0110000000','0111110000','0111234567','0200000000'\n",
    ",'0201021021','0202222222','0111111111','0211000000','0211111112','0212341234','0211112222','0222222222','0510000000','01000000000','01000000001','01000000250','01000000602','01000001111','01000009999'\n",
    ",'01000010001','01000090000','01000112111','01001000000','01001000900','01001010101','01001111111','01010000000','01010001000','01011110000','01011111018','01011111110','01011111111'\n",
    ",'01001001010','01011111112','01011111118','01011111234','01011111313','01011112222','01012341234','01012345678','01022222222','01100000000','01101111111','01101234567','01111111111'\n",
    ",'01111112222','01111113333','01112311231','03200000000','05100000000','05100011111','05101111111','05101112222','010000000000','010111111111','011111111111','0100000000000','01000000000000'\n",
    ",'010000000000000','0','1','2','3','10','101','1111','10000','10226','100000','101111','105256','109152','109364','1000000','1001638','2000000','10000000','10010010','10111111','11111111'\n",
    ",'20000000','21111111','100000000','100000001','100100000','101010101','101111111','101111234','101231234','101234567','110000000','111110000','111234567','200000000','201021021','202222222'\n",
    ",'111111111','211000000','211111112','212341234','211112222','222222222','510000000','1000000000','1000000001','1000000250','1000000602','1000001111','1000009999','1000010001','1000090000'\n",
    ",'1000112111','1001000000','1001000900','1001010101','1001111111','1010000000','1010001000','1011110000','1011111018','1011111110','1011111111','1001001010','1011111112','1011111118','1011111234'\n",
    ",'1011111313','1011112222','1012341234','1012345678','1022222222','1100000000','1101111111','1101234567','1111111111','1111112222','1111113333','1112311231','3200000000','5100000000','5100011111'\n",
    ",'5101111111','5101112222','10000000000','10111111111','11111111111','100000000000','1000000000000','10000000000000']"
   ]
  },
  {
   "cell_type": "code",
   "execution_count": 15,
   "metadata": {},
   "outputs": [],
   "source": [
    "# 이상휴대폰번호 판단 함수 \n",
    "# 등차수열이거나(ex.01012345678) 다 똑같은 번호거나(ex.01000000000), 위의 이상번호 리스트에 포함되어 있거나.\n",
    "\n",
    "def valid_number(x):\n",
    "      nums = list(str(x)) \n",
    "      n = len(nums)\n",
    "      answer=[]\n",
    "      i = 3\n",
    "      \n",
    "      while i <= n-3:\n",
    "            if int(nums[i]) - int(nums[i+1]) == int(nums[i+1]) - int(nums[i+2]):\n",
    "                  answer.append(True)\n",
    "            else:\n",
    "                  answer.append(False)\n",
    "            i += 1\n",
    "      \n",
    "      if (all(answer) == True) or (str(x) in (no_delete)):\n",
    "            return False\n",
    "      else:\n",
    "            return True     "
   ]
  },
  {
   "cell_type": "code",
   "execution_count": 16,
   "metadata": {},
   "outputs": [],
   "source": [
    "# 16. 휴대폰번호 전처리 및 중복 제거\n",
    "\n",
    "df['telf2'] = df['telf2'].str.replace('\\D|\\s', '', regex=True)  # 숫자가 아닌 글자랑 공백 날리기\n",
    "df['telf2'] = np.where(df['telf2'].str[0] != '0', \"0\"+df['telf2'], df['telf2'])   # 맨 앞에 0이 없으면 0 붙여주기\n",
    "\n",
    "df['telf_valid_1'] = df['telf2'].str.contains('^01([0|1|6|7|8|9]?)-?([0-9]{3,4})-?([0-9]{4})$', regex=True)  # 자릿수가 맞는지 확인하기\n",
    "df['telf_valid_2'] = df['telf2'].apply(valid_number)                                                        # 위에 정의한 함수를 통해 valid한지 확인하기\n",
    "df['telf_valid_final'] = np.where((df['telf_valid_1'] == True) & (df['telf_valid_2'] == True), True, False)\n",
    "df['telf_valid_final'] = df['telf_valid_final'].map({True : 1, False : 0})                                  # 최종적으로 valid한지 확인\n",
    "\n",
    "df = df.sort_values(by=['conn_type', 'ctnum', 'aedat', 'aezet'], axis=0, ascending=[True, False, False, False])  # 정렬해서 중복된 거 제거                                 \n",
    "\n",
    "df.loc[(df['filter'].isnull()==True) & (df[(df['filter'].isnull()==True) & ((df['telf_valid_final']==1))].duplicated(subset='telf2', keep='first'))\n",
    "           , 'filter'] = 9"
   ]
  },
  {
   "cell_type": "code",
   "execution_count": 17,
   "metadata": {},
   "outputs": [
    {
     "name": "stdout",
     "output_type": "stream",
     "text": [
      "...tmp_db name = tmp_20201222_11_07_45_c7be5de2d456dcd103d0eda043e4a8500924d23d\n",
      "Start creating table\n",
      "drop table if exists default.tmp_20201222_11_07_45_c7be5de2d456dcd103d0eda043e4a8500924d23d\n",
      "<< table not exist\n",
      "\n",
      "        create  table         default.tmp_20201222_11_07_45_c7be5de2d456dcd103d0eda043e4a8500924d23d\n",
      "        with (format='Parquet', parquet_compression='GZIP')\n",
      "        as\n",
      "        \n",
      "SELECT DISTINCT *\n",
      "  FROM sap.zsdt0070\n",
      "\n",
      ".\n",
      ">> Athena Query Success!!\n",
      ">> Athena Query EXCUTION COMPLETE....\n",
      ">> S3 FILE GENERATION SUCCESS!! (File count: 6)\n",
      "Elapsed Time = 14.67\n",
      ">> Start downloading table\n",
      "aws s3 cp s3://adt-sandbox/dsc/tables/e8c45a9a-44f1-434d-82e1-920e88709704 /home/skinet/tmp/tmp_20201222_11_07_45_c7be5de2d456dcd103d0eda043e4a8500924d23d --recursive\n",
      "Elapsed Time = 7.33\n",
      ">> Loading data\n",
      "Dropping tmp db\n",
      "<< Delete s3://adt-sandbox/dsc/tables/e8c45a9a-44f1-434d-82e1-920e88709704\n",
      "Removing tmp_dir!\n",
      "Elapsed Time for downloading and loading = 6.03\n",
      "Total Elapsed Time = 28.03\n"
     ]
    }
   ],
   "source": [
    "#16-2 직원 휴대폰번호 제거 \n",
    "conn = athena_connection()\n",
    "emp = load_from_athena(conn,\n",
    "'''\n",
    "SELECT DISTINCT *\n",
    "  FROM sap.zsdt0070\n",
    "''')"
   ]
  },
  {
   "cell_type": "code",
   "execution_count": 18,
   "metadata": {},
   "outputs": [],
   "source": [
    "emp['tel_hand'] = emp['tel_hand'].str.replace('\\D|\\s', '', regex=True)  # 숫자가 아닌 글자랑 공백 날리기\n",
    "emp['tel_hand'] = np.where(emp['tel_hand'].str[0] != '0', \"0\"+emp['tel_hand'], emp['tel_hand'])   # 맨 앞에 0이 없으면 0 붙여주기\n",
    "df.loc[(df['filter'].isnull()==True) & (df['telf2'].isin(emp['tel_hand'])) & (~df['telf2'].isin(no_delete))  , 'filter'] = 9.5"
   ]
  },
  {
   "cell_type": "code",
   "execution_count": 19,
   "metadata": {},
   "outputs": [],
   "source": [
    "# 17. 주소 중복내역 제거\n",
    "\n",
    "df = df.sort_values(by=['conn_type', 'ctnum', 'aedat', 'aezet'], axis=0, ascending=[True, False, False, False])  # 정렬해서 중복된 거 제거                                 \n",
    "df.loc[(df['filter'].isnull()==True) & (df.duplicated(subset=['gad_add01', 'gad_add02'], keep='first')), 'filter'] = 10"
   ]
  },
  {
   "cell_type": "code",
   "execution_count": 20,
   "metadata": {},
   "outputs": [
    {
     "name": "stdout",
     "output_type": "stream",
     "text": [
      "...tmp_db name = tmp_20201222_11_08_17_ccb6e8aef961c27071ea7e4a3cb13798a99b5d2d\n",
      "Start creating table\n",
      "drop table if exists default.tmp_20201222_11_08_17_ccb6e8aef961c27071ea7e4a3cb13798a99b5d2d\n",
      "<< table not exist\n",
      "\n",
      "        create  table         default.tmp_20201222_11_08_17_ccb6e8aef961c27071ea7e4a3cb13798a99b5d2d\n",
      "        with (format='Parquet', parquet_compression='GZIP')\n",
      "        as\n",
      "        \n",
      "SELECT DISTINCT b.ctnum, a.receiptdate, a.receipttime\n",
      "  FROM telepro.tb_voc a\n",
      "LEFT JOIN (SELECT DISTINCT ctnum, kunnr, ctnum_hash, kunnr_hash FROM adt_work.hash_info) b\n",
      "       ON a.s25csq = b.ctnum_hash \n",
      " WHERE a.receiptdate >= '20191101'\n",
      "\n",
      "......\n",
      ">> Athena Query Success!!\n",
      ">> Athena Query EXCUTION COMPLETE....\n",
      ">> S3 FILE GENERATION SUCCESS!! (File count: 6)\n",
      "Elapsed Time = 46.76\n",
      ">> Start downloading table\n",
      "aws s3 cp s3://adt-sandbox/dsc/tables/3bb5f790-83fc-42aa-8274-fabc9405d97f /home/skinet/tmp/tmp_20201222_11_08_17_ccb6e8aef961c27071ea7e4a3cb13798a99b5d2d --recursive\n",
      "Elapsed Time = 7.13\n",
      ">> Loading data\n",
      "Dropping tmp db\n",
      "<< Delete s3://adt-sandbox/dsc/tables/3bb5f790-83fc-42aa-8274-fabc9405d97f\n",
      "Removing tmp_dir!\n",
      "Elapsed Time for downloading and loading = 5.89\n",
      "Total Elapsed Time = 59.78\n"
     ]
    }
   ],
   "source": [
    "# 18. 최근 1년 이내 민원접수 고객\n",
    "conn = athena_connection()\n",
    "voc = load_from_athena(conn, '''\n",
    "SELECT DISTINCT b.ctnum, a.receiptdate, a.receipttime\n",
    "  FROM telepro.tb_voc a\n",
    "LEFT JOIN (SELECT DISTINCT ctnum, kunnr, ctnum_hash, kunnr_hash FROM adt_work.hash_info) b\n",
    "       ON a.s25csq = b.ctnum_hash \n",
    " WHERE a.receiptdate >= \\'{}\\'\n",
    "'''.format(ymd_minus_1year))"
   ]
  },
  {
   "cell_type": "code",
   "execution_count": 21,
   "metadata": {},
   "outputs": [],
   "source": [
    "df.loc[(df['filter'].isnull()==True) & (df['ctnum'].isin(voc['ctnum'])) , 'filter'] = 11"
   ]
  },
  {
   "cell_type": "code",
   "execution_count": 22,
   "metadata": {},
   "outputs": [
    {
     "name": "stdout",
     "output_type": "stream",
     "text": [
      "...tmp_db name = tmp_20201222_11_09_17_9828052866bcce722b2bca5dfa793507bb49430b\n",
      "Start creating table\n",
      "drop table if exists default.tmp_20201222_11_09_17_9828052866bcce722b2bca5dfa793507bb49430b\n",
      "<< table not exist\n",
      "\n",
      "        create  table         default.tmp_20201222_11_09_17_9828052866bcce722b2bca5dfa793507bb49430b\n",
      "        with (format='Parquet', parquet_compression='GZIP')\n",
      "        as\n",
      "        \n",
      "WITH t1 AS (\n",
      "SELECT DISTINCT a.s25csq, b.gubun AS cd, a.talkenddate, '이관내역 기준' AS info\n",
      "  FROM telepro.tb_contact a\n",
      "LEFT JOIN telepro.tb_trans_contact b\n",
      "       ON a.contactid = b.contactid\n",
      " WHERE b.gubun IN ('0025', '0026')\n",
      "   AND a.talkenddate >= '2020/05/01'\n",
      "   \n",
      "UNION ALL \n",
      "\n",
      "SELECT DISTINCT s25csq, contactmiddlecd AS cd, talkenddate, '상담유형(중) 기준' AS info\n",
      "  FROM telepro.tb_contact\n",
      " WHERE contactmiddlecd IN ('J50J53', 'K50K56', 'J50J54')\n",
      "   AND talkenddate >= '2020/05/01'\n",
      "   \n",
      "UNION ALL\n",
      "\n",
      "SELECT DISTINCT s25csq, contactminorcd AS cd, talkenddate, '상담유형(소) 기준' AS info\n",
      "  FROM telepro.tb_contact\n",
      " WHERE contactminorcd IN ('B50B51B83', 'A01A08A25', 'G50G52G64')\n",
      "   AND talkenddate >= '2020/05/01'\n",
      ")\n",
      "\n",
      "SELECT b.ctnum, a.cd, a.talkenddate, a.info\n",
      "  FROM t1 a\n",
      "LEFT JOIN (SELECT DISTINCT ctnum, kunnr, ctnum_hash, kunnr_hash FROM adt_work.hash_info) b\n",
      "       ON a.s25csq = b.ctnum_hash\n",
      "\n",
      ".....\n",
      ">> Athena Query Success!!\n",
      ">> Athena Query EXCUTION COMPLETE....\n",
      ">> S3 FILE GENERATION SUCCESS!! (File count: 6)\n",
      "Elapsed Time = 38.90\n",
      ">> Start downloading table\n",
      "aws s3 cp s3://adt-sandbox/dsc/tables/7a07eb39-741d-4d1f-bfef-022062138094 /home/skinet/tmp/tmp_20201222_11_09_17_9828052866bcce722b2bca5dfa793507bb49430b --recursive\n",
      "Elapsed Time = 9.38\n",
      ">> Loading data\n",
      "Dropping tmp db\n",
      "<< Delete s3://adt-sandbox/dsc/tables/7a07eb39-741d-4d1f-bfef-022062138094\n",
      "Removing tmp_dir!\n",
      "Elapsed Time for downloading and loading = 6.06\n",
      "Total Elapsed Time = 54.34\n"
     ]
    }
   ],
   "source": [
    "# 19. 해약 문의\n",
    "conn = athena_connection()\n",
    "churn = load_from_athena(conn, '''\n",
    "WITH t1 AS (\n",
    "SELECT DISTINCT a.s25csq, b.gubun AS cd, a.talkenddate, '이관내역 기준' AS info\n",
    "  FROM telepro.tb_contact a\n",
    "LEFT JOIN telepro.tb_trans_contact b\n",
    "       ON a.contactid = b.contactid\n",
    " WHERE b.gubun IN ('0025', '0026')\n",
    "   AND a.talkenddate >= \\'{}\\'\n",
    "   \n",
    "UNION ALL \n",
    "\n",
    "SELECT DISTINCT s25csq, contactmiddlecd AS cd, talkenddate, '상담유형(중) 기준' AS info\n",
    "  FROM telepro.tb_contact\n",
    " WHERE contactmiddlecd IN ('J50J53', 'K50K56', 'J50J54')\n",
    "   AND talkenddate >= \\'{}\\'\n",
    "   \n",
    "UNION ALL\n",
    "\n",
    "SELECT DISTINCT s25csq, contactminorcd AS cd, talkenddate, '상담유형(소) 기준' AS info\n",
    "  FROM telepro.tb_contact\n",
    " WHERE contactminorcd IN ('B50B51B83', 'A01A08A25', 'G50G52G64')\n",
    "   AND talkenddate >= \\'{}\\'\n",
    ")\n",
    "\n",
    "SELECT b.ctnum, a.cd, a.talkenddate, a.info\n",
    "  FROM t1 a\n",
    "LEFT JOIN (SELECT DISTINCT ctnum, kunnr, ctnum_hash, kunnr_hash FROM adt_work.hash_info) b\n",
    "       ON a.s25csq = b.ctnum_hash\n",
    "'''.format(ymd_minus_6month_slash, ymd_minus_6month_slash, ymd_minus_6month_slash))"
   ]
  },
  {
   "cell_type": "code",
   "execution_count": 23,
   "metadata": {},
   "outputs": [],
   "source": [
    "df.loc[(df['filter'].isnull()==True) & (df['ctnum'].isin(churn['ctnum'])) , 'filter'] = 12"
   ]
  },
  {
   "cell_type": "code",
   "execution_count": 24,
   "metadata": {},
   "outputs": [],
   "source": [
    "# 20. tm 거부\n",
    "df.loc[(df['filter'].isnull()==True) & df['kunnr'].isin(tm_refuse['kunnr']), 'filter'] = 13"
   ]
  },
  {
   "cell_type": "code",
   "execution_count": 25,
   "metadata": {},
   "outputs": [],
   "source": [
    "# 21. 두낫콜\n",
    "donotcall = pd.DataFrame()\n",
    "donotcall['휴대폰번호'] = df['telf2'].drop_duplicates(keep='first')\n",
    "donotcall = donotcall.sort_values('휴대폰번호')\n",
    "donotcall.index.name = 'index'\n",
    "donotcall.to_csv('donotcall_list.csv', encoding='utf-8-sig')"
   ]
  },
  {
   "cell_type": "markdown",
   "metadata": {},
   "source": [
    "### ↑ 여기에서 반환된 donotcall_list.csv 파일을 두낫콜에 넣고, 뱉어진 파일을 업로드한 후 파일명을 아래 filename 변수에 담기"
   ]
  },
  {
   "cell_type": "code",
   "execution_count": 26,
   "metadata": {},
   "outputs": [],
   "source": [
    "filename = '2058121711_20201221094633.csv'\n",
    "\n",
    "donotcall = pd.read_csv(filename)\n",
    "donotcall['Result'] = donotcall['Result'].str.replace('\\D|\\s', '', regex=True)\n",
    "\n",
    "df.loc[(df['filter'].isnull()==True) & (~df['telf2'].isin(donotcall['Result'])), 'filter'] = 14"
   ]
  },
  {
   "cell_type": "code",
   "execution_count": 27,
   "metadata": {},
   "outputs": [],
   "source": [
    "# 22. 최종접촉일 3개월 이내\n",
    "df.loc[(df['filter'].isnull()==True) & (df['final_dialdate'].str[0:10] >= final_call_boundary), 'filter'] = 15"
   ]
  },
  {
   "cell_type": "code",
   "execution_count": 28,
   "metadata": {},
   "outputs": [
    {
     "data": {
      "text/plain": [
       "0      26688\n",
       "1       2880\n",
       "2     673540\n",
       "3       4406\n",
       "4         88\n",
       "5       1703\n",
       "6      30498\n",
       "7       2365\n",
       "8       2844\n",
       "9       2861\n",
       "10      1927\n",
       "11       916\n",
       "12      1883\n",
       "13      1427\n",
       "14       668\n",
       "15     18745\n",
       "Name: filter, dtype: int64"
      ]
     },
     "execution_count": 28,
     "metadata": {},
     "output_type": "execute_result"
    }
   ],
   "source": [
    "df['filter'].fillna(0).astype(int).value_counts(dropna=False).sort_index()"
   ]
  },
  {
   "cell_type": "code",
   "execution_count": 29,
   "metadata": {},
   "outputs": [
    {
     "data": {
      "text/html": [
       "<div>\n",
       "<style scoped>\n",
       "    .dataframe tbody tr th:only-of-type {\n",
       "        vertical-align: middle;\n",
       "    }\n",
       "\n",
       "    .dataframe tbody tr th {\n",
       "        vertical-align: top;\n",
       "    }\n",
       "\n",
       "    .dataframe thead th {\n",
       "        text-align: right;\n",
       "    }\n",
       "</style>\n",
       "<table border=\"1\" class=\"dataframe\">\n",
       "  <thead>\n",
       "    <tr style=\"text-align: right;\">\n",
       "      <th></th>\n",
       "      <th>ctnum_hash</th>\n",
       "      <th>ctnum</th>\n",
       "      <th>rqnum</th>\n",
       "      <th>valid_sdate</th>\n",
       "      <th>valid_edate</th>\n",
       "      <th>ins_type</th>\n",
       "      <th>ins_amt</th>\n",
       "      <th>ins_amt_type</th>\n",
       "      <th>ins_payment</th>\n",
       "      <th>ins_stat</th>\n",
       "      <th>ins_user4</th>\n",
       "      <th>ins_stat_nm</th>\n",
       "      <th>ins_amt_type_nm</th>\n",
       "      <th>gad_start</th>\n",
       "      <th>ctnum_old</th>\n",
       "      <th>info</th>\n",
       "    </tr>\n",
       "  </thead>\n",
       "  <tbody>\n",
       "    <tr>\n",
       "      <th>0</th>\n",
       "      <td>82450d9e4138aaf8ae4f1fed61bc5958ba0b8cb24030c9...</td>\n",
       "      <td>218123803</td>\n",
       "      <td>RT5722748</td>\n",
       "      <td>20191125</td>\n",
       "      <td>00000000</td>\n",
       "      <td>02</td>\n",
       "      <td>280.0</td>\n",
       "      <td>50</td>\n",
       "      <td>280.0</td>\n",
       "      <td>1</td>\n",
       "      <td>TM</td>\n",
       "      <td>None</td>\n",
       "      <td>None</td>\n",
       "      <td>20181128</td>\n",
       "      <td>None</td>\n",
       "      <td>case1</td>\n",
       "    </tr>\n",
       "    <tr>\n",
       "      <th>1</th>\n",
       "      <td>e75af5ced3ab864541bf99ccbb3170a85399bfd3886bd5...</td>\n",
       "      <td>220004123</td>\n",
       "      <td>RT5929483</td>\n",
       "      <td>20200108</td>\n",
       "      <td>00000000</td>\n",
       "      <td>02</td>\n",
       "      <td>280.0</td>\n",
       "      <td>50</td>\n",
       "      <td>280.0</td>\n",
       "      <td>1</td>\n",
       "      <td></td>\n",
       "      <td>None</td>\n",
       "      <td>None</td>\n",
       "      <td>20200108</td>\n",
       "      <td>None</td>\n",
       "      <td>case1</td>\n",
       "    </tr>\n",
       "    <tr>\n",
       "      <th>2</th>\n",
       "      <td>af9a639595990508cce4b78a560eedd6ad99d3b9916bd9...</td>\n",
       "      <td>219153464</td>\n",
       "      <td>RT5468065</td>\n",
       "      <td>20190930</td>\n",
       "      <td>00000000</td>\n",
       "      <td>02</td>\n",
       "      <td>280.0</td>\n",
       "      <td>50</td>\n",
       "      <td>280.0</td>\n",
       "      <td>1</td>\n",
       "      <td></td>\n",
       "      <td>None</td>\n",
       "      <td>None</td>\n",
       "      <td>20190927</td>\n",
       "      <td>None</td>\n",
       "      <td>case1</td>\n",
       "    </tr>\n",
       "    <tr>\n",
       "      <th>3</th>\n",
       "      <td>48105bf2f5f695b18f92ca6fae21b69e0e37227c32f5a4...</td>\n",
       "      <td>218136273</td>\n",
       "      <td>RT4574093</td>\n",
       "      <td>20190323</td>\n",
       "      <td>00000000</td>\n",
       "      <td>02</td>\n",
       "      <td>280.0</td>\n",
       "      <td>50</td>\n",
       "      <td>280.0</td>\n",
       "      <td>1</td>\n",
       "      <td></td>\n",
       "      <td>None</td>\n",
       "      <td>None</td>\n",
       "      <td>20181224</td>\n",
       "      <td>None</td>\n",
       "      <td>case1</td>\n",
       "    </tr>\n",
       "    <tr>\n",
       "      <th>4</th>\n",
       "      <td>22f13a76ea900003c92b6bf4ae211bac5f15a3877fac8d...</td>\n",
       "      <td>217093589</td>\n",
       "      <td>RT4068050</td>\n",
       "      <td>20181207</td>\n",
       "      <td>00000000</td>\n",
       "      <td>02</td>\n",
       "      <td>280.0</td>\n",
       "      <td>50</td>\n",
       "      <td>280.0</td>\n",
       "      <td>1</td>\n",
       "      <td></td>\n",
       "      <td>None</td>\n",
       "      <td>None</td>\n",
       "      <td>20170922</td>\n",
       "      <td>None</td>\n",
       "      <td>case1</td>\n",
       "    </tr>\n",
       "  </tbody>\n",
       "</table>\n",
       "</div>"
      ],
      "text/plain": [
       "                                          ctnum_hash      ctnum      rqnum  \\\n",
       "0  82450d9e4138aaf8ae4f1fed61bc5958ba0b8cb24030c9...  218123803  RT5722748   \n",
       "1  e75af5ced3ab864541bf99ccbb3170a85399bfd3886bd5...  220004123  RT5929483   \n",
       "2  af9a639595990508cce4b78a560eedd6ad99d3b9916bd9...  219153464  RT5468065   \n",
       "3  48105bf2f5f695b18f92ca6fae21b69e0e37227c32f5a4...  218136273  RT4574093   \n",
       "4  22f13a76ea900003c92b6bf4ae211bac5f15a3877fac8d...  217093589  RT4068050   \n",
       "\n",
       "  valid_sdate valid_edate ins_type  ins_amt ins_amt_type  ins_payment  \\\n",
       "0    20191125    00000000       02    280.0           50        280.0   \n",
       "1    20200108    00000000       02    280.0           50        280.0   \n",
       "2    20190930    00000000       02    280.0           50        280.0   \n",
       "3    20190323    00000000       02    280.0           50        280.0   \n",
       "4    20181207    00000000       02    280.0           50        280.0   \n",
       "\n",
       "  ins_stat ins_user4 ins_stat_nm ins_amt_type_nm gad_start ctnum_old   info  \n",
       "0        1        TM        None            None  20181128      None  case1  \n",
       "1        1                  None            None  20200108      None  case1  \n",
       "2        1                  None            None  20190927      None  case1  \n",
       "3        1                  None            None  20181224      None  case1  \n",
       "4        1                  None            None  20170922      None  case1  "
      ]
     },
     "execution_count": 29,
     "metadata": {},
     "output_type": "execute_result"
    }
   ],
   "source": [
    "gigaip.head()"
   ]
  },
  {
   "cell_type": "code",
   "execution_count": null,
   "metadata": {},
   "outputs": [],
   "source": []
  },
  {
   "cell_type": "code",
   "execution_count": 30,
   "metadata": {},
   "outputs": [
    {
     "data": {
      "text/plain": [
       "0    718817\n",
       "1     54622\n",
       "Name: 기가입여부, dtype: int64"
      ]
     },
     "execution_count": 30,
     "metadata": {},
     "output_type": "execute_result"
    }
   ],
   "source": [
    "df['기가입여부'] = np.where(df['ctnum'].isin(gigaip['ctnum']), 1, 0)\n",
    "df['기가입여부'].value_counts()"
   ]
  },
  {
   "cell_type": "code",
   "execution_count": 31,
   "metadata": {},
   "outputs": [
    {
     "data": {
      "text/plain": [
       "Index(['filter', 'kunnr', 'ctnum', 'conn_date', 'ctnum_hash', 'kunnr_hash',\n",
       "       'cstat', 'gad_name', 'gad_start', 'conn_start', 'conn_end',\n",
       "       'monexp_amt', 'conn_type', 'ctype_l', 'ctype_m', 'ctype_s', 'itype_l',\n",
       "       'itype_m', 'itype_s', 'name1', 'gad_add01', 'post_add01',\n",
       "       'first_bildate', 'telf2', 'line_type', 'pck_str', 'stcd2', 'uptae',\n",
       "       'jongmok', 'gros_code', 'gross_type', 'kvgr4', 'gad_pstlz', 'gad_add02',\n",
       "       'post_add02', 'sms_yn', 'email_yn', 'tm_yn', 'dm_yn', 'sk1_yn',\n",
       "       'sk2_yn', 'adt1_yn', 'aedat', 'aezet', 'aenam', 'nsok', 'con_cnt',\n",
       "       'final_dialdate', 'resultcd', 'telf_valid_1', 'telf_valid_2',\n",
       "       'telf_valid_final', '기가입여부'],\n",
       "      dtype='object')"
      ]
     },
     "execution_count": 31,
     "metadata": {},
     "output_type": "execute_result"
    }
   ],
   "source": [
    "df.columns"
   ]
  },
  {
   "cell_type": "code",
   "execution_count": 32,
   "metadata": {},
   "outputs": [],
   "source": [
    "df.loc[(df['filter'].isnull()==True) & ((df['기가입여부'] == 1) | ((df['con_cnt']>=5)&(df['final_dialdate'].str[0:10] < final_call_boundary_2))), 'filter'] = 0"
   ]
  },
  {
   "cell_type": "code",
   "execution_count": 33,
   "metadata": {},
   "outputs": [],
   "source": [
    "df.loc[(df['filter'].isnull()==True), 'filter'] = 16"
   ]
  },
  {
   "cell_type": "code",
   "execution_count": 34,
   "metadata": {},
   "outputs": [
    {
     "data": {
      "text/plain": [
       "0      10206\n",
       "1       2880\n",
       "2     673540\n",
       "3       4406\n",
       "4         88\n",
       "5       1703\n",
       "6      30498\n",
       "7       2365\n",
       "8       2844\n",
       "9       2861\n",
       "10      1927\n",
       "11       916\n",
       "12      1883\n",
       "13      1427\n",
       "14       668\n",
       "15     18745\n",
       "16     16482\n",
       "Name: filter, dtype: int64"
      ]
     },
     "execution_count": 34,
     "metadata": {},
     "output_type": "execute_result"
    }
   ],
   "source": [
    "df['filter'].fillna(0).astype(int).value_counts(dropna=False).sort_index()"
   ]
  },
  {
   "cell_type": "code",
   "execution_count": 35,
   "metadata": {},
   "outputs": [],
   "source": [
    "df.drop(['ctnum_hash', 'kunnr_hash', 'telf_valid_1', 'telf_valid_2', 'telf_valid_final'], axis=1, inplace=True)"
   ]
  },
  {
   "cell_type": "code",
   "execution_count": 36,
   "metadata": {},
   "outputs": [],
   "source": [
    "df = df.rename(columns={\n",
    "      'gubun' : '구분',\n",
    "      'filter' : '필터',\n",
    "      'kunnr' : '고객번호',\n",
    "      'ctnum' : '계약번호',\n",
    "      'cstat' : '계약상태',\n",
    "      'gad_name' : '상호',\n",
    "      'gad_start' : '경비개시일',\n",
    "      'conn_start' : '계약개시일',\n",
    "      'conn_end' : '계약종료일',\n",
    "      'monexp_amt' : '월정료',\n",
    "      'conn_type' : '계약타입',\n",
    "      'ctype_l' : '채널(대)',\n",
    "      'ctype_m' : '채널(중)',\n",
    "      'ctype_s' : '채널(소)',\n",
    "      'itype_l' : '업종(대)',\n",
    "      'itype_m' : '업종(중)',\n",
    "      'itype_s' : '업종(소)',\n",
    "      'name1' : '이름1',\n",
    "      'gad_add01' : '경비물건주소',\n",
    "      'post_add01' : '우편물수령지주소1',\n",
    "      'first_bildate' : '최초청구일',\n",
    "      'telf2' : '전화번호',\n",
    "      'line_type' : '관제회선구분',\n",
    "      'uptae' : '업태',\n",
    "      'jongmok' : '종목',\n",
    "      'gros_code' : '그로스코드',\n",
    "      'gross_type' : '그로스타입',\n",
    "      'kvgr4' : '세그먼트',\n",
    "      'gad_pstlz' : '우편번호',\n",
    "      'gad_add02' : '경비물건주소상세',\n",
    "      'post_add02' : '우편물수령지주소2',\n",
    "      'sms_yn' : 'SMS동의',\n",
    "      'email_yn' : 'EMAIL동의',\n",
    "      'adt1_yn' : '개인정보수집이용동의',\n",
    "      'tm_yn' : 'TM동의',\n",
    "      'dm_yn' : 'DM동의',\n",
    "      'sk1_yn' : 'SK1동의',\n",
    "      'sk2_yn' : 'SK2동의',\n",
    "      'aedat' : '작업일자',\n",
    "      'aezet' : '작업시간',\n",
    "      'aenam' : '변경자',\n",
    "      'nsok' : 'n사계약번호',\n",
    "      'final_dialdate' : '최종접촉일시',\n",
    "      'resultcd' : '최종접촉결과',\n",
    "      'con_cnt' : '접촉회차'\n",
    "})"
   ]
  },
  {
   "cell_type": "code",
   "execution_count": 37,
   "metadata": {},
   "outputs": [],
   "source": [
    "df = df[\n",
    "    ['필터', '고객번호', '계약번호', '계약상태', '상호', '경비개시일', '계약개시일', '계약종료일', \n",
    "     '월정료', '계약타입', '채널(대)', '채널(중)', '채널(소)', '업종(대)', '업종(중)', '업종(소)', \n",
    "     '이름1', '경비물건주소', '우편물수령지주소1', '최초청구일', '전화번호',\n",
    "     '관제회선구분', '업태', '종목', '그로스코드', '그로스타입', '세그먼트', '우편번호', '경비물건주소상세',\n",
    "     '우편물수령지주소2', '개인정보수집이용동의', 'SMS동의', 'EMAIL동의', 'TM동의', 'DM동의', 'SK1동의', 'SK2동의', \n",
    "     '작업일자', '작업시간', '변경자', 'n사계약번호', '최종접촉일시', '최종접촉결과', '접촉회차', '기가입여부']]"
   ]
  },
  {
   "cell_type": "code",
   "execution_count": 38,
   "metadata": {},
   "outputs": [
    {
     "data": {
      "text/plain": [
       "'캡스클린케어_DB_20201222.csv'"
      ]
     },
     "execution_count": 38,
     "metadata": {},
     "output_type": "execute_result"
    }
   ],
   "source": [
    "workdt = datetime.datetime.now()\n",
    "workdt = str(workdt.year) + str(workdt.month).zfill(2) + str(workdt.day).zfill(2)\n",
    "\n",
    "filename = '캡스클린케어_DB_' + workdt + '.csv'\n",
    "filename"
   ]
  },
  {
   "cell_type": "code",
   "execution_count": 39,
   "metadata": {},
   "outputs": [],
   "source": [
    "df.to_csv(filename, encoding='utf-8-sig')"
   ]
  },
  {
   "cell_type": "code",
   "execution_count": null,
   "metadata": {},
   "outputs": [],
   "source": []
  },
  {
   "cell_type": "code",
   "execution_count": null,
   "metadata": {},
   "outputs": [],
   "source": []
  },
  {
   "cell_type": "code",
   "execution_count": 40,
   "metadata": {},
   "outputs": [
    {
     "data": {
      "text/plain": [
       "0.0      10241\n",
       "1.0       2880\n",
       "2.0     673540\n",
       "3.0       4406\n",
       "4.0         88\n",
       "5.0       1703\n",
       "6.0      30498\n",
       "7.0       2365\n",
       "8.0       2844\n",
       "9.0       2850\n",
       "9.5         11\n",
       "10.0      1927\n",
       "11.0       912\n",
       "12.0      1839\n",
       "13.0      1429\n",
       "14.0       669\n",
       "15.0     18532\n",
       "16.0     16705\n",
       "Name: 필터, dtype: int64"
      ]
     },
     "execution_count": 40,
     "metadata": {},
     "output_type": "execute_result"
    }
   ],
   "source": [
    "df['필터'].fillna(0).astype(float).value_counts(dropna=False).sort_index()"
   ]
  },
  {
   "cell_type": "code",
   "execution_count": 41,
   "metadata": {},
   "outputs": [
    {
     "data": {
      "text/plain": [
       "702006    None\n",
       "Name: TM동의, dtype: object"
      ]
     },
     "execution_count": 41,
     "metadata": {},
     "output_type": "execute_result"
    }
   ],
   "source": [
    "df[df['계약번호']=='220232603'].TM동의"
   ]
  },
  {
   "cell_type": "code",
   "execution_count": null,
   "metadata": {},
   "outputs": [],
   "source": []
  },
  {
   "cell_type": "code",
   "execution_count": null,
   "metadata": {},
   "outputs": [],
   "source": []
  },
  {
   "cell_type": "code",
   "execution_count": null,
   "metadata": {},
   "outputs": [],
   "source": []
  }
 ],
 "metadata": {
  "kernelspec": {
   "display_name": "Python 3",
   "language": "python",
   "name": "python3"
  },
  "language_info": {
   "codemirror_mode": {
    "name": "ipython",
    "version": 3
   },
   "file_extension": ".py",
   "mimetype": "text/x-python",
   "name": "python",
   "nbconvert_exporter": "python",
   "pygments_lexer": "ipython3",
   "version": "3.6.8"
  }
 },
 "nbformat": 4,
 "nbformat_minor": 4
}
