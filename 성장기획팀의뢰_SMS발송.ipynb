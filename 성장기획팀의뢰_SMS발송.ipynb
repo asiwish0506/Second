{
 "cells": [
  {
   "cell_type": "code",
   "execution_count": 1,
   "metadata": {},
   "outputs": [],
   "source": [
    "import pandas as pd\n",
    "import numpy as np\n",
    "import matplotlib.pyplot as plt\n",
    "import seaborn as sns\n",
    "from datetime import datetime, date, timedelta\n",
    "from dateutil.relativedelta import relativedelta\n",
    "import time\n",
    "import warnings\n",
    "warnings.filterwarnings(\"ignore\")"
   ]
  },
  {
   "cell_type": "code",
   "execution_count": 2,
   "metadata": {},
   "outputs": [
    {
     "name": "stdout",
     "output_type": "stream",
     "text": [
      "...tmp_db name = tmp_20201019_11_34_05_30303ee5e1bc6b73e008c184029b7071b0d81720\n",
      "Start creating table\n",
      "drop table if exists default.tmp_20201019_11_34_05_30303ee5e1bc6b73e008c184029b7071b0d81720\n",
      "<< table not exist\n",
      "\n",
      "        create  table         default.tmp_20201019_11_34_05_30303ee5e1bc6b73e008c184029b7071b0d81720\n",
      "        with (format='Parquet', parquet_compression='GZIP')\n",
      "        as\n",
      "        \n",
      "\n",
      "    SELECT d.kunnr\n",
      "\t , d.ctnum\n",
      "     , a.cstat\n",
      "     , a.gad_name\n",
      "     , a.gad_start\n",
      "     , a.cost_dept\n",
      "     , a.conn_start\n",
      "     , a.conn_end\n",
      "     , CAST(a.monexp_amt AS DOUBLE)*100 AS monexp_amt\n",
      "     , a.conn_type\n",
      "     , a.ctype_l\n",
      "     , a.ctype_m\n",
      "     , a.itype_l\n",
      "     , a.itype_m\n",
      "     , a.itype_s\n",
      "     , c.name1\n",
      "     , a.first_bildate\n",
      "     , c.telf2\n",
      "     , a.gros_code\n",
      "     , a.gross_type\n",
      "     , a.kvgr4\n",
      "     , b.sms_yn\n",
      "     , b.email_yn\n",
      "     , b.tm_yn\n",
      "     , b.dm_yn\n",
      "     , b.adt1_yn\n",
      "     , b.aedat\n",
      "     , b.aenam\n",
      "  FROM sap.zsdt4013      AS a \n",
      "  LEFT JOIN (SELECT ctnum, kunnr, sms_yn, email_yn, tm_yn, dm_yn, sk1_yn, sk2_yn, adt1_yn, aedat, aenam, result1, result2, result3, result4, result5, result6 FROM sap.zsdt3748 WHERE usest = 'X') AS b\n",
      "        ON a.ctnum = b.ctnum\n",
      "  LEFT JOIN (SELECT kunnr, stcd2, stcd1, telf2, name1 FROM sap.kna1 WHERE mandt = '100') AS c\n",
      "        ON a.kunnr = c.kunnr\n",
      "LEFT JOIN (select distinct ctnum_hash, ctnum, kunnr_hash, kunnr from adt_work.hash_info) d\n",
      "       ON a.ctnum = d.ctnum_hash\n",
      "  WHERE a.mandt = '100' \n",
      "    AND a.stmon = '202009'  --년월 변경\n",
      "    AND a.bukrs = '1000'\n",
      "    AND a.cstat IN ('1','2')\n",
      "    AND a.conn_type IN ('A01', 'A02')\n",
      "    AND a.itype_m IN ('02', '05')\n",
      "    AND b.adt1_yn IN ('Y', ' ') \n",
      "    AND b.sms_yn = 'Y'\n",
      "\n",
      "\n",
      "......\n",
      ">> Athena Query Success!!\n",
      ">> Athena Query EXCUTION COMPLETE....\n",
      ">> S3 FILE GENERATION SUCCESS!! (File count: 7)\n",
      "Elapsed Time = 45.36\n",
      ">> Start downloading table\n",
      "aws s3 cp s3://adt-sandbox/dsc/tables/166b66e3-1420-4a79-91aa-957bd1232de5 /home/skinet/tmp/tmp_20201019_11_34_05_30303ee5e1bc6b73e008c184029b7071b0d81720 --recursive\n",
      "Elapsed Time = 7.40\n",
      ">> Loading data\n",
      "Dropping tmp db\n",
      "<< Delete s3://adt-sandbox/dsc/tables/166b66e3-1420-4a79-91aa-957bd1232de5/\n",
      "Removing tmp_dir!\n",
      "Elapsed Time for downloading and loading = 8.19\n",
      "Total Elapsed Time = 60.94\n"
     ]
    }
   ],
   "source": [
    "from skinet.utils.athena_tools import *\n",
    "conn = athena_connection()\n",
    "df = load_from_athena(conn, '''\n",
    "\n",
    "    SELECT d.kunnr\n",
    "\t , d.ctnum\n",
    "     , a.cstat\n",
    "     , a.gad_name\n",
    "     , a.gad_start\n",
    "     , a.cost_dept\n",
    "     , a.conn_start\n",
    "     , a.conn_end\n",
    "     , CAST(a.monexp_amt AS DOUBLE)*100 AS monexp_amt\n",
    "     , a.conn_type\n",
    "     , a.ctype_l\n",
    "     , a.ctype_m\n",
    "     , a.itype_l\n",
    "     , a.itype_m\n",
    "     , a.itype_s\n",
    "     , c.name1\n",
    "     , a.first_bildate\n",
    "     , c.telf2\n",
    "     , a.gros_code\n",
    "     , a.gross_type\n",
    "     , a.kvgr4\n",
    "     , b.sms_yn\n",
    "     , b.email_yn\n",
    "     , b.tm_yn\n",
    "     , b.dm_yn\n",
    "     , b.adt1_yn\n",
    "     , b.aedat\n",
    "     , b.aenam\n",
    "  FROM sap.zsdt4013      AS a \n",
    "  LEFT JOIN (SELECT ctnum, kunnr, sms_yn, email_yn, tm_yn, dm_yn, sk1_yn, sk2_yn, adt1_yn, aedat, aenam, result1, result2, result3, result4, result5, result6 FROM sap.zsdt3748 WHERE usest = 'X') AS b\n",
    "        ON a.ctnum = b.ctnum\n",
    "  LEFT JOIN (SELECT kunnr, stcd2, stcd1, telf2, name1 FROM sap.kna1 WHERE mandt = '100') AS c\n",
    "        ON a.kunnr = c.kunnr\n",
    "LEFT JOIN (select distinct ctnum_hash, ctnum, kunnr_hash, kunnr from adt_work.hash_info) d\n",
    "       ON a.ctnum = d.ctnum_hash\n",
    "  WHERE a.mandt = '100' \n",
    "    AND a.stmon = '202009'  --년월 변경\n",
    "    AND a.bukrs = '1000'\n",
    "    AND a.cstat IN ('1','2')\n",
    "    AND a.conn_type IN ('A01', 'A02')\n",
    "    AND a.itype_m IN ('02', '05')\n",
    "    AND b.adt1_yn IN ('Y', ' ') \n",
    "    AND b.sms_yn = 'Y'\n",
    "\n",
    "''') "
   ]
  },
  {
   "cell_type": "code",
   "execution_count": 3,
   "metadata": {},
   "outputs": [
    {
     "data": {
      "text/plain": [
       "(84594, 28)"
      ]
     },
     "execution_count": 3,
     "metadata": {},
     "output_type": "execute_result"
    }
   ],
   "source": [
    "df.shape"
   ]
  },
  {
   "cell_type": "code",
   "execution_count": 4,
   "metadata": {},
   "outputs": [],
   "source": [
    "def valid_number(x):\n",
    "      nums = list(str(x)) \n",
    "      n = len(nums)\n",
    "      answer=[]\n",
    "      i = 3\n",
    "      \n",
    "      while i <= n-3:\n",
    "            if int(nums[i]) - int(nums[i+1]) == int(nums[i+1]) - int(nums[i+2]):\n",
    "                  answer.append(True)\n",
    "            else:\n",
    "                  answer.append(False)\n",
    "            i += 1\n",
    "      \n",
    "      if (all(answer) == True) or (str(x) == '01000000001'):\n",
    "            return False\n",
    "      else:\n",
    "            return True     "
   ]
  },
  {
   "cell_type": "code",
   "execution_count": 5,
   "metadata": {},
   "outputs": [],
   "source": [
    "temp1 = df.copy()"
   ]
  },
  {
   "cell_type": "code",
   "execution_count": 6,
   "metadata": {},
   "outputs": [],
   "source": [
    "temp1['telf2'] = temp1['telf2'].str.replace('-|/|' '|'  '', '', regex=True)\n",
    "temp1['telf2'] = np.where(temp1['telf2'].str[0] != '0', \"0\"+temp1['telf2'], temp1['telf2'])\n",
    "temp1['telf2'] = temp1['telf2'].str.replace(' ', '')\n",
    "temp1['telf2'] = temp1['telf2'].str.replace('(', '')\n",
    "temp1['telf2'] = temp1['telf2'].str.replace(')', '')\n",
    "temp1['telf2'] = temp1['telf2'].str.replace('*', '')\n",
    "temp1['telf2'] = temp1['telf2'].str.replace('B', '')\n",
    "temp1['telf2'] = temp1['telf2'].str.replace('J', '')"
   ]
  },
  {
   "cell_type": "code",
   "execution_count": 7,
   "metadata": {},
   "outputs": [],
   "source": [
    "temp1['telf_valid_1'] = temp1['telf2'].str.contains('^01([0|1|6|7|8|9]?)-?([0-9]{3,4})-?([0-9]{4})$', regex=True)\n",
    "temp1['telf_valid_2'] = temp1['telf2'].apply(valid_number)\n",
    "temp1['telf_valid_final'] = np.where((temp1['telf_valid_1'] == True) & (temp1['telf_valid_2'] == True), True, False)\n",
    "temp1['telf_valid_final'] = temp1['telf_valid_final'].map({True : 1, False : 0})"
   ]
  },
  {
   "cell_type": "code",
   "execution_count": 8,
   "metadata": {},
   "outputs": [],
   "source": [
    "temp1 = temp1[temp1['telf_valid_final'] == 1].drop_duplicates(subset='telf2', keep='first')"
   ]
  },
  {
   "cell_type": "code",
   "execution_count": 9,
   "metadata": {},
   "outputs": [
    {
     "data": {
      "text/plain": [
       "(74228, 31)"
      ]
     },
     "execution_count": 9,
     "metadata": {},
     "output_type": "execute_result"
    }
   ],
   "source": [
    "temp1.shape"
   ]
  },
  {
   "cell_type": "code",
   "execution_count": 10,
   "metadata": {},
   "outputs": [
    {
     "data": {
      "text/plain": [
       "Index(['kunnr', 'ctnum', 'cstat', 'gad_name', 'gad_start', 'cost_dept',\n",
       "       'conn_start', 'conn_end', 'monexp_amt', 'conn_type', 'ctype_l',\n",
       "       'ctype_m', 'itype_l', 'itype_m', 'itype_s', 'name1', 'first_bildate',\n",
       "       'telf2', 'gros_code', 'gross_type', 'kvgr4', 'sms_yn', 'email_yn',\n",
       "       'tm_yn', 'dm_yn', 'adt1_yn', 'aedat', 'aenam', 'telf_valid_1',\n",
       "       'telf_valid_2', 'telf_valid_final'],\n",
       "      dtype='object')"
      ]
     },
     "execution_count": 10,
     "metadata": {},
     "output_type": "execute_result"
    }
   ],
   "source": [
    "temp1.columns"
   ]
  },
  {
   "cell_type": "code",
   "execution_count": 12,
   "metadata": {},
   "outputs": [
    {
     "data": {
      "text/html": [
       "<div>\n",
       "<style scoped>\n",
       "    .dataframe tbody tr th:only-of-type {\n",
       "        vertical-align: middle;\n",
       "    }\n",
       "\n",
       "    .dataframe tbody tr th {\n",
       "        vertical-align: top;\n",
       "    }\n",
       "\n",
       "    .dataframe thead th {\n",
       "        text-align: right;\n",
       "    }\n",
       "</style>\n",
       "<table border=\"1\" class=\"dataframe\">\n",
       "  <thead>\n",
       "    <tr style=\"text-align: right;\">\n",
       "      <th></th>\n",
       "      <th>고객번호</th>\n",
       "      <th>계약번호</th>\n",
       "      <th>업종(중)</th>\n",
       "      <th>계약타입</th>\n",
       "      <th>경비상호</th>\n",
       "      <th>월정료</th>\n",
       "      <th>경비부서코드</th>\n",
       "      <th>경비개시일</th>\n",
       "      <th>휴대폰번호</th>\n",
       "      <th>SMS수신동의</th>\n",
       "      <th>개인정보수집동의</th>\n",
       "    </tr>\n",
       "  </thead>\n",
       "  <tbody>\n",
       "    <tr>\n",
       "      <th>0</th>\n",
       "      <td>CU0002288</td>\n",
       "      <td>100028271</td>\n",
       "      <td>05</td>\n",
       "      <td>A01</td>\n",
       "      <td>SK나이츠농구단정문</td>\n",
       "      <td>30000.0</td>\n",
       "      <td>571300</td>\n",
       "      <td>20170627</td>\n",
       "      <td>01037205413</td>\n",
       "      <td>Y</td>\n",
       "      <td></td>\n",
       "    </tr>\n",
       "    <tr>\n",
       "      <th>2</th>\n",
       "      <td>CU0311543</td>\n",
       "      <td>217047955</td>\n",
       "      <td>05</td>\n",
       "      <td>A01</td>\n",
       "      <td>화진볼트산업</td>\n",
       "      <td>101000.0</td>\n",
       "      <td>711100</td>\n",
       "      <td>20170526</td>\n",
       "      <td>01038349608</td>\n",
       "      <td>Y</td>\n",
       "      <td></td>\n",
       "    </tr>\n",
       "    <tr>\n",
       "      <th>3</th>\n",
       "      <td>CU1214209</td>\n",
       "      <td>217058159</td>\n",
       "      <td>02</td>\n",
       "      <td>A01</td>\n",
       "      <td>공차</td>\n",
       "      <td>60000.0</td>\n",
       "      <td>551600</td>\n",
       "      <td>20170629</td>\n",
       "      <td>01023555786</td>\n",
       "      <td>Y</td>\n",
       "      <td></td>\n",
       "    </tr>\n",
       "    <tr>\n",
       "      <th>4</th>\n",
       "      <td>CU1216327</td>\n",
       "      <td>217062028</td>\n",
       "      <td>02</td>\n",
       "      <td>A01</td>\n",
       "      <td>족황상제 개포점</td>\n",
       "      <td>65000.0</td>\n",
       "      <td>511200</td>\n",
       "      <td>20170629</td>\n",
       "      <td>01088666676</td>\n",
       "      <td>Y</td>\n",
       "      <td></td>\n",
       "    </tr>\n",
       "    <tr>\n",
       "      <th>5</th>\n",
       "      <td>CU1220115</td>\n",
       "      <td>217068552</td>\n",
       "      <td>02</td>\n",
       "      <td>A01</td>\n",
       "      <td>(주)류재은베이커리행복점</td>\n",
       "      <td>126000.0</td>\n",
       "      <td>521600</td>\n",
       "      <td>20170718</td>\n",
       "      <td>01054341383</td>\n",
       "      <td>Y</td>\n",
       "      <td></td>\n",
       "    </tr>\n",
       "  </tbody>\n",
       "</table>\n",
       "</div>"
      ],
      "text/plain": [
       "        고객번호       계약번호 업종(중) 계약타입           경비상호       월정료  경비부서코드     경비개시일  \\\n",
       "0  CU0002288  100028271    05  A01     SK나이츠농구단정문   30000.0  571300  20170627   \n",
       "2  CU0311543  217047955    05  A01         화진볼트산업  101000.0  711100  20170526   \n",
       "3  CU1214209  217058159    02  A01             공차   60000.0  551600  20170629   \n",
       "4  CU1216327  217062028    02  A01       족황상제 개포점   65000.0  511200  20170629   \n",
       "5  CU1220115  217068552    02  A01  (주)류재은베이커리행복점  126000.0  521600  20170718   \n",
       "\n",
       "         휴대폰번호 SMS수신동의 개인정보수집동의  \n",
       "0  01037205413       Y           \n",
       "2  01038349608       Y           \n",
       "3  01023555786       Y           \n",
       "4  01088666676       Y           \n",
       "5  01054341383       Y           "
      ]
     },
     "execution_count": 12,
     "metadata": {},
     "output_type": "execute_result"
    }
   ],
   "source": [
    "final = temp1[[\n",
    "    'kunnr', 'ctnum', 'gad_name', 'telf2', 'sms_yn', 'adt1_yn', 'itype_m', 'conn_type', 'monexp_amt', 'gad_start', 'cost_dept'\n",
    "]]\n",
    "\n",
    "final = final.rename(columns={\n",
    "    'kunnr' : '고객번호',\n",
    "    'ctnum' : '계약번호',\n",
    "    'conn_type' : '계약타입',\n",
    "    'itype_m' : '업종(중)',\n",
    "    'gad_name' : '경비상호',\n",
    "    'monexp_amt' : '월정료',\n",
    "    'cost_dept' : '경비부서코드',\n",
    "    'gad_start' : '경비개시일',\n",
    "    'telf2' : '휴대폰번호',\n",
    "    'sms_yn' : 'SMS수신동의',\n",
    "    'adt1_yn' : '개인정보수집동의'\n",
    "})\n",
    "\n",
    "final = final[['고객번호', '계약번호', '업종(중)', '계약타입', '경비상호', '월정료', '경비부서코드', '경비개시일', '휴대폰번호', 'SMS수신동의', '개인정보수집동의']]\n",
    "final.head()"
   ]
  },
  {
   "cell_type": "code",
   "execution_count": 13,
   "metadata": {},
   "outputs": [],
   "source": [
    "final.to_csv('성장기획팀의뢰_SMS발송DB_201019.csv', encoding='utf-8-sig')"
   ]
  },
  {
   "cell_type": "code",
   "execution_count": null,
   "metadata": {},
   "outputs": [],
   "source": []
  }
 ],
 "metadata": {
  "kernelspec": {
   "display_name": "Python 3",
   "language": "python",
   "name": "python3"
  },
  "language_info": {
   "codemirror_mode": {
    "name": "ipython",
    "version": 3
   },
   "file_extension": ".py",
   "mimetype": "text/x-python",
   "name": "python",
   "nbconvert_exporter": "python",
   "pygments_lexer": "ipython3",
   "version": "3.6.8"
  }
 },
 "nbformat": 4,
 "nbformat_minor": 4
}
