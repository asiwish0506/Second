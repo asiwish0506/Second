{
 "cells": [
  {
   "cell_type": "code",
   "execution_count": 1,
   "metadata": {},
   "outputs": [],
   "source": [
    "import pandas as pd\n",
    "import numpy as np\n",
    "import matplotlib.pyplot as plt\n",
    "import seaborn as sns"
   ]
  },
  {
   "cell_type": "code",
   "execution_count": 1,
   "metadata": {},
   "outputs": [
    {
     "name": "stderr",
     "output_type": "stream",
     "text": [
      "/usr/local/lib/python3.6/dist-packages/fastparquet/dataframe.py:5: FutureWarning: pandas.core.index is deprecated and will be removed in a future version.  The public classes are available in the top-level namespace.\n",
      "  from pandas.core.index import CategoricalIndex, RangeIndex, Index, MultiIndex\n"
     ]
    },
    {
     "name": "stdout",
     "output_type": "stream",
     "text": [
      "...tmp_db name = tmp_20200629_10_55_04_5c08d413ed2779dab12d33362825add09e3a40d7\n",
      "Start creating table\n",
      "drop table if exists default.tmp_20200629_10_55_04_5c08d413ed2779dab12d33362825add09e3a40d7\n",
      "<< table not exist\n",
      "\n",
      "        create  table         default.tmp_20200629_10_55_04_5c08d413ed2779dab12d33362825add09e3a40d7\n",
      "        with (format='Parquet', parquet_compression='GZIP')\n",
      "        as\n",
      "        select * from default.tm_list_header_hj\n",
      ".\n",
      ">> Athena Query Success!!\n",
      ">> Athena Query EXCUTION COMPLETE....\n",
      ">> S3 FILE GENERATION SUCCESS!! (File count: 4)\n",
      "Elapsed Time = 12.00\n",
      ">> Start downloading table\n",
      "aws s3 cp s3://adt-sandbox/dsc/tables/e07c7fc6-9f24-4772-9856-58fdde3fb854 /home/skinet/tmp/tmp_20200629_10_55_04_5c08d413ed2779dab12d33362825add09e3a40d7 --recursive\n",
      "Elapsed Time = 3.52\n",
      ">> Loading data\n",
      "Dropping tmp db\n",
      "<< Delete s3://adt-sandbox/dsc/tables/e07c7fc6-9f24-4772-9856-58fdde3fb854\n",
      "Removing tmp_dir!\n",
      "Elapsed Time for downloading and loading = 8.33\n",
      "Total Elapsed Time = 23.85\n"
     ]
    },
    {
     "data": {
      "text/html": [
       "<div>\n",
       "<style scoped>\n",
       "    .dataframe tbody tr th:only-of-type {\n",
       "        vertical-align: middle;\n",
       "    }\n",
       "\n",
       "    .dataframe tbody tr th {\n",
       "        vertical-align: top;\n",
       "    }\n",
       "\n",
       "    .dataframe thead th {\n",
       "        text-align: right;\n",
       "    }\n",
       "</style>\n",
       "<table border=\"1\" class=\"dataframe\">\n",
       "  <thead>\n",
       "    <tr style=\"text-align: right;\">\n",
       "      <th></th>\n",
       "      <th>listid</th>\n",
       "      <th>listname</th>\n",
       "      <th>listtypecd</th>\n",
       "      <th>extracteddate</th>\n",
       "      <th>extractedtime</th>\n",
       "      <th>extractorid</th>\n",
       "      <th>requestcnt</th>\n",
       "      <th>extractedcnt</th>\n",
       "      <th>isallocation</th>\n",
       "      <th>teamcd</th>\n",
       "      <th>extractedgbn</th>\n",
       "      <th>work_dt</th>\n",
       "      <th>listtype</th>\n",
       "    </tr>\n",
       "  </thead>\n",
       "  <tbody>\n",
       "    <tr>\n",
       "      <th>0</th>\n",
       "      <td>123675</td>\n",
       "      <td>★ADT화재안심(20190711)_일반</td>\n",
       "      <td>35</td>\n",
       "      <td>2019/07/11</td>\n",
       "      <td>13:48:38</td>\n",
       "      <td>K1170127</td>\n",
       "      <td>12342</td>\n",
       "      <td>12342</td>\n",
       "      <td>Y</td>\n",
       "      <td>402</td>\n",
       "      <td>2</td>\n",
       "      <td>20200203</td>\n",
       "      <td>화재</td>\n",
       "    </tr>\n",
       "    <tr>\n",
       "      <th>1</th>\n",
       "      <td>122975</td>\n",
       "      <td>★ADT화재안심(20170808)_법인(지에이엠파트너스)</td>\n",
       "      <td>35</td>\n",
       "      <td>2017/08/08</td>\n",
       "      <td>11:30:46</td>\n",
       "      <td>K1170127</td>\n",
       "      <td>106</td>\n",
       "      <td>106</td>\n",
       "      <td>Y</td>\n",
       "      <td>402</td>\n",
       "      <td>2</td>\n",
       "      <td>20200203</td>\n",
       "      <td>화재</td>\n",
       "    </tr>\n",
       "    <tr>\n",
       "      <th>2</th>\n",
       "      <td>123323</td>\n",
       "      <td>★ADT화재안심(20180515)_2월신규(재)</td>\n",
       "      <td>35</td>\n",
       "      <td>2018/05/15</td>\n",
       "      <td>13:16:01</td>\n",
       "      <td>K1170127</td>\n",
       "      <td>2577</td>\n",
       "      <td>2577</td>\n",
       "      <td>Y</td>\n",
       "      <td>402</td>\n",
       "      <td>2</td>\n",
       "      <td>20190804</td>\n",
       "      <td>화재</td>\n",
       "    </tr>\n",
       "    <tr>\n",
       "      <th>3</th>\n",
       "      <td>122923</td>\n",
       "      <td>★ADT화재안심(20170712)_미처리(3~4월)</td>\n",
       "      <td>35</td>\n",
       "      <td>2017/07/12</td>\n",
       "      <td>16:37:49</td>\n",
       "      <td>K1170127</td>\n",
       "      <td>18993</td>\n",
       "      <td>18993</td>\n",
       "      <td>Y</td>\n",
       "      <td>402</td>\n",
       "      <td>2</td>\n",
       "      <td>20191021</td>\n",
       "      <td>화재</td>\n",
       "    </tr>\n",
       "    <tr>\n",
       "      <th>4</th>\n",
       "      <td>123068</td>\n",
       "      <td>★ADT화재안심(20171103)_복구1천기가입</td>\n",
       "      <td>35</td>\n",
       "      <td>2017/11/03</td>\n",
       "      <td>20:08:04</td>\n",
       "      <td>K1170127</td>\n",
       "      <td>13309</td>\n",
       "      <td>13309</td>\n",
       "      <td>Y</td>\n",
       "      <td>402</td>\n",
       "      <td>2</td>\n",
       "      <td>20191021</td>\n",
       "      <td>화재</td>\n",
       "    </tr>\n",
       "  </tbody>\n",
       "</table>\n",
       "</div>"
      ],
      "text/plain": [
       "   listid                         listname listtypecd extracteddate  \\\n",
       "0  123675            ★ADT화재안심(20190711)_일반         35    2019/07/11   \n",
       "1  122975  ★ADT화재안심(20170808)_법인(지에이엠파트너스)         35    2017/08/08   \n",
       "2  123323       ★ADT화재안심(20180515)_2월신규(재)         35    2018/05/15   \n",
       "3  122923     ★ADT화재안심(20170712)_미처리(3~4월)         35    2017/07/12   \n",
       "4  123068       ★ADT화재안심(20171103)_복구1천기가입         35    2017/11/03   \n",
       "\n",
       "  extractedtime extractorid  requestcnt  extractedcnt isallocation teamcd  \\\n",
       "0      13:48:38    K1170127       12342         12342            Y    402   \n",
       "1      11:30:46    K1170127         106           106            Y    402   \n",
       "2      13:16:01    K1170127        2577          2577            Y    402   \n",
       "3      16:37:49    K1170127       18993         18993            Y    402   \n",
       "4      20:08:04    K1170127       13309         13309            Y    402   \n",
       "\n",
       "  extractedgbn   work_dt listtype  \n",
       "0            2  20200203       화재  \n",
       "1            2  20200203       화재  \n",
       "2            2  20190804       화재  \n",
       "3            2  20191021       화재  \n",
       "4            2  20191021       화재  "
      ]
     },
     "execution_count": 1,
     "metadata": {},
     "output_type": "execute_result"
    }
   ],
   "source": [
    "from skinet.utils.athena_tools import *\n",
    "conn = athena_connection()\n",
    "df = load_from_athena(conn, \"select * from default.tm_list_header_hj\")\n",
    "df.head()"
   ]
  },
  {
   "cell_type": "code",
   "execution_count": 2,
   "metadata": {},
   "outputs": [
    {
     "data": {
      "text/plain": [
       "listid           0\n",
       "listname         0\n",
       "listtypecd       0\n",
       "extracteddate    0\n",
       "extractedtime    0\n",
       "extractorid      0\n",
       "requestcnt       0\n",
       "extractedcnt     0\n",
       "isallocation     0\n",
       "teamcd           0\n",
       "extractedgbn     0\n",
       "work_dt          0\n",
       "listtype         0\n",
       "dtype: int64"
      ]
     },
     "execution_count": 2,
     "metadata": {},
     "output_type": "execute_result"
    }
   ],
   "source": [
    "df.isnull().sum()"
   ]
  },
  {
   "cell_type": "markdown",
   "metadata": {},
   "source": [
    "### null값은 없음"
   ]
  },
  {
   "cell_type": "code",
   "execution_count": 3,
   "metadata": {},
   "outputs": [
    {
     "name": "stdout",
     "output_type": "stream",
     "text": [
      "listid total : 46556\n",
      "listid unique :  165\n"
     ]
    }
   ],
   "source": [
    "print('listid total :',  df.listid.count())\n",
    "print('listid unique : ', df.listid.nunique())"
   ]
  },
  {
   "cell_type": "markdown",
   "metadata": {},
   "source": [
    "### 동일 listid 여러개 존재"
   ]
  },
  {
   "cell_type": "code",
   "execution_count": 5,
   "metadata": {},
   "outputs": [
    {
     "data": {
      "text/html": [
       "<div>\n",
       "<style scoped>\n",
       "    .dataframe tbody tr th:only-of-type {\n",
       "        vertical-align: middle;\n",
       "    }\n",
       "\n",
       "    .dataframe tbody tr th {\n",
       "        vertical-align: top;\n",
       "    }\n",
       "\n",
       "    .dataframe thead th {\n",
       "        text-align: right;\n",
       "    }\n",
       "</style>\n",
       "<table border=\"1\" class=\"dataframe\">\n",
       "  <thead>\n",
       "    <tr style=\"text-align: right;\">\n",
       "      <th></th>\n",
       "      <th>listid</th>\n",
       "      <th>listname</th>\n",
       "      <th>listtypecd</th>\n",
       "      <th>extracteddate</th>\n",
       "      <th>extractedtime</th>\n",
       "      <th>extractorid</th>\n",
       "      <th>requestcnt</th>\n",
       "      <th>extractedcnt</th>\n",
       "      <th>isallocation</th>\n",
       "      <th>teamcd</th>\n",
       "      <th>extractedgbn</th>\n",
       "      <th>work_dt</th>\n",
       "      <th>listtype</th>\n",
       "    </tr>\n",
       "  </thead>\n",
       "  <tbody>\n",
       "    <tr>\n",
       "      <th>329</th>\n",
       "      <td>122972</td>\n",
       "      <td>★ADT화재안심(20170804)_미처리(5월)</td>\n",
       "      <td>35</td>\n",
       "      <td>2017/08/04</td>\n",
       "      <td>13:42:36</td>\n",
       "      <td>K1170127</td>\n",
       "      <td>19362</td>\n",
       "      <td>19362</td>\n",
       "      <td>Y</td>\n",
       "      <td>402</td>\n",
       "      <td>2</td>\n",
       "      <td>20190820</td>\n",
       "      <td>화재</td>\n",
       "    </tr>\n",
       "    <tr>\n",
       "      <th>902</th>\n",
       "      <td>122972</td>\n",
       "      <td>★ADT화재안심(20170804)_미처리(5월)</td>\n",
       "      <td>35</td>\n",
       "      <td>2017/08/04</td>\n",
       "      <td>13:42:36</td>\n",
       "      <td>K1170127</td>\n",
       "      <td>19362</td>\n",
       "      <td>19362</td>\n",
       "      <td>Y</td>\n",
       "      <td>402</td>\n",
       "      <td>2</td>\n",
       "      <td>20200414</td>\n",
       "      <td>화재</td>\n",
       "    </tr>\n",
       "    <tr>\n",
       "      <th>932</th>\n",
       "      <td>122972</td>\n",
       "      <td>★ADT화재안심(20170804)_미처리(5월)</td>\n",
       "      <td>35</td>\n",
       "      <td>2017/08/04</td>\n",
       "      <td>13:42:36</td>\n",
       "      <td>K1170127</td>\n",
       "      <td>19362</td>\n",
       "      <td>19362</td>\n",
       "      <td>Y</td>\n",
       "      <td>402</td>\n",
       "      <td>2</td>\n",
       "      <td>20200413</td>\n",
       "      <td>화재</td>\n",
       "    </tr>\n",
       "    <tr>\n",
       "      <th>969</th>\n",
       "      <td>122972</td>\n",
       "      <td>★ADT화재안심(20170804)_미처리(5월)</td>\n",
       "      <td>35</td>\n",
       "      <td>2017/08/04</td>\n",
       "      <td>13:42:36</td>\n",
       "      <td>K1170127</td>\n",
       "      <td>19362</td>\n",
       "      <td>19362</td>\n",
       "      <td>Y</td>\n",
       "      <td>402</td>\n",
       "      <td>2</td>\n",
       "      <td>20191018</td>\n",
       "      <td>화재</td>\n",
       "    </tr>\n",
       "    <tr>\n",
       "      <th>1077</th>\n",
       "      <td>122972</td>\n",
       "      <td>★ADT화재안심(20170804)_미처리(5월)</td>\n",
       "      <td>35</td>\n",
       "      <td>2017/08/04</td>\n",
       "      <td>13:42:36</td>\n",
       "      <td>K1170127</td>\n",
       "      <td>19362</td>\n",
       "      <td>19362</td>\n",
       "      <td>Y</td>\n",
       "      <td>402</td>\n",
       "      <td>2</td>\n",
       "      <td>20200323</td>\n",
       "      <td>화재</td>\n",
       "    </tr>\n",
       "    <tr>\n",
       "      <th>...</th>\n",
       "      <td>...</td>\n",
       "      <td>...</td>\n",
       "      <td>...</td>\n",
       "      <td>...</td>\n",
       "      <td>...</td>\n",
       "      <td>...</td>\n",
       "      <td>...</td>\n",
       "      <td>...</td>\n",
       "      <td>...</td>\n",
       "      <td>...</td>\n",
       "      <td>...</td>\n",
       "      <td>...</td>\n",
       "      <td>...</td>\n",
       "    </tr>\n",
       "    <tr>\n",
       "      <th>46170</th>\n",
       "      <td>122972</td>\n",
       "      <td>★ADT화재안심(20170804)_미처리(5월)</td>\n",
       "      <td>35</td>\n",
       "      <td>2017/08/04</td>\n",
       "      <td>13:42:36</td>\n",
       "      <td>K1170127</td>\n",
       "      <td>19362</td>\n",
       "      <td>19362</td>\n",
       "      <td>Y</td>\n",
       "      <td>402</td>\n",
       "      <td>2</td>\n",
       "      <td>20200209</td>\n",
       "      <td>화재</td>\n",
       "    </tr>\n",
       "    <tr>\n",
       "      <th>46198</th>\n",
       "      <td>122972</td>\n",
       "      <td>★ADT화재안심(20170804)_미처리(5월)</td>\n",
       "      <td>35</td>\n",
       "      <td>2017/08/04</td>\n",
       "      <td>13:42:36</td>\n",
       "      <td>K1170127</td>\n",
       "      <td>19362</td>\n",
       "      <td>19362</td>\n",
       "      <td>Y</td>\n",
       "      <td>402</td>\n",
       "      <td>2</td>\n",
       "      <td>20200226</td>\n",
       "      <td>화재</td>\n",
       "    </tr>\n",
       "    <tr>\n",
       "      <th>46208</th>\n",
       "      <td>122972</td>\n",
       "      <td>★ADT화재안심(20170804)_미처리(5월)</td>\n",
       "      <td>35</td>\n",
       "      <td>2017/08/04</td>\n",
       "      <td>13:42:36</td>\n",
       "      <td>K1170127</td>\n",
       "      <td>19362</td>\n",
       "      <td>19362</td>\n",
       "      <td>Y</td>\n",
       "      <td>402</td>\n",
       "      <td>2</td>\n",
       "      <td>20200530</td>\n",
       "      <td>화재</td>\n",
       "    </tr>\n",
       "    <tr>\n",
       "      <th>46275</th>\n",
       "      <td>122972</td>\n",
       "      <td>★ADT화재안심(20170804)_미처리(5월)</td>\n",
       "      <td>35</td>\n",
       "      <td>2017/08/04</td>\n",
       "      <td>13:42:36</td>\n",
       "      <td>K1170127</td>\n",
       "      <td>19362</td>\n",
       "      <td>19362</td>\n",
       "      <td>Y</td>\n",
       "      <td>402</td>\n",
       "      <td>2</td>\n",
       "      <td>20200429</td>\n",
       "      <td>화재</td>\n",
       "    </tr>\n",
       "    <tr>\n",
       "      <th>46383</th>\n",
       "      <td>122972</td>\n",
       "      <td>★ADT화재안심(20170804)_미처리(5월)</td>\n",
       "      <td>35</td>\n",
       "      <td>2017/08/04</td>\n",
       "      <td>13:42:36</td>\n",
       "      <td>K1170127</td>\n",
       "      <td>19362</td>\n",
       "      <td>19362</td>\n",
       "      <td>Y</td>\n",
       "      <td>402</td>\n",
       "      <td>2</td>\n",
       "      <td>20191113</td>\n",
       "      <td>화재</td>\n",
       "    </tr>\n",
       "  </tbody>\n",
       "</table>\n",
       "<p>356 rows × 13 columns</p>\n",
       "</div>"
      ],
      "text/plain": [
       "       listid                    listname listtypecd extracteddate  \\\n",
       "329    122972  ★ADT화재안심(20170804)_미처리(5월)         35    2017/08/04   \n",
       "902    122972  ★ADT화재안심(20170804)_미처리(5월)         35    2017/08/04   \n",
       "932    122972  ★ADT화재안심(20170804)_미처리(5월)         35    2017/08/04   \n",
       "969    122972  ★ADT화재안심(20170804)_미처리(5월)         35    2017/08/04   \n",
       "1077   122972  ★ADT화재안심(20170804)_미처리(5월)         35    2017/08/04   \n",
       "...       ...                         ...        ...           ...   \n",
       "46170  122972  ★ADT화재안심(20170804)_미처리(5월)         35    2017/08/04   \n",
       "46198  122972  ★ADT화재안심(20170804)_미처리(5월)         35    2017/08/04   \n",
       "46208  122972  ★ADT화재안심(20170804)_미처리(5월)         35    2017/08/04   \n",
       "46275  122972  ★ADT화재안심(20170804)_미처리(5월)         35    2017/08/04   \n",
       "46383  122972  ★ADT화재안심(20170804)_미처리(5월)         35    2017/08/04   \n",
       "\n",
       "      extractedtime extractorid  requestcnt  extractedcnt isallocation teamcd  \\\n",
       "329        13:42:36    K1170127       19362         19362            Y    402   \n",
       "902        13:42:36    K1170127       19362         19362            Y    402   \n",
       "932        13:42:36    K1170127       19362         19362            Y    402   \n",
       "969        13:42:36    K1170127       19362         19362            Y    402   \n",
       "1077       13:42:36    K1170127       19362         19362            Y    402   \n",
       "...             ...         ...         ...           ...          ...    ...   \n",
       "46170      13:42:36    K1170127       19362         19362            Y    402   \n",
       "46198      13:42:36    K1170127       19362         19362            Y    402   \n",
       "46208      13:42:36    K1170127       19362         19362            Y    402   \n",
       "46275      13:42:36    K1170127       19362         19362            Y    402   \n",
       "46383      13:42:36    K1170127       19362         19362            Y    402   \n",
       "\n",
       "      extractedgbn   work_dt listtype  \n",
       "329              2  20190820       화재  \n",
       "902              2  20200414       화재  \n",
       "932              2  20200413       화재  \n",
       "969              2  20191018       화재  \n",
       "1077             2  20200323       화재  \n",
       "...            ...       ...      ...  \n",
       "46170            2  20200209       화재  \n",
       "46198            2  20200226       화재  \n",
       "46208            2  20200530       화재  \n",
       "46275            2  20200429       화재  \n",
       "46383            2  20191113       화재  \n",
       "\n",
       "[356 rows x 13 columns]"
      ]
     },
     "execution_count": 5,
     "metadata": {},
     "output_type": "execute_result"
    }
   ],
   "source": [
    "df[df['listid'] == 122972]"
   ]
  },
  {
   "cell_type": "markdown",
   "metadata": {},
   "source": [
    "### 동일 listid는 모든 값이 동일하고 work_dt만 다름. 최초 생성시에 listid 만들어지면 불변하지만 재사용시마다 work_dt가\n",
    "### 추가되면서 새로 생기는 듯?"
   ]
  },
  {
   "cell_type": "code",
   "execution_count": 13,
   "metadata": {},
   "outputs": [
    {
     "name": "stdout",
     "output_type": "stream",
     "text": [
      "최초추출일자 2017/03/15\n",
      "최종추출일자 2020/05/07\n"
     ]
    }
   ],
   "source": [
    "print('최초추출일자', df.extracteddate.min())\n",
    "print('최종추출일자', df.extracteddate.max())"
   ]
  },
  {
   "cell_type": "code",
   "execution_count": 14,
   "metadata": {},
   "outputs": [
    {
     "name": "stdout",
     "output_type": "stream",
     "text": [
      "최초work_dt 20190609\n",
      "최종work_dt 20200603\n"
     ]
    }
   ],
   "source": [
    "print('최초work_dt', df.work_dt.min())\n",
    "print('최종work_dt', df.work_dt.max())"
   ]
  },
  {
   "cell_type": "code",
   "execution_count": 15,
   "metadata": {},
   "outputs": [
    {
     "data": {
      "text/plain": [
       "Y    45490\n",
       "N     1066\n",
       "Name: isallocation, dtype: int64"
      ]
     },
     "execution_count": 15,
     "metadata": {},
     "output_type": "execute_result"
    }
   ],
   "source": [
    "df.isallocation.value_counts()"
   ]
  },
  {
   "cell_type": "code",
   "execution_count": 18,
   "metadata": {},
   "outputs": [
    {
     "name": "stdout",
     "output_type": "stream",
     "text": [
      "미할당list최초추출일 2017/03/22\n",
      "미할당list최종추출일 2020/04/01\n"
     ]
    }
   ],
   "source": [
    "print('미할당list최초추출일', df[df['isallocation'] == 'N'].extracteddate.min())\n",
    "print('미할당list최종추출일', df[df['isallocation'] == 'N'].extracteddate.max())"
   ]
  },
  {
   "cell_type": "code",
   "execution_count": 19,
   "metadata": {},
   "outputs": [
    {
     "name": "stdout",
     "output_type": "stream",
     "text": [
      "미할당list최초work_dt 20190609\n",
      "미할당list최종work_dt 20200603\n"
     ]
    }
   ],
   "source": [
    "print('미할당list최초work_dt', df[df['isallocation'] == 'N'].work_dt.min())\n",
    "print('미할당list최종work_dt', df[df['isallocation'] == 'N'].work_dt.max())"
   ]
  },
  {
   "cell_type": "code",
   "execution_count": 9,
   "metadata": {},
   "outputs": [
    {
     "data": {
      "text/plain": [
       "listtype\n",
       "정전     16\n",
       "주택      3\n",
       "화재    146\n",
       "Name: listid, dtype: int64"
      ]
     },
     "execution_count": 9,
     "metadata": {},
     "output_type": "execute_result"
    }
   ],
   "source": [
    "df.groupby('listtype').nunique()['listid']"
   ]
  },
  {
   "cell_type": "markdown",
   "metadata": {},
   "source": [
    "주택 list는 3개밖에 없고, 기존에 추출된 걸 계속해서 재활용하고 있음"
   ]
  }
 ],
 "metadata": {
  "kernelspec": {
   "display_name": "Python 3",
   "language": "python",
   "name": "python3"
  },
  "language_info": {
   "codemirror_mode": {
    "name": "ipython",
    "version": 3
   },
   "file_extension": ".py",
   "mimetype": "text/x-python",
   "name": "python",
   "nbconvert_exporter": "python",
   "pygments_lexer": "ipython3",
   "version": "3.6.8"
  }
 },
 "nbformat": 4,
 "nbformat_minor": 4
}
