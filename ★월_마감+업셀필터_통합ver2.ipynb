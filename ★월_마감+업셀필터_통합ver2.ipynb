{
 "cells": [
  {
   "cell_type": "code",
   "execution_count": 1,
   "metadata": {},
   "outputs": [],
   "source": [
    "import pandas as pd\n",
    "import numpy as np\n",
    "import matplotlib.pyplot as plt\n",
    "import seaborn as sns\n",
    "import warnings\n",
    "import datetime\n",
    "from dateutil.relativedelta import relativedelta\n",
    "from skinet.utils.athena_tools import *\n",
    "warnings.filterwarnings(\"ignore\")"
   ]
  },
  {
   "cell_type": "code",
   "execution_count": 2,
   "metadata": {},
   "outputs": [],
   "source": [
    "ym = '202011'                          # 전월 (몇월의 마감자료로 작업하고 있는지)\n",
    "first_bill_month = '202010'            # 최초 청구월 기준\n",
    "final_call_boundary = '2020/10/01'     # 최종 통화일 기준 (이 이후 통화건이 있으면 제외)"
   ]
  },
  {
   "cell_type": "code",
   "execution_count": 3,
   "metadata": {},
   "outputs": [
    {
     "data": {
      "text/plain": [
       "'20200501'"
      ]
     },
     "execution_count": 3,
     "metadata": {},
     "output_type": "execute_result"
    }
   ],
   "source": [
    "# 6개월 전 연월일\n",
    "ymd_minus_6month = datetime.date(int(ym[0:4]), int(ym[4:6]), 1) - relativedelta(months=6)\n",
    "ymd_minus_6month = str(ymd_minus_6month.year)+str(ymd_minus_6month.month).zfill(2)+str(ymd_minus_6month.day).zfill(2)\n",
    "ymd_minus_6month"
   ]
  },
  {
   "cell_type": "code",
   "execution_count": 4,
   "metadata": {},
   "outputs": [
    {
     "data": {
      "text/plain": [
       "'2020/05/01'"
      ]
     },
     "execution_count": 4,
     "metadata": {},
     "output_type": "execute_result"
    }
   ],
   "source": [
    "# 6개월 전 연월일 (슬래쉬 형식)\n",
    "ymd_minus_6month_slash = datetime.date(int(ym[0:4]), int(ym[4:6]), 1) - relativedelta(months=6)\n",
    "ymd_minus_6month_slash = str(ymd_minus_6month_slash.year)+'/'+str(ymd_minus_6month_slash.month).zfill(2)+'/'+str(ymd_minus_6month_slash.day).zfill(2)\n",
    "ymd_minus_6month_slash"
   ]
  },
  {
   "cell_type": "code",
   "execution_count": 5,
   "metadata": {},
   "outputs": [
    {
     "data": {
      "text/plain": [
       "'20191101'"
      ]
     },
     "execution_count": 5,
     "metadata": {},
     "output_type": "execute_result"
    }
   ],
   "source": [
    "# 1년 전 연월일\n",
    "ymd_minus_1year = datetime.date(int(ym[0:4]), int(ym[4:6]), 1) - relativedelta(years=1)\n",
    "ymd_minus_1year = str(ymd_minus_1year.year)+str(ymd_minus_1year.month).zfill(2)+str(ymd_minus_1year.day).zfill(2)\n",
    "ymd_minus_1year"
   ]
  },
  {
   "cell_type": "markdown",
   "metadata": {},
   "source": [
    "## 0.  기존 미처리 리스트 업로드하여 EDD 임시 테이블 만들기"
   ]
  },
  {
   "cell_type": "code",
   "execution_count": 6,
   "metadata": {},
   "outputs": [],
   "source": [
    "temp = pd.read_csv('2020년 9월 미처리 DB.csv', encoding='utf-8-sig') # <- 기존 미처리 리스트 업로드 후 파일명 넣기 \n",
    "temp.rename(columns={'통합코드' : 'ctnum'}, inplace=True)\n",
    "temp = pd.DataFrame(temp['ctnum'].astype(str))"
   ]
  },
  {
   "cell_type": "code",
   "execution_count": 7,
   "metadata": {},
   "outputs": [
    {
     "data": {
      "text/plain": [
       "(26631, 1)"
      ]
     },
     "execution_count": 7,
     "metadata": {},
     "output_type": "execute_result"
    }
   ],
   "source": [
    "temp.shape"
   ]
  },
  {
   "cell_type": "code",
   "execution_count": 8,
   "metadata": {},
   "outputs": [
    {
     "name": "stdout",
     "output_type": "stream",
     "text": [
      "<< Delete s3://adt-sandbox/_create/tables/default.tm_upsell_db_temp\n",
      "default.tm_upsell_db_temp is_exist: False\n",
      "['ctnum string']\n",
      "<< table not exist\n",
      "CREATE EXTERNAL TABLE IF NOT EXISTS default.tm_upsell_db_temp (                ctnum string                )                                stored as parquet location 's3://adt-sandbox/_create/tables/default.tm_upsell_db_temp'\n",
      "\n",
      ">> Athena Query Success!!\n",
      ">> Athena Query EXCUTION COMPLETE....\n",
      "load data from local to aws s3!\n",
      "aws s3 cp /home/skinet/tmp/default.tm_upsell_db_temp/ s3://adt-sandbox/_create/tables/default.tm_upsell_db_temp/ --recursive\n",
      "rm /home/skinet/tmp/default.tm_upsell_db_temp\n"
     ]
    }
   ],
   "source": [
    "conn = athena_connection()\n",
    "drop_table_in_athena(conn, 'default.tm_upsell_db_temp')\n",
    "load_to_athena(conn, temp, 'default.tm_upsell_db_temp')\n",
    "del temp"
   ]
  },
  {
   "cell_type": "markdown",
   "metadata": {},
   "source": [
    "## 1. 월 마감자료 만들기"
   ]
  },
  {
   "cell_type": "code",
   "execution_count": 9,
   "metadata": {},
   "outputs": [
    {
     "name": "stdout",
     "output_type": "stream",
     "text": [
      "<< Delete s3://adt-sandbox/_create/tables/default.monthly_deadline_202011\n",
      "...tmp_db name = tmp_20201230_11_24_28_beacd95e849692cd51394925178a57194d9f41c7\n",
      "Start creating table\n",
      "drop table if exists default.tmp_20201230_11_24_28_beacd95e849692cd51394925178a57194d9f41c7\n",
      "<< table not exist\n",
      "\n",
      "        create  table         default.tmp_20201230_11_24_28_beacd95e849692cd51394925178a57194d9f41c7\n",
      "        with (format='Parquet', parquet_compression='GZIP')\n",
      "        as\n",
      "        \n",
      "SELECT a.kcalss\n",
      "\t , d.kunnr\n",
      "\t , d.ctnum\n",
      "     , a.conn_dept\n",
      "     , a.conn_emp\n",
      "     , a.cost_dept\n",
      "     , a.cost_emp\n",
      "     , a.ctnum as ctnum_hash\n",
      "     , a.kunnr as kunnr_hash\n",
      "     , a.cstat\n",
      "     , a.gad_name\n",
      "     , a.gad_start\n",
      "     , a.conn_start\n",
      "     , a.conn_end\n",
      "     , CAST(a.monexp_amt AS DOUBLE)*100 AS monexp_amt\n",
      "     , a.conn_type\n",
      "     , a.ctype_l\n",
      "     , a.ctype_m\n",
      "     , a.ctype_s\n",
      "     , a.intro_asp\n",
      "     , a.itype_l\n",
      "     , a.itype_m\n",
      "     , a.itype_s\n",
      "     , a.itype_sdesc\n",
      "     , c.name1\n",
      "     , a.gad_add01\n",
      "     , a.post_add01\n",
      "     , a.first_bildate\n",
      "     , c.telf2\n",
      "     , a.svc_str\n",
      "     , a.pay_type\n",
      "     , a.depo_type\n",
      "     , a.line_type\n",
      "     , a.pck_str\n",
      "     , c.stcd2\n",
      "     , c.j_1kftbus AS uptae\n",
      "     , c.j_1kftind AS jongmok\n",
      "     , a.gros_code\n",
      "     , a.gross_type\n",
      "     , a.kvgr4\n",
      "     , a.gad_pstlz\n",
      "     , a.gad_add02\n",
      "     , a.post_add02\n",
      "     , b.sms_yn\n",
      "     , b.email_yn\n",
      "     , b.tm_yn\n",
      "     , b.dm_yn\n",
      "     , b.sk1_yn\n",
      "     , b.sk2_yn\n",
      "     , b.adt1_yn\n",
      "     , b.aedat\n",
      "     , b.aezet\n",
      "     , b.aenam\n",
      "     , e.ctrt_id AS nsok\n",
      "FROM sap.zsdt4013      AS a \n",
      "LEFT JOIN (SELECT ctnum, kunnr, sms_yn, email_yn, tm_yn, dm_yn, sk1_yn, sk2_yn, adt1_yn, aedat, aenam, aezet FROM sap.zsdt3748 WHERE usest = 'X') AS b\n",
      "      ON a.ctnum = b.ctnum\n",
      "LEFT JOIN (SELECT kunnr, stcd2, stcd1, telf2, name1, j_1kftbus, j_1kftind FROM sap.kna1 WHERE mandt = '100') AS c\n",
      "      ON a.kunnr = c.kunnr\n",
      "LEFT JOIN (select distinct ctnum_hash, ctnum, kunnr_hash, kunnr from adt_work.hash_info) d\n",
      "       ON a.ctnum = d.ctnum_hash\n",
      "LEFT JOIN (select distinct ctrt_id, ctnum from telepro.tb_nsok_mapping) e --n사 고객 추출\n",
      "       ON a.ctnum = e.ctnum\n",
      "  WHERE a.mandt = '100' \n",
      "    AND a.stmon = '202011'  --년월 변경\n",
      "    AND a.bukrs = '1000'\n",
      "    AND a.cstat IN ('1','2')\n",
      "\n",
      "..........\n",
      ">> Athena Query Success!!\n",
      ">> Athena Query EXCUTION COMPLETE....\n",
      ">> S3 FILE GENERATION SUCCESS!! (File count: 21)\n",
      "Elapsed Time = 71.59\n",
      ">> Start downloading table\n",
      "aws s3 cp s3://adt-sandbox/dsc/tables/7c4a625f-fa36-44c7-8209-8b91b77a3947 /home/skinet/tmp/tmp_20201230_11_24_28_beacd95e849692cd51394925178a57194d9f41c7 --recursive\n",
      "Elapsed Time = 30.72\n",
      ">> Loading data\n",
      "Dropping tmp db\n",
      "<< Delete s3://adt-sandbox/dsc/tables/7c4a625f-fa36-44c7-8209-8b91b77a3947\n",
      "Removing tmp_dir!\n",
      "Elapsed Time for downloading and loading = 14.34\n",
      "Total Elapsed Time = 116.65\n",
      "default.monthly_deadline_202011 is_exist: False\n",
      "['kcalss string', 'kunnr string', 'ctnum string', 'conn_dept string', 'conn_emp string', 'cost_dept string', 'cost_emp string', 'ctnum_hash string', 'kunnr_hash string', 'cstat string', 'gad_name string', 'gad_start string', 'conn_start string', 'conn_end string', 'monexp_amt double', 'conn_type string', 'ctype_l string', 'ctype_m string', 'ctype_s string', 'intro_asp string', 'itype_l string', 'itype_m string', 'itype_s string', 'itype_sdesc string', 'name1 string', 'gad_add01 string', 'post_add01 string', 'first_bildate string', 'telf2 string', 'svc_str string', 'pay_type string', 'depo_type string', 'line_type string', 'pck_str string', 'stcd2 string', 'uptae string', 'jongmok string', 'gros_code string', 'gross_type string', 'kvgr4 string', 'gad_pstlz string', 'gad_add02 string', 'post_add02 string', 'sms_yn string', 'email_yn string', 'tm_yn string', 'dm_yn string', 'sk1_yn string', 'sk2_yn string', 'adt1_yn string', 'aedat string', 'aezet string', 'aenam string', 'nsok string']\n",
      "<< table not exist\n",
      "CREATE EXTERNAL TABLE IF NOT EXISTS default.monthly_deadline_202011 (                kcalss string, kunnr string, ctnum string, conn_dept string, conn_emp string, cost_dept string, cost_emp string, ctnum_hash string, kunnr_hash string, cstat string, gad_name string, gad_start string, conn_start string, conn_end string, monexp_amt double, conn_type string, ctype_l string, ctype_m string, ctype_s string, intro_asp string, itype_l string, itype_m string, itype_s string, itype_sdesc string, name1 string, gad_add01 string, post_add01 string, first_bildate string, telf2 string, svc_str string, pay_type string, depo_type string, line_type string, pck_str string, stcd2 string, uptae string, jongmok string, gros_code string, gross_type string, kvgr4 string, gad_pstlz string, gad_add02 string, post_add02 string, sms_yn string, email_yn string, tm_yn string, dm_yn string, sk1_yn string, sk2_yn string, adt1_yn string, aedat string, aezet string, aenam string, nsok string                )                                stored as parquet location 's3://adt-sandbox/_create/tables/default.monthly_deadline_202011'\n",
      "\n",
      ">> Athena Query Success!!\n",
      ">> Athena Query EXCUTION COMPLETE....\n",
      "load data from local to aws s3!\n",
      "aws s3 cp /home/skinet/tmp/default.monthly_deadline_202011/ s3://adt-sandbox/_create/tables/default.monthly_deadline_202011/ --recursive\n",
      "rm /home/skinet/tmp/default.monthly_deadline_202011\n"
     ]
    },
    {
     "data": {
      "text/plain": [
       "0"
      ]
     },
     "execution_count": 9,
     "metadata": {},
     "output_type": "execute_result"
    }
   ],
   "source": [
    "conn = athena_connection()\n",
    "drop_table_in_athena(conn, 'default.monthly_deadline_{}'.format(ym))\n",
    "magam = load_from_athena(conn, '''\n",
    "SELECT a.kcalss\n",
    "\t , d.kunnr\n",
    "\t , d.ctnum\n",
    "     , a.conn_dept\n",
    "     , a.conn_emp\n",
    "     , a.cost_dept\n",
    "     , a.cost_emp\n",
    "     , a.ctnum as ctnum_hash\n",
    "     , a.kunnr as kunnr_hash\n",
    "     , a.cstat\n",
    "     , a.gad_name\n",
    "     , a.gad_start\n",
    "     , a.conn_start\n",
    "     , a.conn_end\n",
    "     , CAST(a.monexp_amt AS DOUBLE)*100 AS monexp_amt\n",
    "     , a.conn_type\n",
    "     , a.ctype_l\n",
    "     , a.ctype_m\n",
    "     , a.ctype_s\n",
    "     , a.intro_asp\n",
    "     , a.itype_l\n",
    "     , a.itype_m\n",
    "     , a.itype_s\n",
    "     , a.itype_sdesc\n",
    "     , c.name1\n",
    "     , a.gad_add01\n",
    "     , a.post_add01\n",
    "     , a.first_bildate\n",
    "     , c.telf2\n",
    "     , a.svc_str\n",
    "     , a.pay_type\n",
    "     , a.depo_type\n",
    "     , a.line_type\n",
    "     , a.pck_str\n",
    "     , c.stcd2\n",
    "     , c.j_1kftbus AS uptae\n",
    "     , c.j_1kftind AS jongmok\n",
    "     , a.gros_code\n",
    "     , a.gross_type\n",
    "     , a.kvgr4\n",
    "     , a.gad_pstlz\n",
    "     , a.gad_add02\n",
    "     , a.post_add02\n",
    "     , b.sms_yn\n",
    "     , b.email_yn\n",
    "     , b.tm_yn\n",
    "     , b.dm_yn\n",
    "     , b.sk1_yn\n",
    "     , b.sk2_yn\n",
    "     , b.adt1_yn\n",
    "     , b.aedat\n",
    "     , b.aezet\n",
    "     , b.aenam\n",
    "     , e.ctrt_id AS nsok\n",
    "FROM sap.zsdt4013      AS a \n",
    "LEFT JOIN (SELECT ctnum, kunnr, sms_yn, email_yn, tm_yn, dm_yn, sk1_yn, sk2_yn, adt1_yn, aedat, aenam, aezet FROM sap.zsdt3748 WHERE usest = 'X') AS b\n",
    "      ON a.ctnum = b.ctnum\n",
    "LEFT JOIN (SELECT kunnr, stcd2, stcd1, telf2, name1, j_1kftbus, j_1kftind FROM sap.kna1 WHERE mandt = '100') AS c\n",
    "      ON a.kunnr = c.kunnr\n",
    "LEFT JOIN (select distinct ctnum_hash, ctnum, kunnr_hash, kunnr from adt_work.hash_info) d\n",
    "       ON a.ctnum = d.ctnum_hash\n",
    "LEFT JOIN (select distinct ctrt_id, ctnum from telepro.tb_nsok_mapping) e --n사 고객 추출\n",
    "       ON a.ctnum = e.ctnum\n",
    "  WHERE a.mandt = '100' \n",
    "    AND a.stmon = \\'{}\\'  --년월 변경\n",
    "    AND a.bukrs = '1000'\n",
    "    AND a.cstat IN ('1','2')\n",
    "'''.format(ym)) \n",
    "load_to_athena(conn, magam, 'default.monthly_deadline_{}'.format(ym))"
   ]
  },
  {
   "cell_type": "markdown",
   "metadata": {},
   "source": [
    "## 2. 기 가입고객 테이블"
   ]
  },
  {
   "cell_type": "code",
   "execution_count": 10,
   "metadata": {},
   "outputs": [
    {
     "name": "stdout",
     "output_type": "stream",
     "text": [
      "<< Delete s3://adt-sandbox/_create/tables/default.tmupsell_exclude\n",
      "...tmp_db name = tmp_20201230_11_27_13_2ff1c76f12af54c3c6be349fff21a93ab09b6fd0\n",
      "Start creating table\n",
      "drop table if exists default.tmp_20201230_11_27_13_2ff1c76f12af54c3c6be349fff21a93ab09b6fd0\n",
      "<< table not exist\n",
      "\n",
      "        create  table         default.tmp_20201230_11_27_13_2ff1c76f12af54c3c6be349fff21a93ab09b6fd0\n",
      "        with (format='Parquet', parquet_compression='GZIP')\n",
      "        as\n",
      "        \n",
      "WITH t1 AS (\n",
      "SELECT DISTINCT b.ctnum AS ctnum_hash\n",
      "     , e.ctnum\n",
      "     , b.rqnum\n",
      "     , b.valid_sdate\n",
      "     , b.valid_edate\n",
      "     , b.ins_type\n",
      "     , b.ins_amt\n",
      "     , b.ins_amt_type\n",
      "     , b.ins_payment\n",
      "     , b.ins_stat\n",
      "     , b.ins_user4\n",
      "     , c.ins_stat_nm\n",
      "     , c.ins_amt_type_nm\n",
      "\t , f.gad_start\n",
      "     , d.ctnum_old\n",
      "  FROM (SELECT DISTINCT ctnum, ins_type, ins_amt, ins_amt_type, ins_payment, ins_stat, rqnum, valid_sdate, valid_edate, ins_user4\n",
      "             FROM sap.zsdt4150\n",
      "            WHERE ins_type IN ('02', '03', '05', '07')) b\n",
      "LEFT JOIN (SELECT DISTINCT ctnum, rqnum, ins_stat_nm, ins_amt_type_nm FROM mart.zsdr6051) c\n",
      "       ON b.ctnum = c.ctnum\n",
      "      AND b.rqnum = c.rqnum\n",
      "LEFT JOIN (SELECT DISTINCT ctnum, ctnum_old FROM mart.zsdr6001 WHERE ctnum_old <> '') d\n",
      "       ON b.ctnum = d.ctnum\n",
      "LEFT JOIN (SELECT DISTINCT ctnum, ctnum_hash FROM adt_work.hash_info) e\n",
      "       ON b.ctnum = e.ctnum_hash\n",
      "LEFT JOIN (SELECT ctnum, gad_start FROM sap.zsdt4013 WHERE stmon = '202011') f\n",
      "       ON b.ctnum = f.ctnum\n",
      ")\n",
      "\n",
      ", t2 AS (\n",
      "SELECT * , 'case1' AS info FROM t1 WHERE ins_stat = '1' AND ins_type = '02' AND ins_amt_type >= '20' UNION ALL\n",
      "SELECT * , 'case2' AS info FROM t1 WHERE ins_stat = '1' AND ins_type = '03' AND ins_amt_type >= '50' UNION ALL\n",
      "SELECT * , 'case3' AS info FROM t1 WHERE ins_stat = '1' AND ins_type IN ('05', '07') UNION ALL\n",
      "SELECT * , 'case4' AS info FROM t1 WHERE ins_stat = '1' AND ins_user4 = 'TM' UNION ALL\n",
      "SELECT * , 'case5' AS info FROM t1 WHERE ins_stat = '1' AND valid_sdate >= '20200501' AND (ctnum_old = '' OR (ctnum_old <> '' AND valid_sdate <> gad_start)) UNION ALL\n",
      "SELECT * , 'case6' AS info FROM t1 WHERE ins_stat = '2' AND ins_type IN ('02', '03', '07') AND valid_edate >= '20200501' UNION ALL\n",
      "SELECT * , 'case7' AS info FROM t1 WHERE ins_stat = '2' AND ins_user4 = 'TM' AND ins_type IN ('05') AND valid_edate >= '20200501'\n",
      ")\n",
      "\n",
      "SELECT DISTINCT *\n",
      "  FROM t2\n",
      " WHERE valid_sdate <> '99991231'\n",
      "\n",
      "...\n",
      ">> Athena Query Success!!\n",
      ">> Athena Query EXCUTION COMPLETE....\n",
      ">> S3 FILE GENERATION SUCCESS!! (File count: 10)\n",
      "Elapsed Time = 26.13\n",
      ">> Start downloading table\n",
      "aws s3 cp s3://adt-sandbox/dsc/tables/0e0dedfd-b250-47ad-907c-b6ca6cb7a16e /home/skinet/tmp/tmp_20201230_11_27_13_2ff1c76f12af54c3c6be349fff21a93ab09b6fd0 --recursive\n",
      "Elapsed Time = 13.10\n",
      ">> Loading data\n",
      "Dropping tmp db\n",
      "<< Delete s3://adt-sandbox/dsc/tables/0e0dedfd-b250-47ad-907c-b6ca6cb7a16e\n",
      "Removing tmp_dir!\n",
      "Elapsed Time for downloading and loading = 6.54\n",
      "Total Elapsed Time = 45.77\n",
      "default.tmupsell_exclude is_exist: False\n",
      "['ctnum_hash string', 'ctnum string', 'rqnum string', 'valid_sdate string', 'valid_edate string', 'ins_type string', 'ins_amt double', 'ins_amt_type string', 'ins_payment double', 'ins_stat string', 'ins_user4 string', 'ins_stat_nm string', 'ins_amt_type_nm string', 'gad_start string', 'ctnum_old string', 'info string']\n",
      "<< table not exist\n",
      "CREATE EXTERNAL TABLE IF NOT EXISTS default.tmupsell_exclude (                ctnum_hash string, ctnum string, rqnum string, valid_sdate string, valid_edate string, ins_type string, ins_amt double, ins_amt_type string, ins_payment double, ins_stat string, ins_user4 string, ins_stat_nm string, ins_amt_type_nm string, gad_start string, ctnum_old string, info string                )                                stored as parquet location 's3://adt-sandbox/_create/tables/default.tmupsell_exclude'\n",
      "\n",
      ">> Athena Query Success!!\n",
      ">> Athena Query EXCUTION COMPLETE....\n",
      "load data from local to aws s3!\n",
      "aws s3 cp /home/skinet/tmp/default.tmupsell_exclude/ s3://adt-sandbox/_create/tables/default.tmupsell_exclude/ --recursive\n",
      "rm /home/skinet/tmp/default.tmupsell_exclude\n"
     ]
    },
    {
     "data": {
      "text/plain": [
       "0"
      ]
     },
     "execution_count": 10,
     "metadata": {},
     "output_type": "execute_result"
    }
   ],
   "source": [
    "conn = athena_connection()\n",
    "drop_table_in_athena(conn, 'default.tmupsell_exclude')\n",
    "temp = load_from_athena(conn, '''\n",
    "WITH t1 AS (\n",
    "SELECT DISTINCT b.ctnum AS ctnum_hash\n",
    "     , e.ctnum\n",
    "     , b.rqnum\n",
    "     , b.valid_sdate\n",
    "     , b.valid_edate\n",
    "     , b.ins_type\n",
    "     , b.ins_amt\n",
    "     , b.ins_amt_type\n",
    "     , b.ins_payment\n",
    "     , b.ins_stat\n",
    "     , b.ins_user4\n",
    "     , c.ins_stat_nm\n",
    "     , c.ins_amt_type_nm\n",
    "\t , f.gad_start\n",
    "     , d.ctnum_old\n",
    "  FROM (SELECT DISTINCT ctnum, ins_type, ins_amt, ins_amt_type, ins_payment, ins_stat, rqnum, valid_sdate, valid_edate, ins_user4\n",
    "             FROM sap.zsdt4150\n",
    "            WHERE ins_type IN ('02', '03', '05', '07')) b\n",
    "LEFT JOIN (SELECT DISTINCT ctnum, rqnum, ins_stat_nm, ins_amt_type_nm FROM mart.zsdr6051) c\n",
    "       ON b.ctnum = c.ctnum\n",
    "      AND b.rqnum = c.rqnum\n",
    "LEFT JOIN (SELECT DISTINCT ctnum, ctnum_old FROM mart.zsdr6001 WHERE ctnum_old <> '') d\n",
    "       ON b.ctnum = d.ctnum\n",
    "LEFT JOIN (SELECT DISTINCT ctnum, ctnum_hash FROM adt_work.hash_info) e\n",
    "       ON b.ctnum = e.ctnum_hash\n",
    "LEFT JOIN (SELECT ctnum, gad_start FROM sap.zsdt4013 WHERE stmon = \\'{}\\') f\n",
    "       ON b.ctnum = f.ctnum\n",
    ")\n",
    "\n",
    ", t2 AS (\n",
    "SELECT * , 'case1' AS info FROM t1 WHERE ins_stat = '1' AND ins_type = '02' AND ins_amt_type >= '20' UNION ALL\n",
    "SELECT * , 'case2' AS info FROM t1 WHERE ins_stat = '1' AND ins_type = '03' AND ins_amt_type >= '50' UNION ALL\n",
    "SELECT * , 'case3' AS info FROM t1 WHERE ins_stat = '1' AND ins_type IN ('05', '07') UNION ALL\n",
    "SELECT * , 'case4' AS info FROM t1 WHERE ins_stat = '1' AND ins_user4 = 'TM' UNION ALL\n",
    "SELECT * , 'case5' AS info FROM t1 WHERE ins_stat = '1' AND valid_sdate >= \\'{}\\' AND (ctnum_old = '' OR (ctnum_old <> '' AND valid_sdate <> gad_start)) UNION ALL\n",
    "SELECT * , 'case6' AS info FROM t1 WHERE ins_stat = '2' AND ins_type IN ('02', '03', '07') AND valid_edate >= \\'{}\\' UNION ALL\n",
    "SELECT * , 'case7' AS info FROM t1 WHERE ins_stat = '2' AND ins_user4 = 'TM' AND ins_type IN ('05') AND valid_edate >= \\'{}\\'\n",
    ")\n",
    "\n",
    "SELECT DISTINCT *\n",
    "  FROM t2\n",
    " WHERE valid_sdate <> '99991231'\n",
    "'''.format(ym, ymd_minus_6month, ymd_minus_6month, ymd_minus_6month))\n",
    "load_to_athena(conn, temp, 'default.tmupsell_exclude'.format(ym))"
   ]
  },
  {
   "cell_type": "code",
   "execution_count": 11,
   "metadata": {},
   "outputs": [],
   "source": [
    "temp.to_csv('기가입고객.csv', encoding='utf-8-sig')"
   ]
  },
  {
   "cell_type": "code",
   "execution_count": 12,
   "metadata": {},
   "outputs": [],
   "source": [
    "del temp"
   ]
  },
  {
   "cell_type": "markdown",
   "metadata": {},
   "source": [
    "## 3. TM 실적 테이블 (계약번호, 회차, 최종접촉일, 최종접촉결과)"
   ]
  },
  {
   "cell_type": "code",
   "execution_count": 13,
   "metadata": {},
   "outputs": [
    {
     "name": "stdout",
     "output_type": "stream",
     "text": [
      "<< Delete s3://adt-sandbox/_create/tables/default.tm_upsell_result_table\n",
      "...tmp_db name = tmp_20201230_11_28_14_6d4488bb10c62f137fb665638ff9b51bb34c1cc7\n",
      "Start creating table\n",
      "drop table if exists default.tmp_20201230_11_28_14_6d4488bb10c62f137fb665638ff9b51bb34c1cc7\n",
      "<< table not exist\n",
      "\n",
      "        create  table         default.tmp_20201230_11_28_14_6d4488bb10c62f137fb665638ff9b51bb34c1cc7\n",
      "        with (format='Parquet', parquet_compression='GZIP')\n",
      "        as\n",
      "        \n",
      "WITH t1 AS (\n",
      "SELECT DISTINCT a.custid, b.kunnr, CONCAT(dialdate, ' ; ', dialtime) AS dialdate, resultcd, teamcd\n",
      "  FROM telepro.tm_list a\n",
      "LEFT JOIN (SELECT DISTINCT ctnum, kunnr, ctnum_hash, kunnr_hash FROM adt_work.hash_info) b\n",
      "      ON a.custid = b.ctnum\n",
      " WHERE teamcd IN ('313', '316')\n",
      ")\n",
      "\n",
      ", t2_temp AS (\n",
      "SELECT DISTINCT kunnr, resultcd, dialdate\n",
      "  FROM t1\n",
      "WHERE resultcd IS NOT NULL\n",
      "  AND resultcd <> ''\n",
      "  AND resultcd <> ' '\n",
      ")\n",
      "\n",
      ", t2 AS(\n",
      "SELECT a.kunnr, COUNT(a.resultcd) AS con_cnt, MAX(a.dialdate) AS final_dialdate\n",
      "  FROM t2_temp a\n",
      "LEFT JOIN (SELECT DISTINCT kunnr, kunnr_hash FROM adt_work.hash_info) b\n",
      "       ON a.kunnr = b.kunnr\n",
      "GROUP BY a.kunnr\n",
      "\n",
      ")\n",
      "\n",
      "SELECT a.*, b.resultcd\n",
      "  FROM t2 a\n",
      "LEFT JOIN (SELECT * FROM t1) b\n",
      "       ON a.kunnr = b.kunnr\n",
      "      AND a.final_dialdate = b.dialdate\n",
      "\n",
      "...\n",
      ">> Athena Query Success!!\n",
      ">> Athena Query EXCUTION COMPLETE....\n",
      ">> S3 FILE GENERATION SUCCESS!! (File count: 8)\n",
      "Elapsed Time = 25.87\n",
      ">> Start downloading table\n",
      "aws s3 cp s3://adt-sandbox/dsc/tables/3103283a-3227-446e-a64b-742954434cd1 /home/skinet/tmp/tmp_20201230_11_28_14_6d4488bb10c62f137fb665638ff9b51bb34c1cc7 --recursive\n",
      "Elapsed Time = 11.11\n",
      ">> Loading data\n",
      "Dropping tmp db\n",
      "<< Delete s3://adt-sandbox/dsc/tables/3103283a-3227-446e-a64b-742954434cd1\n",
      "Removing tmp_dir!\n",
      "Elapsed Time for downloading and loading = 6.27\n",
      "Total Elapsed Time = 43.24\n",
      "default.tm_upsell_result_table is_exist: False\n",
      "['kunnr string', 'con_cnt int', 'final_dialdate string', 'resultcd string']\n",
      "<< table not exist\n",
      "CREATE EXTERNAL TABLE IF NOT EXISTS default.tm_upsell_result_table (                kunnr string, con_cnt int, final_dialdate string, resultcd string                )                                stored as parquet location 's3://adt-sandbox/_create/tables/default.tm_upsell_result_table'\n",
      "\n",
      ">> Athena Query Success!!\n",
      ">> Athena Query EXCUTION COMPLETE....\n",
      "load data from local to aws s3!\n",
      "aws s3 cp /home/skinet/tmp/default.tm_upsell_result_table/ s3://adt-sandbox/_create/tables/default.tm_upsell_result_table/ --recursive\n",
      "rm /home/skinet/tmp/default.tm_upsell_result_table\n"
     ]
    },
    {
     "data": {
      "text/plain": [
       "0"
      ]
     },
     "execution_count": 13,
     "metadata": {},
     "output_type": "execute_result"
    }
   ],
   "source": [
    "conn = athena_connection()\n",
    "drop_table_in_athena(conn, 'default.tm_upsell_result_table')\n",
    "tm = load_from_athena(conn, '''\n",
    "WITH t1 AS (\n",
    "SELECT DISTINCT a.custid, b.kunnr, CONCAT(dialdate, ' ; ', dialtime) AS dialdate, resultcd, teamcd\n",
    "  FROM telepro.tm_list a\n",
    "LEFT JOIN (SELECT DISTINCT ctnum, kunnr, ctnum_hash, kunnr_hash FROM adt_work.hash_info) b\n",
    "      ON a.custid = b.ctnum\n",
    " WHERE teamcd IN ('313', '316')\n",
    ")\n",
    "\n",
    ", t2_temp AS (\n",
    "SELECT DISTINCT kunnr, resultcd, dialdate\n",
    "  FROM t1\n",
    "WHERE resultcd IS NOT NULL\n",
    "  AND resultcd <> ''\n",
    "  AND resultcd <> ' '\n",
    ")\n",
    "\n",
    ", t2 AS(\n",
    "SELECT a.kunnr, COUNT(a.resultcd) AS con_cnt, MAX(a.dialdate) AS final_dialdate\n",
    "  FROM t2_temp a\n",
    "LEFT JOIN (SELECT DISTINCT kunnr, kunnr_hash FROM adt_work.hash_info) b\n",
    "       ON a.kunnr = b.kunnr\n",
    "GROUP BY a.kunnr\n",
    "\n",
    ")\n",
    "\n",
    "SELECT a.*, b.resultcd\n",
    "  FROM t2 a\n",
    "LEFT JOIN (SELECT * FROM t1) b\n",
    "       ON a.kunnr = b.kunnr\n",
    "      AND a.final_dialdate = b.dialdate\n",
    "''')\n",
    "load_to_athena(conn, tm, 'default.tm_upsell_result_table')"
   ]
  },
  {
   "cell_type": "markdown",
   "metadata": {},
   "source": [
    "## TM 거부 이력 고객 "
   ]
  },
  {
   "cell_type": "code",
   "execution_count": 14,
   "metadata": {},
   "outputs": [
    {
     "name": "stdout",
     "output_type": "stream",
     "text": [
      "...tmp_db name = tmp_20201230_11_29_07_8598cb085908b38eb145b9f85b970a5a314660e2\n",
      "Start creating table\n",
      "drop table if exists default.tmp_20201230_11_29_07_8598cb085908b38eb145b9f85b970a5a314660e2\n",
      "<< table not exist\n",
      "\n",
      "        create  table         default.tmp_20201230_11_29_07_8598cb085908b38eb145b9f85b970a5a314660e2\n",
      "        with (format='Parquet', parquet_compression='GZIP')\n",
      "        as\n",
      "        \n",
      "SELECT DISTINCT a.custid, b.kunnr, CONCAT(dialdate, ' ; ', dialtime) AS dialdate, resultcd\n",
      "  FROM telepro.tm_list a\n",
      "LEFT JOIN (SELECT DISTINCT ctnum, kunnr, ctnum_hash, kunnr_hash FROM adt_work.hash_info) b\n",
      "      ON a.custid = b.ctnum\n",
      " WHERE resultcd = 'SE01'\n",
      "\n",
      "..\n",
      ">> Athena Query Success!!\n",
      ">> Athena Query EXCUTION COMPLETE....\n",
      ">> S3 FILE GENERATION SUCCESS!! (File count: 6)\n",
      "Elapsed Time = 19.59\n",
      ">> Start downloading table\n",
      "aws s3 cp s3://adt-sandbox/dsc/tables/e06c928f-86c3-41f4-b508-f52e42a83e46 /home/skinet/tmp/tmp_20201230_11_29_07_8598cb085908b38eb145b9f85b970a5a314660e2 --recursive\n",
      "Elapsed Time = 8.22\n",
      ">> Loading data\n",
      "Dropping tmp db\n",
      "<< Delete s3://adt-sandbox/dsc/tables/e06c928f-86c3-41f4-b508-f52e42a83e46\n",
      "Removing tmp_dir!\n",
      "Elapsed Time for downloading and loading = 6.27\n",
      "Total Elapsed Time = 34.08\n"
     ]
    }
   ],
   "source": [
    "conn = athena_connection()\n",
    "tm_refuse = load_from_athena(conn, '''\n",
    "SELECT DISTINCT a.custid, b.kunnr, CONCAT(dialdate, ' ; ', dialtime) AS dialdate, resultcd\n",
    "  FROM telepro.tm_list a\n",
    "LEFT JOIN (SELECT DISTINCT ctnum, kunnr, ctnum_hash, kunnr_hash FROM adt_work.hash_info) b\n",
    "      ON a.custid = b.ctnum\n",
    " WHERE resultcd = 'SE01'\n",
    "''')"
   ]
  },
  {
   "cell_type": "markdown",
   "metadata": {},
   "source": [
    "## 1차 결과테이블 추출 (1번 ~ 15번 조건 반영)"
   ]
  },
  {
   "cell_type": "code",
   "execution_count": 15,
   "metadata": {},
   "outputs": [
    {
     "name": "stdout",
     "output_type": "stream",
     "text": [
      "...tmp_db name = tmp_20201230_11_29_41_705f28cf6379ac372ae829e03e4aeb7eb27afabf\n",
      "Start creating table\n",
      "drop table if exists default.tmp_20201230_11_29_41_705f28cf6379ac372ae829e03e4aeb7eb27afabf\n",
      "<< table not exist\n",
      "\n",
      "        create  table         default.tmp_20201230_11_29_41_705f28cf6379ac372ae829e03e4aeb7eb27afabf\n",
      "        with (format='Parquet', parquet_compression='GZIP')\n",
      "        as\n",
      "        \n",
      "WITH pre_magam AS (\n",
      "SELECT CASE WHEN SUBSTR(a.first_bildate, 1, 6) = '202010' THEN '신규'\n",
      "            WHEN a.ctnum IN (SELECT DISTINCT ctnum FROM tm_upsell_db_temp) THEN '기존'\n",
      "            ELSE NULL END AS gubun\n",
      "     , a.*, b.con_cnt, b.final_dialdate, b.resultcd\n",
      "  FROM default.monthly_deadline_202011 a\n",
      "LEFT JOIN default.tm_upsell_result_table b\n",
      "       ON a.kunnr = b.kunnr\n",
      "LEFT JOIN default.tm_upsell_db_temp c\n",
      "       ON a.ctnum = c.ctnum\n",
      ")\n",
      "\n",
      ", magam AS (\n",
      "SELECT *\n",
      "\t , ROW_NUMBER() OVER (PARTITION BY kunnr ORDER BY conn_type ASC, ctnum DESC, aedat DESC, aezet DESC) AS kunnr_rownum\n",
      "  FROM pre_magam\n",
      " WHERE gubun IS NOT NULL\n",
      ")\n",
      "\n",
      "-- 이 하단부터 조건들\n",
      "\n",
      ", t1 AS (\n",
      "SELECT '1' AS filter, *  FROM magam WHERE cstat <> '1'\n",
      ")\n",
      "\n",
      ", t2 AS (\n",
      "SELECT '2' AS filter, *  FROM magam WHERE ctype_l IN ('U00', 'U10', 'U20', 'U30', 'U40', 'U50', 'U80', 'U05',\n",
      "                                                      'U65', 'R00', 'W00')\n",
      "                                       OR ctype_m IN ('L07')\n",
      "                                       OR ctype_s IN ('W05', 'W06', 'U11', 'U53')\n",
      ")\n",
      "\n",
      ", t3 AS (\n",
      "SELECT '3' AS filter, *  FROM magam WHERE conn_type NOT IN ('A01', 'A02')\n",
      ")\n",
      "\n",
      ", t4 AS (\n",
      "SELECT '4' AS filter, *  FROM magam WHERE itype_l IN ('2', '3') OR itype_m = '22' OR itype_s IN ('152', '160', '217', '221', '222', '223', '284')\n",
      ")\n",
      "\n",
      ", t5 AS (\n",
      "SELECT '5' AS filter, *  FROM magam WHERE conn_type = 'A02' AND (itype_m = '21' OR itype_s IN ('128', '136', \n",
      "                                                                 '137', '224', '225', '273', '278', '289', '290', '291', '292'))\n",
      ")\n",
      "\n",
      ", t6 AS (\n",
      "SELECT '6' AS filter, *  FROM magam WHERE nsok IS NOT NULL\n",
      ")\n",
      "\n",
      ", t7 AS (\n",
      "SELECT '7' AS filter, *  FROM magam WHERE gros_code > '0'\n",
      ")\n",
      "\n",
      ", t8 AS (\n",
      "SELECT '8' AS filter, *  FROM magam WHERE gross_type = 'Y'\n",
      ")\n",
      "\n",
      ", t9 AS (\n",
      "SELECT '9' AS filter, * FROM magam WHERE adt1_yn = 'N'\n",
      ")\n",
      "\n",
      ", t10 AS (\n",
      "SELECT '10' AS filter, * FROM magam WHERE tm_yn = 'N' OR tm_yn IS NULL or tm_yn = '' or tm_yn = ' '\n",
      ")\n",
      "\n",
      ", t11 AS (\n",
      "SELECT '11' AS filter, * FROM magam WHERE ctnum IN (SELECT DISTINCT ctnum FROM default.tmupsell_exclude) -- 별도 테이블 작성 쿼리 참조 \n",
      ")\n",
      "\n",
      ", t13 AS (\n",
      "SELECT '13' AS filter, * FROM magam WHERE (itype_l = '1' AND (monexp_amt < 30000 OR monexp_amt > 400000))\n",
      "                                       OR (itype_l = '4' AND (monexp_amt < 30000 OR monexp_amt > 150000))\n",
      ")\n",
      "\n",
      ", t15 AS (\n",
      "SELECT '15' AS filter, * FROM magam WHERE kunnr_rownum > 1\n",
      ")\n",
      "\n",
      ", total AS (\n",
      "SELECT * FROM t1 UNION ALL \n",
      "SELECT * FROM t2 UNION ALL \n",
      "SELECT * FROM t3 UNION ALL \n",
      "SELECT * FROM t4 UNION ALL \n",
      "SELECT * FROM t5 UNION ALL \n",
      "SELECT * FROM t6 UNION ALL \n",
      "SELECT * FROM t7 UNION ALL \n",
      "SELECT * FROM t8 UNION ALL\n",
      "SELECT * FROM t9 UNION ALL\n",
      "SELECT * FROM t10 UNION ALL\n",
      "SELECT * FROM t11 UNION ALL\n",
      "SELECT * FROM t13 UNION ALL\n",
      "SELECT * FROM t15 \n",
      ")\n",
      "\n",
      ", final_filter AS (\n",
      "SELECT ctnum, MIN(filter) AS filter FROM total GROUP BY ctnum\n",
      ")\n",
      "\n",
      "SELECT b.filter, a.* FROM magam a LEFT JOIN final_filter b ON a.ctnum = b.ctnum \n",
      "\n",
      "..\n",
      ">> Athena Query Success!!\n",
      ">> Athena Query EXCUTION COMPLETE....\n",
      ">> S3 FILE GENERATION SUCCESS!! (File count: 8)\n",
      "Elapsed Time = 21.30\n",
      ">> Start downloading table\n",
      "aws s3 cp s3://adt-sandbox/dsc/tables/b283059c-9a8e-4c04-9070-faaf5b8e210d /home/skinet/tmp/tmp_20201230_11_29_41_705f28cf6379ac372ae829e03e4aeb7eb27afabf --recursive\n",
      "Elapsed Time = 10.65\n",
      ">> Loading data\n",
      "Dropping tmp db\n",
      "<< Delete s3://adt-sandbox/dsc/tables/b283059c-9a8e-4c04-9070-faaf5b8e210d\n",
      "Removing tmp_dir!\n",
      "Elapsed Time for downloading and loading = 6.72\n",
      "Total Elapsed Time = 38.66\n"
     ]
    }
   ],
   "source": [
    "df = load_from_athena(conn,'''\n",
    "WITH pre_magam AS (\n",
    "SELECT CASE WHEN SUBSTR(a.first_bildate, 1, 6) = \\'{}\\' THEN '신규'\n",
    "            WHEN a.ctnum IN (SELECT DISTINCT ctnum FROM tm_upsell_db_temp) THEN '기존'\n",
    "            ELSE NULL END AS gubun\n",
    "     , a.*, b.con_cnt, b.final_dialdate, b.resultcd\n",
    "  FROM default.monthly_deadline_{} a\n",
    "LEFT JOIN default.tm_upsell_result_table b\n",
    "       ON a.kunnr = b.kunnr\n",
    "LEFT JOIN default.tm_upsell_db_temp c\n",
    "       ON a.ctnum = c.ctnum\n",
    ")\n",
    "\n",
    ", magam AS (\n",
    "SELECT *\n",
    "\t , ROW_NUMBER() OVER (PARTITION BY kunnr ORDER BY conn_type ASC, ctnum DESC, aedat DESC, aezet DESC) AS kunnr_rownum\n",
    "  FROM pre_magam\n",
    " WHERE gubun IS NOT NULL\n",
    ")\n",
    "\n",
    "-- 이 하단부터 조건들\n",
    "\n",
    ", t1 AS (\n",
    "SELECT '1' AS filter, *  FROM magam WHERE cstat <> '1'\n",
    ")\n",
    "\n",
    ", t2 AS (\n",
    "SELECT '2' AS filter, *  FROM magam WHERE ctype_l IN ('U00', 'U10', 'U20', 'U30', 'U40', 'U50', 'U80', 'U05',\n",
    "                                                      'U65', 'R00', 'W00')\n",
    "                                       OR ctype_m IN ('L07')\n",
    "                                       OR ctype_s IN ('W05', 'W06', 'U11', 'U53')\n",
    ")\n",
    "\n",
    ", t3 AS (\n",
    "SELECT '3' AS filter, *  FROM magam WHERE conn_type NOT IN ('A01', 'A02')\n",
    ")\n",
    "\n",
    ", t4 AS (\n",
    "SELECT '4' AS filter, *  FROM magam WHERE itype_l IN ('2', '3') OR itype_m = '22' OR itype_s IN ('152', '160', '217', '221', '222', '223', '284')\n",
    ")\n",
    "\n",
    ", t5 AS (\n",
    "SELECT '5' AS filter, *  FROM magam WHERE conn_type = 'A02' AND (itype_m = '21' OR itype_s IN ('128', '136', \n",
    "                                                                 '137', '224', '225', '273', '278', '289', '290', '291', '292'))\n",
    ")\n",
    "\n",
    ", t6 AS (\n",
    "SELECT '6' AS filter, *  FROM magam WHERE nsok IS NOT NULL\n",
    ")\n",
    "\n",
    ", t7 AS (\n",
    "SELECT '7' AS filter, *  FROM magam WHERE gros_code > '0'\n",
    ")\n",
    "\n",
    ", t8 AS (\n",
    "SELECT '8' AS filter, *  FROM magam WHERE gross_type = 'Y'\n",
    ")\n",
    "\n",
    ", t9 AS (\n",
    "SELECT '9' AS filter, * FROM magam WHERE adt1_yn = 'N'\n",
    ")\n",
    "\n",
    ", t10 AS (\n",
    "SELECT '10' AS filter, * FROM magam WHERE tm_yn = 'N' OR tm_yn IS NULL or tm_yn = '' or tm_yn = ' '\n",
    ")\n",
    "\n",
    ", t11 AS (\n",
    "SELECT '11' AS filter, * FROM magam WHERE ctnum IN (SELECT DISTINCT ctnum FROM default.tmupsell_exclude) -- 별도 테이블 작성 쿼리 참조 \n",
    ")\n",
    "\n",
    ", t13 AS (\n",
    "SELECT '13' AS filter, * FROM magam WHERE (itype_l = '1' AND (monexp_amt < 30000 OR monexp_amt > 400000))\n",
    "                                       OR (itype_l = '4' AND (monexp_amt < 30000 OR monexp_amt > 150000))\n",
    ")\n",
    "\n",
    ", t15 AS (\n",
    "SELECT '15' AS filter, * FROM magam WHERE kunnr_rownum > 1\n",
    ")\n",
    "\n",
    ", total AS (\n",
    "SELECT * FROM t1 UNION ALL \n",
    "SELECT * FROM t2 UNION ALL \n",
    "SELECT * FROM t3 UNION ALL \n",
    "SELECT * FROM t4 UNION ALL \n",
    "SELECT * FROM t5 UNION ALL \n",
    "SELECT * FROM t6 UNION ALL \n",
    "SELECT * FROM t7 UNION ALL \n",
    "SELECT * FROM t8 UNION ALL\n",
    "SELECT * FROM t9 UNION ALL\n",
    "SELECT * FROM t10 UNION ALL\n",
    "SELECT * FROM t11 UNION ALL\n",
    "SELECT * FROM t13 UNION ALL\n",
    "SELECT * FROM t15 \n",
    ")\n",
    "\n",
    ", final_filter AS (\n",
    "SELECT ctnum, MIN(filter) AS filter FROM total GROUP BY ctnum\n",
    ")\n",
    "\n",
    "SELECT b.filter, a.* FROM magam a LEFT JOIN final_filter b ON a.ctnum = b.ctnum \n",
    "'''.format(first_bill_month, ym))"
   ]
  },
  {
   "cell_type": "code",
   "execution_count": 16,
   "metadata": {},
   "outputs": [
    {
     "data": {
      "text/plain": [
       "0     29198\n",
       "1       141\n",
       "2        54\n",
       "3         8\n",
       "4       518\n",
       "5       382\n",
       "6        29\n",
       "7       104\n",
       "8         7\n",
       "9       165\n",
       "10     6070\n",
       "11     2487\n",
       "13     2103\n",
       "15      707\n",
       "Name: filter, dtype: int64"
      ]
     },
     "execution_count": 16,
     "metadata": {},
     "output_type": "execute_result"
    }
   ],
   "source": [
    "df['filter'].fillna(0).astype(int).value_counts(dropna=False).sort_index()"
   ]
  },
  {
   "cell_type": "markdown",
   "metadata": {},
   "source": [
    "## 이 위가 15번 고객번호 중복 제거까지 반영한 내용. 이 아래부터 16번 ~ 23번 조건."
   ]
  },
  {
   "cell_type": "code",
   "execution_count": 17,
   "metadata": {},
   "outputs": [],
   "source": [
    "# 불필요한 컬럼 제거 \n",
    "drop_col = ['kcalss', 'conn_dept', 'conn_emp', 'cost_dept', 'cost_emp', 'intro_asp', 'itype_sdesc', 'svc_str', 'pay_type', 'depo_type', 'kunnr_rownum']\n",
    "df.drop(drop_col, axis=1, inplace=True)"
   ]
  },
  {
   "cell_type": "code",
   "execution_count": 18,
   "metadata": {},
   "outputs": [],
   "source": [
    "# 혹시 몰라서 카피떠놓기\n",
    "df_copy = df.copy()"
   ]
  },
  {
   "cell_type": "code",
   "execution_count": 19,
   "metadata": {},
   "outputs": [],
   "source": [
    "# df = df_copy.copy()"
   ]
  },
  {
   "cell_type": "code",
   "execution_count": 20,
   "metadata": {},
   "outputs": [],
   "source": [
    "# 필터링하지 않을 이상전화번호 리스트 (이상한 전화번호지만 db에 남겨놓고 TM센터에서 수기로 다른 번호 찾기 시도)\n",
    "no_delete = ['0', \n",
    "'00','01','02','03','010','0101','01111','010000','010226','0100000','0101111','0105256','0109152','0109364','01000000','01001638','02000000','010000000','010010010','010111111'\n",
    ",'011111111','020000000','021111111','0100000000','0100000001','0100100000','0101010101','0101111111','0101111234','0101231234','0101234567','0110000000','0111110000','0111234567','0200000000'\n",
    ",'0201021021','0202222222','0111111111','0211000000','0211111112','0212341234','0211112222','0222222222','0510000000','01000000000','01000000001','01000000250','01000000602','01000001111','01000009999'\n",
    ",'01000010001','01000090000','01000112111','01001000000','01001000900','01001010101','01001111111','01010000000','01010001000','01011110000','01011111018','01011111110','01011111111'\n",
    ",'01001001010','01011111112','01011111118','01011111234','01011111313','01011112222','01012341234','01012345678','01022222222','01100000000','01101111111','01101234567','01111111111'\n",
    ",'01111112222','01111113333','01112311231','03200000000','05100000000','05100011111','05101111111','05101112222','010000000000','010111111111','011111111111','0100000000000','01000000000000'\n",
    ",'010000000000000','0','1','2','3','10','101','1111','10000','10226','100000','101111','105256','109152','109364','1000000','1001638','2000000','10000000','10010010','10111111','11111111'\n",
    ",'20000000','21111111','100000000','100000001','100100000','101010101','101111111','101111234','101231234','101234567','110000000','111110000','111234567','200000000','201021021','202222222'\n",
    ",'111111111','211000000','211111112','212341234','211112222','222222222','510000000','1000000000','1000000001','1000000250','1000000602','1000001111','1000009999','1000010001','1000090000'\n",
    ",'1000112111','1001000000','1001000900','1001010101','1001111111','1010000000','1010001000','1011110000','1011111018','1011111110','1011111111','1001001010','1011111112','1011111118','1011111234'\n",
    ",'1011111313','1011112222','1012341234','1012345678','1022222222','1100000000','1101111111','1101234567','1111111111','1111112222','1111113333','1112311231','3200000000','5100000000','5100011111'\n",
    ",'5101111111','5101112222','10000000000','10111111111','11111111111','100000000000','1000000000000','10000000000000']"
   ]
  },
  {
   "cell_type": "code",
   "execution_count": 21,
   "metadata": {},
   "outputs": [],
   "source": [
    "# 이상휴대폰번호 판단 함수 \n",
    "# 등차수열이거나(ex.01012345678) 다 똑같은 번호거나(ex.01000000000), 위의 이상번호 리스트에 포함되어 있거나.\n",
    "\n",
    "def valid_number(x):\n",
    "      nums = list(str(x)) \n",
    "      n = len(nums)\n",
    "      answer=[]\n",
    "      i = 3\n",
    "      \n",
    "      while i <= n-3:\n",
    "            if int(nums[i]) - int(nums[i+1]) == int(nums[i+1]) - int(nums[i+2]):\n",
    "                  answer.append(True)\n",
    "            else:\n",
    "                  answer.append(False)\n",
    "            i += 1\n",
    "      \n",
    "      if (all(answer) == True) or (str(x) in (no_delete)):\n",
    "            return False\n",
    "      else:\n",
    "            return True     "
   ]
  },
  {
   "cell_type": "code",
   "execution_count": 22,
   "metadata": {},
   "outputs": [],
   "source": [
    "# 16. 휴대폰번호 전처리 및 중복 제거\n",
    "\n",
    "df['telf2'] = df['telf2'].str.replace('\\D|\\s', '', regex=True)  # 숫자가 아닌 글자랑 공백 날리기\n",
    "df['telf2'] = np.where(df['telf2'].str[0] != '0', \"0\"+df['telf2'], df['telf2'])   # 맨 앞에 0이 없으면 0 붙여주기\n",
    "\n",
    "df['telf_valid_1'] = df['telf2'].str.contains('^01([0|1|6|7|8|9]?)-?([0-9]{3,4})-?([0-9]{4})$', regex=True)  # 자릿수가 맞는지 확인하기\n",
    "df['telf_valid_2'] = df['telf2'].apply(valid_number)                                                        # 위에 정의한 함수를 통해 valid한지 확인하기\n",
    "df['telf_valid_final'] = np.where((df['telf_valid_1'] == True) & (df['telf_valid_2'] == True), True, False)\n",
    "df['telf_valid_final'] = df['telf_valid_final'].map({True : 1, False : 0})                                  # 최종적으로 valid한지 확인\n",
    "\n",
    "df = df.sort_values(by=['conn_type', 'ctnum', 'aedat', 'aezet'], axis=0, ascending=[True, False, False, False])  # 정렬해서 중복된 거 제거                                 \n",
    "\n",
    "df.loc[(df['filter'].isnull()==True) & (df[(df['filter'].isnull()==True) & ((df['telf_valid_final']==1))].duplicated(subset='telf2', keep='first'))\n",
    "           , 'filter'] = 16"
   ]
  },
  {
   "cell_type": "code",
   "execution_count": 23,
   "metadata": {},
   "outputs": [
    {
     "name": "stdout",
     "output_type": "stream",
     "text": [
      "...tmp_db name = tmp_20201230_11_30_20_c7be5de2d456dcd103d0eda043e4a8500924d23d\n",
      "Start creating table\n",
      "drop table if exists default.tmp_20201230_11_30_20_c7be5de2d456dcd103d0eda043e4a8500924d23d\n",
      "<< table not exist\n",
      "\n",
      "        create  table         default.tmp_20201230_11_30_20_c7be5de2d456dcd103d0eda043e4a8500924d23d\n",
      "        with (format='Parquet', parquet_compression='GZIP')\n",
      "        as\n",
      "        \n",
      "SELECT DISTINCT *\n",
      "  FROM sap.zsdt0070\n",
      "\n",
      ".\n",
      ">> Athena Query Success!!\n",
      ">> Athena Query EXCUTION COMPLETE....\n",
      ">> S3 FILE GENERATION SUCCESS!! (File count: 6)\n",
      "Elapsed Time = 14.12\n",
      ">> Start downloading table\n",
      "aws s3 cp s3://adt-sandbox/dsc/tables/1fd688d2-70ec-40fa-9f8f-4e9df20f923e /home/skinet/tmp/tmp_20201230_11_30_20_c7be5de2d456dcd103d0eda043e4a8500924d23d --recursive\n",
      "Elapsed Time = 7.16\n",
      ">> Loading data\n",
      "Dropping tmp db\n",
      "<< Delete s3://adt-sandbox/dsc/tables/1fd688d2-70ec-40fa-9f8f-4e9df20f923e\n",
      "Removing tmp_dir!\n",
      "Elapsed Time for downloading and loading = 6.05\n",
      "Total Elapsed Time = 27.33\n"
     ]
    }
   ],
   "source": [
    "#16-2 직원 휴대폰번호 제거 \n",
    "conn = athena_connection()\n",
    "emp = load_from_athena(conn,\n",
    "'''\n",
    "SELECT DISTINCT *\n",
    "  FROM sap.zsdt0070\n",
    "''')"
   ]
  },
  {
   "cell_type": "code",
   "execution_count": 24,
   "metadata": {},
   "outputs": [],
   "source": [
    "emp['tel_hand'] = emp['tel_hand'].str.replace('\\D|\\s', '', regex=True)  # 숫자가 아닌 글자랑 공백 날리기\n",
    "emp['tel_hand'] = np.where(emp['tel_hand'].str[0] != '0', \"0\"+emp['tel_hand'], emp['tel_hand'])   # 맨 앞에 0이 없으면 0 붙여주기\n",
    "df.loc[(df['filter'].isnull()==True) & (df['telf2'].isin(emp['tel_hand'])) & (~df['telf2'].isin(no_delete)) , 'filter'] = 16.5"
   ]
  },
  {
   "cell_type": "code",
   "execution_count": 25,
   "metadata": {},
   "outputs": [],
   "source": [
    "# 17. 주소 중복내역 제거\n",
    "\n",
    "df = df.sort_values(by=['conn_type', 'ctnum', 'aedat', 'aezet'], axis=0, ascending=[True, False, False, False])  # 정렬해서 중복된 거 제거                                 \n",
    "df.loc[(df['filter'].isnull()==True) & (df.duplicated(subset=['gad_add01', 'gad_add02'], keep='first')), 'filter'] = 17"
   ]
  },
  {
   "cell_type": "code",
   "execution_count": 26,
   "metadata": {},
   "outputs": [
    {
     "name": "stdout",
     "output_type": "stream",
     "text": [
      "...tmp_db name = tmp_20201230_11_30_48_ccb6e8aef961c27071ea7e4a3cb13798a99b5d2d\n",
      "Start creating table\n",
      "drop table if exists default.tmp_20201230_11_30_48_ccb6e8aef961c27071ea7e4a3cb13798a99b5d2d\n",
      "<< table not exist\n",
      "\n",
      "        create  table         default.tmp_20201230_11_30_48_ccb6e8aef961c27071ea7e4a3cb13798a99b5d2d\n",
      "        with (format='Parquet', parquet_compression='GZIP')\n",
      "        as\n",
      "        \n",
      "SELECT DISTINCT b.ctnum, a.receiptdate, a.receipttime\n",
      "  FROM telepro.tb_voc a\n",
      "LEFT JOIN (SELECT DISTINCT ctnum, kunnr, ctnum_hash, kunnr_hash FROM adt_work.hash_info) b\n",
      "       ON a.s25csq = b.ctnum_hash \n",
      " WHERE a.receiptdate >= '20191101'\n",
      "\n",
      "..\n",
      ">> Athena Query Success!!\n",
      ">> Athena Query EXCUTION COMPLETE....\n",
      ">> S3 FILE GENERATION SUCCESS!! (File count: 6)\n",
      "Elapsed Time = 20.84\n",
      ">> Start downloading table\n",
      "aws s3 cp s3://adt-sandbox/dsc/tables/90f5564c-79b6-4ffe-b903-e998f2d287b6 /home/skinet/tmp/tmp_20201230_11_30_48_ccb6e8aef961c27071ea7e4a3cb13798a99b5d2d --recursive\n",
      "Elapsed Time = 7.63\n",
      ">> Loading data\n",
      "Dropping tmp db\n",
      "<< Delete s3://adt-sandbox/dsc/tables/90f5564c-79b6-4ffe-b903-e998f2d287b6\n",
      "Removing tmp_dir!\n",
      "Elapsed Time for downloading and loading = 6.08\n",
      "Total Elapsed Time = 34.56\n"
     ]
    }
   ],
   "source": [
    "# 18. 최근 1년 이내 민원접수 고객\n",
    "conn = athena_connection()\n",
    "voc = load_from_athena(conn, '''\n",
    "SELECT DISTINCT b.ctnum, a.receiptdate, a.receipttime\n",
    "  FROM telepro.tb_voc a\n",
    "LEFT JOIN (SELECT DISTINCT ctnum, kunnr, ctnum_hash, kunnr_hash FROM adt_work.hash_info) b\n",
    "       ON a.s25csq = b.ctnum_hash \n",
    " WHERE a.receiptdate >= \\'{}\\'\n",
    "'''.format(ymd_minus_1year))"
   ]
  },
  {
   "cell_type": "code",
   "execution_count": 27,
   "metadata": {},
   "outputs": [],
   "source": [
    "df.loc[(df['filter'].isnull()==True) & (df['ctnum'].isin(voc['ctnum'])) , 'filter'] = 18"
   ]
  },
  {
   "cell_type": "code",
   "execution_count": 28,
   "metadata": {},
   "outputs": [
    {
     "name": "stdout",
     "output_type": "stream",
     "text": [
      "...tmp_db name = tmp_20201230_11_31_22_9828052866bcce722b2bca5dfa793507bb49430b\n",
      "Start creating table\n",
      "drop table if exists default.tmp_20201230_11_31_22_9828052866bcce722b2bca5dfa793507bb49430b\n",
      "<< table not exist\n",
      "\n",
      "        create  table         default.tmp_20201230_11_31_22_9828052866bcce722b2bca5dfa793507bb49430b\n",
      "        with (format='Parquet', parquet_compression='GZIP')\n",
      "        as\n",
      "        \n",
      "WITH t1 AS (\n",
      "SELECT DISTINCT a.s25csq, b.gubun AS cd, a.talkenddate, '이관내역 기준' AS info\n",
      "  FROM telepro.tb_contact a\n",
      "LEFT JOIN telepro.tb_trans_contact b\n",
      "       ON a.contactid = b.contactid\n",
      " WHERE b.gubun IN ('0025', '0026')\n",
      "   AND a.talkenddate >= '2020/05/01'\n",
      "   \n",
      "UNION ALL \n",
      "\n",
      "SELECT DISTINCT s25csq, contactmiddlecd AS cd, talkenddate, '상담유형(중) 기준' AS info\n",
      "  FROM telepro.tb_contact\n",
      " WHERE contactmiddlecd IN ('J50J53', 'K50K56', 'J50J54')\n",
      "   AND talkenddate >= '2020/05/01'\n",
      "   \n",
      "UNION ALL\n",
      "\n",
      "SELECT DISTINCT s25csq, contactminorcd AS cd, talkenddate, '상담유형(소) 기준' AS info\n",
      "  FROM telepro.tb_contact\n",
      " WHERE contactminorcd IN ('B50B51B83', 'A01A08A25', 'G50G52G64')\n",
      "   AND talkenddate >= '2020/05/01'\n",
      ")\n",
      "\n",
      "SELECT b.ctnum, a.cd, a.talkenddate, a.info\n",
      "  FROM t1 a\n",
      "LEFT JOIN (SELECT DISTINCT ctnum, kunnr, ctnum_hash, kunnr_hash FROM adt_work.hash_info) b\n",
      "       ON a.s25csq = b.ctnum_hash\n",
      "\n",
      "...\n",
      ">> Athena Query Success!!\n",
      ">> Athena Query EXCUTION COMPLETE....\n",
      ">> S3 FILE GENERATION SUCCESS!! (File count: 6)\n",
      "Elapsed Time = 26.88\n",
      ">> Start downloading table\n",
      "aws s3 cp s3://adt-sandbox/dsc/tables/2b632777-8812-4de2-99e1-f6fd35d13878 /home/skinet/tmp/tmp_20201230_11_31_22_9828052866bcce722b2bca5dfa793507bb49430b --recursive\n",
      "Elapsed Time = 8.51\n",
      ">> Loading data\n",
      "Dropping tmp db\n",
      "<< Delete s3://adt-sandbox/dsc/tables/2b632777-8812-4de2-99e1-f6fd35d13878\n",
      "Removing tmp_dir!\n",
      "Elapsed Time for downloading and loading = 6.35\n",
      "Total Elapsed Time = 41.74\n"
     ]
    }
   ],
   "source": [
    "# 19. 해약 문의\n",
    "conn = athena_connection()\n",
    "churn = load_from_athena(conn, '''\n",
    "WITH t1 AS (\n",
    "SELECT DISTINCT a.s25csq, b.gubun AS cd, a.talkenddate, '이관내역 기준' AS info\n",
    "  FROM telepro.tb_contact a\n",
    "LEFT JOIN telepro.tb_trans_contact b\n",
    "       ON a.contactid = b.contactid\n",
    " WHERE b.gubun IN ('0025', '0026')\n",
    "   AND a.talkenddate >= \\'{}\\'\n",
    "   \n",
    "UNION ALL \n",
    "\n",
    "SELECT DISTINCT s25csq, contactmiddlecd AS cd, talkenddate, '상담유형(중) 기준' AS info\n",
    "  FROM telepro.tb_contact\n",
    " WHERE contactmiddlecd IN ('J50J53', 'K50K56', 'J50J54')\n",
    "   AND talkenddate >= \\'{}\\'\n",
    "   \n",
    "UNION ALL\n",
    "\n",
    "SELECT DISTINCT s25csq, contactminorcd AS cd, talkenddate, '상담유형(소) 기준' AS info\n",
    "  FROM telepro.tb_contact\n",
    " WHERE contactminorcd IN ('B50B51B83', 'A01A08A25', 'G50G52G64')\n",
    "   AND talkenddate >= \\'{}\\'\n",
    ")\n",
    "\n",
    "SELECT b.ctnum, a.cd, a.talkenddate, a.info\n",
    "  FROM t1 a\n",
    "LEFT JOIN (SELECT DISTINCT ctnum, kunnr, ctnum_hash, kunnr_hash FROM adt_work.hash_info) b\n",
    "       ON a.s25csq = b.ctnum_hash\n",
    "'''.format(ymd_minus_6month_slash, ymd_minus_6month_slash, ymd_minus_6month_slash))"
   ]
  },
  {
   "cell_type": "code",
   "execution_count": 29,
   "metadata": {},
   "outputs": [],
   "source": [
    "df.loc[(df['filter'].isnull()==True) & (df['ctnum'].isin(churn['ctnum'])) , 'filter'] = 19"
   ]
  },
  {
   "cell_type": "code",
   "execution_count": 30,
   "metadata": {},
   "outputs": [],
   "source": [
    "# 20. tm 거부\n",
    "df.loc[(df['filter'].isnull()==True) & df['kunnr'].isin(tm_refuse['kunnr']), 'filter'] = 20"
   ]
  },
  {
   "cell_type": "code",
   "execution_count": 31,
   "metadata": {},
   "outputs": [],
   "source": [
    "# 21. 두낫콜\n",
    "donotcall = pd.DataFrame()\n",
    "donotcall['휴대폰번호'] = df['telf2'].drop_duplicates(keep='first')\n",
    "donotcall = donotcall.sort_values('휴대폰번호')\n",
    "donotcall.index.name = 'index'\n",
    "donotcall.to_csv('donotcall_list.csv', encoding='utf-8-sig')"
   ]
  },
  {
   "cell_type": "markdown",
   "metadata": {},
   "source": [
    "### ↑ 여기에서 반환된 donotcall_list.csv 파일을 두낫콜에 넣고, 뱉어진 파일을 업로드한 후 파일명을 아래 filename 변수에 담기"
   ]
  },
  {
   "cell_type": "code",
   "execution_count": 32,
   "metadata": {},
   "outputs": [],
   "source": [
    "filename = '2058121711_20201230112134 (1).csv'\n",
    "\n",
    "donotcall = pd.read_csv(filename)\n",
    "donotcall['Result'] = donotcall['Result'].str.replace('\\D|\\s', '', regex=True)\n",
    "\n",
    "df.loc[(df['filter'].isnull()==True) & (~df['telf2'].isin(donotcall['Result'])), 'filter'] = 21"
   ]
  },
  {
   "cell_type": "code",
   "execution_count": 33,
   "metadata": {},
   "outputs": [],
   "source": [
    "# 22. 최종접촉일 3개월 이내\n",
    "df.loc[(df['filter'].isnull()==True) & (df['final_dialdate'].str[0:10] >= final_call_boundary), 'filter'] = 22"
   ]
  },
  {
   "cell_type": "code",
   "execution_count": 34,
   "metadata": {},
   "outputs": [],
   "source": [
    "# 23. 가입불가 필터링 (상호, 주소 등)\n",
    "\n",
    "filter1 = ~df['gad_name'].str.contains('\\(사\\)')\n",
    "filter2 = ~df['gad_name'].str.contains('\\(재\\)')\n",
    "filter3 = ~((df['gad_name'].str.contains('건물')) & (df['itype_l'] == '1'))\n",
    "filter4 = ~df['gad_name'].str.contains('게스트하우스')\n",
    "filter5 = ~df['gad_name'].str.contains('고시원')\n",
    "filter6 = ~df['gad_name'].str.contains('고시텔')\n",
    "\n",
    "filter7 = ~((df['gad_name'].str.contains('관리')) & ((df['uptae'].str.contains('건물')) | (df['jongmok'].str.contains('건물'))))\n",
    "filter8 = ~((df['gad_name'].str.contains('관리')) & ((df['uptae'].str.contains('건설')) | (df['jongmok'].str.contains('건설'))))\n",
    "filter9 = ~((df['gad_name'].str.contains('관리')) & ((df['uptae'].str.contains('부동산')) | (df['jongmok'].str.contains('부동산'))))\n",
    "filter10 = ~((df['gad_name'].str.contains('관리')) & ((df['uptae'].str.contains('시설')) | (df['jongmok'].str.contains('시설'))))\n",
    "filter11 = ~((df['gad_name'].str.contains('관리')) & ((df['uptae'].str.contains('임대')) | (df['jongmok'].str.contains('임대'))))\n",
    "filter12 = ~((df['gad_name'].str.contains('관리')) & ((df['uptae'].str.contains('주차장')) | (df['jongmok'].str.contains('주차장'))))\n",
    "filter13 =  ~((df['gad_name'].str.contains('관리')) & ((df['uptae'].str.contains('주택')) | (df['jongmok'].str.contains('주택'))))\n",
    "\n",
    "filter14 =  ~df['gad_name'].str.contains('관리단')\n",
    "filter15 =  ~df['gad_name'].str.contains('관리사무소')\n",
    "filter16 =  ~df['gad_name'].str.contains('관리위원회')\n",
    "filter17 =  ~df['gad_name'].str.contains('기숙사')\n",
    "filter18 =  ~df['gad_name'].str.contains('노인정')\n",
    "filter19 =  ~df['gad_name'].str.contains('법률')\n",
    "filter20 =  ~df['gad_name'].str.contains('법무')\n",
    "filter21 =  ~df['gad_name'].str.contains('변호')\n",
    "filter22 =  ~df['gad_name'].str.contains('보험')\n",
    "filter23 =  ~df['gad_name'].str.contains('번영')\n",
    "filter24 =  ~df['gad_name'].str.contains('복지')\n",
    "\n",
    "filter25 = ~((df['gad_name'].str.contains('빌딩')) & (df['itype_l'] == '1'))\n",
    "filter26 = ~((df['gad_name'].str.contains('빌라')) & (df['itype_l'] == '1'))\n",
    "filter27 = ~df['gad_name'].str.contains('사단')\n",
    "\n",
    "\n",
    "filter28 = ~((df['gad_name'].str.contains('상가')) & ((df['uptae'].str.contains('관리')) | (df['jongmok'].str.contains('관리'))))\n",
    "filter29 = ~((df['gad_name'].str.contains('상가')) & ((df['uptae'].str.contains('번영')) | (df['jongmok'].str.contains('번영'))))\n",
    "filter30 = ~((df['gad_name'].str.contains('상가')) & ((df['uptae'].str.contains('부동산')) | (df['jongmok'].str.contains('부동산'))))\n",
    "filter31 = ~((df['gad_name'].str.contains('상가')) & ((df['uptae'].str.contains('상가')) | (df['jongmok'].str.contains('상가'))))\n",
    "filter32 = ~((df['gad_name'].str.contains('상가')) & ((df['uptae'].str.contains('임대')) | (df['jongmok'].str.contains('임대'))))\n",
    "filter33 = ~((df['gad_name'].str.contains('상가')) & ((df['uptae'].str.contains('주차')) | (df['jongmok'].str.contains('주차'))))\n",
    "\n",
    "filter34 =  ~df['gad_name'].str.contains('종친')\n",
    "filter35 =  ~df['gad_name'].str.contains('상가관리')\n",
    "filter36 =  ~df['gad_name'].str.contains('손해')\n",
    "\n",
    "filter37 = ~((df['gad_name'].str.contains('아파트')) & (df['itype_l'] == '1'))\n",
    "filter38 = ~((df['gad_name'].str.contains('양식장')) & (df['itype_m'] != '02'))\n",
    "\n",
    "filter39 =  ~df['gad_name'].str.contains('운영위원')\n",
    "filter40 =  ~df['gad_name'].str.contains('원룸')\n",
    "filter41 =  ~df['gad_name'].str.contains('입주자')\n",
    "filter42 =  ~df['gad_name'].str.contains('여관')\n",
    "filter43 =  ~df['gad_name'].str.contains('자치회')\n",
    "filter44 =  ~df['gad_name'].str.contains('자활센터')\n",
    "filter45 =  ~df['gad_name'].str.contains('재개발')\n",
    "filter46 =  ~df['gad_name'].str.contains('재단')\n",
    "filter47 =  ~df['gad_name'].str.contains('조합')\n",
    "filter48 =  ~df['gad_name'].str.contains('주차장')\n",
    "filter49 =  ~df['gad_name'].str.contains('주택조합')\n",
    "filter50 =  ~df['gad_name'].str.contains('타이어 뱅크')\n",
    "filter51 =  ~df['gad_name'].str.contains('타이어뱅크')\n",
    "filter52 =  ~df['gad_name'].str.contains('펜션')\n",
    "filter53 =  ~df['gad_name'].str.contains('호텔')\n",
    "filter54 =  ~df['gad_name'].str.contains('글램핑')\n",
    "filter55 =  ~df['gad_name'].str.contains('캠핑')\n",
    "\n",
    "filter56 = ~((df['itype_m'] != '02') & ((df['uptae'].str.contains('숙박')) | (df['jongmok'].str.contains('숙박'))) & (~(df['uptae'].str.contains('음식')) & (~df['jongmok'].str.contains('음식'))))\n",
    "filter57 = ~((df['itype_m'] != '02') & ((df['uptae'].str.contains('양식')) | (df['jongmok'].str.contains('양식'))) & (~(df['uptae'].str.contains('음식')) & (~df['jongmok'].str.contains('음식'))))\n",
    "filter58 = ~((df['itype_m'] != '02') & ((df['uptae'].str.contains('하우스')) | (df['jongmok'].str.contains('하우스'))))\n",
    "filter59 = ~((df['itype_m'] != '02') & ((df['uptae'].str.contains('호텔')) | (df['jongmok'].str.contains('호텔'))) & (~(df['uptae'].str.contains('비품')) & (~df['jongmok'].str.contains('비품'))))\n",
    "filter60 = ~((df['itype_m'] != '02') & ((df['uptae'].str.contains('호텔')) | (df['jongmok'].str.contains('호텔'))) & (~(df['uptae'].str.contains('애견')) & (~df['jongmok'].str.contains('애견'))))\n",
    "filter61 = ~((df['itype_m'] != '02') & ((df['uptae'].str.contains('호텔')) | (df['jongmok'].str.contains('호텔'))) & (~(df['uptae'].str.contains('용품')) & (~df['jongmok'].str.contains('용품'))))\n",
    "\n",
    "filter62 = ~(((df['uptae'].str.contains('가축')) | (df['jongmok'].str.contains('가축'))))\n",
    "filter63 = ~(((df['uptae'].str.contains('건물관리')) | (df['jongmok'].str.contains('건물관리'))))\n",
    "filter64 = ~(((df['uptae'].str.contains('게스트하우스')) | (df['jongmok'].str.contains('게스트하우스'))))\n",
    "filter65 = ~(((df['uptae'].str.contains('경비')) | (df['jongmok'].str.contains('경비'))))\n",
    "filter66 = ~(((df['uptae'].str.contains('고시원')) | (df['jongmok'].str.contains('고시원'))))\n",
    "filter67 = ~(((df['uptae'].str.contains('고시텔')) | (df['jongmok'].str.contains('고시텔'))))\n",
    "filter68 = ~(((df['uptae'].str.contains('과수원')) | (df['jongmok'].str.contains('과수원'))))\n",
    "filter69 = ~(((df['uptae'].str.contains('관공서')) | (df['jongmok'].str.contains('관공서'))))\n",
    "filter70 = ~(((df['uptae'].str.contains('국가기관')) | (df['jongmok'].str.contains('국가기관'))))\n",
    "filter71 = ~(((df['uptae'].str.contains('글램핑')) | (df['jongmok'].str.contains('글램핑'))))\n",
    "\n",
    "filter72 = ~(((df['uptae'] == '난') | (df['jongmok'] == '난')))\n",
    "\n",
    "filter73 = ~(((df['uptae'].str.contains('난실')) | (df['jongmok'].str.contains('난실'))))\n",
    "filter74 = ~(((df['uptae'].str.contains('농가')) | (df['jongmok'].str.contains('농가'))))\n",
    "filter75 = ~(((df['uptae'].str.contains('농업')) | (df['jongmok'].str.contains('농업'))))\n",
    "filter76 = ~(((df['uptae'].str.contains('농원')) | (df['jongmok'].str.contains('농원'))))\n",
    "filter77 = ~(((df['uptae'].str.contains('농장')) | (df['jongmok'].str.contains('농장'))))\n",
    "\n",
    "filter78 = ~((df['itype_l'] != '4') & ((df['uptae'].str.contains('다가구')) | (df['jongmok'].str.contains('다가구'))))\n",
    "\n",
    "filter79 = ~(((df['uptae'].str.contains('돈사')) | (df['jongmok'].str.contains('돈사'))))\n",
    "filter80 = ~(((df['uptae'].str.contains('묘목')) | (df['jongmok'].str.contains('묘목'))))\n",
    "filter81 = ~(((df['uptae'].str.contains('민박')) | (df['jongmok'].str.contains('민박'))))\n",
    "filter82 = ~(((df['uptae'].str.contains('보험')) | (df['jongmok'].str.contains('보험'))))\n",
    "filter83 = ~(((df['uptae'].str.contains('복지')) | (df['jongmok'].str.contains('복지'))))\n",
    "filter84 = ~(((df['uptae'].str.contains('비영리')) | (df['jongmok'].str.contains('비영리'))))\n",
    "\n",
    "filter85 = ~((df['itype_l'] != '4') & ((df['uptae'].str.contains('빌딩')) | (df['jongmok'].str.contains('빌딩'))))\n",
    "filter86 = ~((df['itype_l'] != '4') & ((df['uptae'].str.contains('빌라')) | (df['jongmok'].str.contains('빌라'))))\n",
    "\n",
    "filter87 = ~(((df['uptae'].str.contains('생화')) | (df['jongmok'].str.contains('생화'))))\n",
    "filter88 = ~(((df['uptae'].str.contains('손해사정')) | (df['jongmok'].str.contains('손해사정'))))\n",
    "filter89 = ~(((df['uptae'].str.contains('식물')) | (df['jongmok'].str.contains('식물'))))\n",
    "\n",
    "filter90 = ~((df['itype_l'] != '4') & ((df['uptae'].str.contains('아파트')) | (df['jongmok'].str.contains('아파트'))))\n",
    "\n",
    "filter91 = ~(((df['uptae'].str.contains('양계')) | (df['jongmok'].str.contains('양계'))))\n",
    "filter92 = ~(((df['uptae'].str.contains('양계')) | (df['jongmok'].str.contains('양계'))))\n",
    "filter93 = ~(((df['uptae'].str.contains('양돈')) | (df['jongmok'].str.contains('양돈'))))\n",
    "filter94 = ~(((df['uptae'].str.contains('양봉')) | (df['jongmok'].str.contains('양봉'))))\n",
    "filter95 = ~(((df['uptae'].str.contains('양어장')) | (df['jongmok'].str.contains('양어장'))))\n",
    "filter96 = ~(((df['uptae'].str.contains('어업')) | (df['jongmok'].str.contains('어업'))))\n",
    "filter97 = ~(((df['uptae'].str.contains('여관')) | (df['jongmok'].str.contains('여관'))))\n",
    "filter98 = ~(((df['uptae'].str.contains('원룸')) | (df['jongmok'].str.contains('원룸'))))\n",
    "filter99 = ~(((df['uptae'].str.contains('육계')) | (df['jongmok'].str.contains('육계'))))\n",
    "filter100 = ~(((df['uptae'].str.contains('조경')) | (df['jongmok'].str.contains('조경'))))\n",
    "filter101 = ~(((df['uptae'].str.contains('축사')) | (df['jongmok'].str.contains('축사'))))\n",
    "\n",
    "filter102 = ~(((df['uptae'].str.contains('캠핑')) | (df['jongmok'].str.contains('캠핑'))) & (~(df['uptae'].str.contains('용품')) & (~df['jongmok'].str.contains('용품')) & ~(df['uptae'].str.contains('장비')) & ~(df['jongmok'].str.contains('장비'))))\n",
    "\n",
    "filter103 = ~(((df['uptae'].str.contains('펜션')) | (df['jongmok'].str.contains('펜션'))))\n",
    "filter104 = ~(((df['uptae'].str.contains('화훼')) | (df['jongmok'].str.contains('화훼'))))\n",
    "filter105 = ~(((df['uptae'].str.contains('금융')) | (df['jongmok'].str.contains('금융'))))\n",
    "filter106 = ~(((df['uptae'].str.contains('기숙사')) | (df['jongmok'].str.contains('기숙사'))))\n",
    "\n",
    "filter107 = ~((df['conn_type'] == 'A02') & (df['gad_name'].str.contains('가구')))\n",
    "filter108 = ~((df['conn_type'] == 'A02') & (df['gad_name'].str.contains('가요')))\n",
    "filter109 = ~((df['conn_type'] == 'A02') & (df['gad_name'].str.contains('고물')))\n",
    "filter110 = ~((df['conn_type'] == 'A02') & (df['gad_name'].str.contains('노래')))\n",
    "filter111 = ~((df['conn_type'] == 'A02') & (df['gad_name'].str.contains('단란주점')))\n",
    "filter112 = ~((df['conn_type'] == 'A02') & (df['gad_name'].str.contains('대중탕')))\n",
    "filter113 = ~((df['conn_type'] == 'A02') & (df['gad_name'].str.contains('리싸이클')))\n",
    "filter114 = ~((df['conn_type'] == 'A02') & (df['gad_name'].str.contains('견본주택')))\n",
    "filter115 = ~((df['conn_type'] == 'A02') & (df['gad_name'].str.contains('모델하우')))\n",
    "filter116 = ~((df['conn_type'] == 'A02') & (df['gad_name'].str.contains('목욕')))\n",
    "filter117 = ~((df['conn_type'] == 'A02') & (df['gad_name'].str.contains('사우나')))\n",
    "filter118 = ~((df['conn_type'] == 'A02') & (df['gad_name'].str.contains('산후조리')))\n",
    "filter119 = ~((df['conn_type'] == 'A02') & (df['gad_name'].str.contains('요양원')))\n",
    "filter120 = ~((df['conn_type'] == 'A02') & (df['gad_name'].str.contains('유흥주점')))\n",
    "filter121 = ~((df['conn_type'] == 'A02') & (df['gad_name'].str.contains('자원')))\n",
    "filter122 = ~((df['conn_type'] == 'A02') & (df['gad_name'].str.contains('중개인')))\n",
    "filter123 = ~((df['conn_type'] == 'A02') & (df['gad_name'].str.contains('중매인')))\n",
    "filter124 = ~((df['conn_type'] == 'A02') & (df['gad_name'].str.contains('숯가마')))\n",
    "filter125 = ~((df['conn_type'] == 'A02') & (df['gad_name'].str.contains('빌라')))\n",
    "filter126 = ~((df['conn_type'] == 'A02') & (df['gad_name'].str.contains('아파트')))\n",
    "filter127 = ~((df['conn_type'] == 'A02') & (df['gad_name'].str.contains('찜질')))\n",
    "filter128 = ~((df['conn_type'] == 'A02') & (df['gad_name'].str.contains('폐차')))\n",
    "\n",
    "filter129 = ~((df['conn_type'] == 'A02') & (df['gad_name'].str.contains('화원')) & (df['itype_m']!='02'))\n",
    "filter130 = ~((df['conn_type'] == 'A02') & (df['gad_name'].str.contains('화원')) & (df['itype_m']!='06'))\n",
    "\n",
    "filter131 = ~((df['conn_type'] == 'A02') & (df['itype_m'] != '09') & ((df['uptae'].str.contains('가구')) | (df['jongmok'].str.contains('가구'))))\n",
    "filter132 = ~((df['conn_type'] == 'A02') & (df['itype_m'] != '09') & ((df['uptae'].str.contains('목재')) | (df['jongmok'].str.contains('목재'))))\n",
    "\n",
    "filter133 = ~((df['conn_type'] == 'A02') & ((df['uptae'].str.contains('소각')) | (df['jongmok'].str.contains('소각'))))\n",
    "filter134 = ~((df['conn_type'] == 'A02') & ((df['uptae'].str.contains('고물')) | (df['jongmok'].str.contains('고물'))))\n",
    "filter135 = ~((df['conn_type'] == 'A02') & ((df['uptae'].str.contains('고철')) | (df['jongmok'].str.contains('고철'))))\n",
    "filter136 = ~((df['conn_type'] == 'A02') & ((df['uptae'].str.contains('광업')) | (df['jongmok'].str.contains('광업'))))\n",
    "filter137 = ~((df['conn_type'] == 'A02') & ((df['uptae'].str.contains('노래')) | (df['jongmok'].str.contains('노래'))))\n",
    "filter138 = ~((df['conn_type'] == 'A02') & ((df['uptae'].str.contains('단란주점')) | (df['jongmok'].str.contains('단란주점'))))\n",
    "filter139 = ~((df['conn_type'] == 'A02') & ((df['uptae'].str.contains('대중탕')) | (df['jongmok'].str.contains('대중탕'))))\n",
    "filter140 = ~((df['conn_type'] == 'A02') & ((df['uptae'].str.contains('모델하우스')) | (df['jongmok'].str.contains('모델하우스'))))\n",
    "filter141 = ~((df['conn_type'] == 'A02') & ((df['uptae'].str.contains('목욕')) | (df['jongmok'].str.contains('목욕'))))\n",
    "filter142 = ~((df['conn_type'] == 'A02') & ((df['uptae'].str.contains('법당')) | (df['jongmok'].str.contains('법당'))))\n",
    "filter143 = ~((df['conn_type'] == 'A02') & ((df['uptae'].str.contains('분양')) | (df['jongmok'].str.contains('분양'))))\n",
    "filter144 = ~((df['conn_type'] == 'A02') & ((df['uptae'].str.contains('불교')) | (df['jongmok'].str.contains('불교'))))\n",
    "filter145 = ~((df['conn_type'] == 'A02') & ((df['uptae'].str.contains('비철')) | (df['jongmok'].str.contains('비철'))))\n",
    "filter146 = ~((df['conn_type'] == 'A02') & ((df['uptae'].str.contains('빌라')) | (df['jongmok'].str.contains('빌라'))))\n",
    "filter147 = ~((df['conn_type'] == 'A02') & ((df['uptae'].str.contains('사격')) | (df['jongmok'].str.contains('사격'))))\n",
    "filter148 = ~((df['conn_type'] == 'A02') & ((df['uptae'].str.contains('사우나')) | (df['jongmok'].str.contains('사우나'))))\n",
    "filter149 = ~((df['conn_type'] == 'A02') & ((df['uptae'].str.contains('사찰')) | (df['jongmok'].str.contains('사찰'))))\n",
    "filter150 = ~((df['conn_type'] == 'A02') & ((df['uptae'].str.contains('산후조리')) | (df['jongmok'].str.contains('산후조리'))))\n",
    "filter151 = ~((df['conn_type'] == 'A02') & ((df['uptae'].str.contains('연구')) | (df['jongmok'].str.contains('연구'))))\n",
    "filter152 = ~((df['conn_type'] == 'A02') & ((df['uptae'].str.contains('요양원')) | (df['jongmok'].str.contains('요양원'))))\n",
    "filter153 = ~((df['conn_type'] == 'A02') & ((df['uptae'].str.contains('유흥주점')) | (df['jongmok'].str.contains('유흥주점'))))\n",
    "filter154 = ~((df['conn_type'] == 'A02') & ((df['uptae'].str.contains('자원')) | (df['jongmok'].str.contains('자원'))))\n",
    "filter155 = ~((df['conn_type'] == 'A02') & ((df['uptae'].str.contains('재생용')) | (df['jongmok'].str.contains('재생용'))))\n",
    "filter156 = ~((df['conn_type'] == 'A02') & ((df['uptae'].str.contains('재활용')) | (df['jongmok'].str.contains('재활용'))))\n",
    "\n",
    "filter157 = ~((df['conn_type'] == 'A02') & ((df['uptae'] == '절') | (df['jongmok'] == '절')))\n",
    "\n",
    "filter158 = ~((df['conn_type'] == 'A02') & ((df['uptae'].str.contains('종자')) | (df['jongmok'].str.contains('종자'))))\n",
    "filter159 = ~((df['conn_type'] == 'A02') & ((df['uptae'].str.contains('주택신축')) | (df['jongmok'].str.contains('주택신축'))))\n",
    "filter160 = ~((df['conn_type'] == 'A02') & ((df['uptae'].str.contains('찜질')) | (df['jongmok'].str.contains('찜질'))))\n",
    "filter161 = ~((df['conn_type'] == 'A02') & ((df['uptae'].str.contains('토목')) | (df['jongmok'].str.contains('토목'))))\n",
    "filter162 = ~((df['conn_type'] == 'A02') & ((df['uptae'].str.contains('파지')) | (df['jongmok'].str.contains('파지'))))\n",
    "filter163 = ~((df['conn_type'] == 'A02') & ((df['uptae'].str.contains('폐기물')) | (df['jongmok'].str.contains('폐기물'))))\n",
    "filter164 = ~((df['conn_type'] == 'A02') & ((df['uptae'].str.contains('폐차')) | (df['jongmok'].str.contains('폐차'))))\n",
    "filter165 = ~((df['conn_type'] == 'A02') & ((df['uptae'].str.contains('한증막')) | (df['jongmok'].str.contains('한증막'))))\n",
    "filter166 = ~((df['conn_type'] == 'A02') & ((df['uptae'].str.contains('합판')) | (df['jongmok'].str.contains('합판'))))\n",
    "\n",
    "filter167 = ~((df['conn_type'] == 'A02') & (df['itype_l'] == '4') & (df['gad_add01'].str.contains('아파트')))\n",
    "filter168 = ~((df['conn_type'] == 'A02') & (df['itype_l'] == '4') & (df['gad_add01'].str.contains('빌라')))\n",
    "\n",
    "filter169 = ~((df['conn_type'] == 'A02') & (df['itype_l'] == '4') & ((df['gad_add01'].str.contains('\\d호', regex=True)) | (df['gad_add02'].str.contains('\\d호', regex=True))))\n",
    "filter170 = ~((df['conn_type'] == 'A02') & (df['itype_l'] == '4') & ((df['gad_add01'].str.contains('\\d동', regex=True)) | (df['gad_add02'].str.contains('\\d동', regex=True))))\n",
    "filter171 = ~((df['conn_type'] == 'A02') & (df['itype_l'] == '4') & ((df['gad_add01'].str.contains('\\d층', regex=True)) | (df['gad_add02'].str.contains('\\d층', regex=True))))\n",
    "filter172 = ~((df['conn_type'] == 'A02') & ((df['gad_add01'].str.contains('지하')) | (df['gad_add02'].str.contains('지하'))))\n",
    "filter173 = ~((df['conn_type'] == 'A02') & ((df['gad_add01'].str.contains('지층')) | (df['gad_add02'].str.contains('지층'))))\n",
    "\n",
    "filter174 = ~((df['conn_type'] == 'A02') & ((df['gad_add01'].str.contains('B0')) | (df['gad_add02'].str.contains('B0'))))\n",
    "filter175 = ~((df['conn_type'] == 'A02') & ((df['gad_add01'].str.contains('B1')) | (df['gad_add02'].str.contains('B1'))))\n",
    "filter176 = ~((df['conn_type'] == 'A02') & ((df['gad_add01'].str.contains('B2')) | (df['gad_add02'].str.contains('B2'))))\n",
    "filter177 = ~((df['conn_type'] == 'A02') & ((df['gad_add01'].str.contains('B3')) | (df['gad_add02'].str.contains('B3'))))\n",
    "filter178 = ~((df['conn_type'] == 'A02') & ((df['gad_add01'].str.contains('B4')) | (df['gad_add02'].str.contains('B4'))))\n",
    "filter179 = ~((df['conn_type'] == 'A02') & ((df['gad_add01'].str.contains('B-')) | (df['gad_add02'].str.contains('B-'))))\n",
    "\n",
    "filter180 = ~((df['conn_type'] == 'A02') & ((df['gad_add01'].str.contains('시장')) | (df['gad_add02'].str.contains('시장'))))"
   ]
  },
  {
   "cell_type": "code",
   "execution_count": 35,
   "metadata": {},
   "outputs": [],
   "source": [
    "df_temp = df.copy()"
   ]
  },
  {
   "cell_type": "code",
   "execution_count": 36,
   "metadata": {},
   "outputs": [],
   "source": [
    "# df = df_temp.copy()"
   ]
  },
  {
   "cell_type": "code",
   "execution_count": 37,
   "metadata": {},
   "outputs": [
    {
     "data": {
      "text/plain": [
       "(41973, 52)"
      ]
     },
     "execution_count": 37,
     "metadata": {},
     "output_type": "execute_result"
    }
   ],
   "source": [
    "df.shape"
   ]
  },
  {
   "cell_type": "code",
   "execution_count": 38,
   "metadata": {},
   "outputs": [],
   "source": [
    "# 필터 돌리기\n",
    "for i in range(1, 180):\n",
    "      df = df[globals()['filter' + str(i)]]"
   ]
  },
  {
   "cell_type": "code",
   "execution_count": 39,
   "metadata": {},
   "outputs": [
    {
     "data": {
      "text/plain": [
       "(39505, 52)"
      ]
     },
     "execution_count": 39,
     "metadata": {},
     "output_type": "execute_result"
    }
   ],
   "source": [
    "df.shape"
   ]
  },
  {
   "cell_type": "code",
   "execution_count": 40,
   "metadata": {},
   "outputs": [
    {
     "data": {
      "text/plain": [
       "(41966, 53)"
      ]
     },
     "execution_count": 40,
     "metadata": {},
     "output_type": "execute_result"
    }
   ],
   "source": [
    "df = pd.DataFrame(df['ctnum'].astype(str))\n",
    "df['name_fine'] = 1\n",
    "df = df_temp.merge(df, how='left', on='ctnum')\n",
    "df = df.sort_values(by=['conn_type', 'ctnum', 'aedat', 'aezet'], axis=0, ascending=[True, False, False, False])\n",
    "df = df.drop_duplicates(subset='ctnum', keep='first')\n",
    "df.shape"
   ]
  },
  {
   "cell_type": "code",
   "execution_count": 41,
   "metadata": {},
   "outputs": [],
   "source": [
    "df.loc[(df['filter'].isnull()==True) & (df['name_fine'].isnull()==True), 'filter'] = 23"
   ]
  },
  {
   "cell_type": "code",
   "execution_count": 42,
   "metadata": {},
   "outputs": [
    {
     "data": {
      "text/plain": [
       "0     25616\n",
       "1       141\n",
       "2        54\n",
       "3         8\n",
       "4       518\n",
       "5       382\n",
       "6        29\n",
       "7       104\n",
       "8         7\n",
       "9       165\n",
       "10     6068\n",
       "11     2486\n",
       "13     2103\n",
       "15      703\n",
       "16      163\n",
       "17      120\n",
       "18      235\n",
       "19      741\n",
       "20      233\n",
       "21      225\n",
       "22     1136\n",
       "23      729\n",
       "Name: filter, dtype: int64"
      ]
     },
     "execution_count": 42,
     "metadata": {},
     "output_type": "execute_result"
    }
   ],
   "source": [
    "df['filter'].fillna(0).astype(int).value_counts(dropna=False).sort_index()"
   ]
  },
  {
   "cell_type": "code",
   "execution_count": 43,
   "metadata": {},
   "outputs": [
    {
     "data": {
      "text/plain": [
       "0     4475\n",
       "1       40\n",
       "2       54\n",
       "3        8\n",
       "4      287\n",
       "5      377\n",
       "7      104\n",
       "8        7\n",
       "9       57\n",
       "10    5885\n",
       "11     576\n",
       "13    2091\n",
       "15     626\n",
       "16      74\n",
       "17      23\n",
       "18     141\n",
       "19      67\n",
       "20     113\n",
       "21     128\n",
       "22    1121\n",
       "23     379\n",
       "Name: filter, dtype: int64"
      ]
     },
     "execution_count": 43,
     "metadata": {},
     "output_type": "execute_result"
    }
   ],
   "source": [
    "df[df['gubun']=='신규']['filter'].fillna(0).astype(int).value_counts(dropna=False).sort_index()"
   ]
  },
  {
   "cell_type": "code",
   "execution_count": 44,
   "metadata": {},
   "outputs": [
    {
     "data": {
      "text/plain": [
       "0     21141\n",
       "1       101\n",
       "4       231\n",
       "5         5\n",
       "6        29\n",
       "9       108\n",
       "10      183\n",
       "11     1910\n",
       "13       12\n",
       "15       77\n",
       "16       89\n",
       "17       97\n",
       "18       94\n",
       "19      674\n",
       "20      120\n",
       "21       97\n",
       "22       15\n",
       "23      350\n",
       "Name: filter, dtype: int64"
      ]
     },
     "execution_count": 44,
     "metadata": {},
     "output_type": "execute_result"
    }
   ],
   "source": [
    "df[df['gubun']=='기존']['filter'].fillna(0).astype(int).value_counts(dropna=False).sort_index()"
   ]
  },
  {
   "cell_type": "code",
   "execution_count": 45,
   "metadata": {},
   "outputs": [],
   "source": [
    "df.drop(['ctnum_hash', 'kunnr_hash', 'name_fine', 'telf_valid_1', 'telf_valid_2', 'telf_valid_final'], axis=1, inplace=True)"
   ]
  },
  {
   "cell_type": "code",
   "execution_count": 46,
   "metadata": {},
   "outputs": [
    {
     "data": {
      "text/plain": [
       "기존    25333\n",
       "신규    16633\n",
       "Name: gubun, dtype: int64"
      ]
     },
     "execution_count": 46,
     "metadata": {},
     "output_type": "execute_result"
    }
   ],
   "source": [
    "df.gubun.value_counts()"
   ]
  },
  {
   "cell_type": "code",
   "execution_count": 47,
   "metadata": {},
   "outputs": [],
   "source": [
    "df = df.rename(columns={\n",
    "      'gubun' : '구분',\n",
    "      'filter' : '필터',\n",
    "      'kunnr' : '고객번호',\n",
    "      'ctnum' : '계약번호',\n",
    "      'cstat' : '계약상태',\n",
    "      'gad_name' : '상호',\n",
    "      'gad_start' : '경비개시일',\n",
    "      'conn_start' : '계약개시일',\n",
    "      'conn_end' : '계약종료일',\n",
    "      'monexp_amt' : '월정료',\n",
    "      'conn_type' : '계약타입',\n",
    "      'ctype_l' : '채널(대)',\n",
    "      'ctype_m' : '채널(중)',\n",
    "      'ctype_s' : '채널(소)',\n",
    "      'itype_l' : '업종(대)',\n",
    "      'itype_m' : '업종(중)',\n",
    "      'itype_s' : '업종(소)',\n",
    "      'name1' : '이름1',\n",
    "      'gad_add01' : '경비물건주소',\n",
    "      'post_add01' : '우편물수령지주소1',\n",
    "      'first_bildate' : '최초청구일',\n",
    "      'telf2' : '전화번호',\n",
    "      'line_type' : '관제회선구분',\n",
    "      'uptae' : '업태',\n",
    "      'jongmok' : '종목',\n",
    "      'gros_code' : '그로스코드',\n",
    "      'gross_type' : '그로스타입',\n",
    "      'kvgr4' : '세그먼트',\n",
    "      'gad_pstlz' : '우편번호',\n",
    "      'gad_add02' : '경비물건주소상세',\n",
    "      'post_add02' : '우편물수령지주소2',\n",
    "      'sms_yn' : 'SMS동의',\n",
    "      'email_yn' : 'EMAIL동의',\n",
    "      'adt1_yn' : '개인정보수집이용동의',\n",
    "      'tm_yn' : 'TM동의',\n",
    "      'dm_yn' : 'DM동의',\n",
    "      'sk1_yn' : 'SK1동의',\n",
    "      'sk2_yn' : 'SK2동의',\n",
    "      'aedat' : '작업일자',\n",
    "      'aezet' : '작업시간',\n",
    "      'aenam' : '변경자',\n",
    "      'nsok' : 'n사계약번호',\n",
    "      'final_dialdate' : '최종접촉일시',\n",
    "      'resultcd' : '최종접촉결과',\n",
    "      'con_cnt' : '접촉회차'\n",
    "})"
   ]
  },
  {
   "cell_type": "code",
   "execution_count": 48,
   "metadata": {},
   "outputs": [],
   "source": [
    "df = df[\n",
    "    ['필터', '구분', '고객번호', '계약번호', '계약상태', '상호', '경비개시일', '계약개시일', '계약종료일', \n",
    "     '월정료', '계약타입', '채널(대)', '채널(중)', '채널(소)', '업종(대)', '업종(중)', '업종(소)', \n",
    "     '이름1', '경비물건주소', '우편물수령지주소1', '최초청구일', '전화번호',\n",
    "     '관제회선구분', '업태', '종목', '그로스코드', '그로스타입', '세그먼트', '우편번호', '경비물건주소상세',\n",
    "     '우편물수령지주소2', '개인정보수집이용동의', 'SMS동의', 'EMAIL동의', 'TM동의', 'DM동의', 'SK1동의', 'SK2동의', \n",
    "     '작업일자', '작업시간', '변경자', 'n사계약번호', '최종접촉일시', '최종접촉결과', '접촉회차']]"
   ]
  },
  {
   "cell_type": "code",
   "execution_count": 49,
   "metadata": {},
   "outputs": [
    {
     "data": {
      "text/plain": [
       "'20년09월기존_20년10월신규_TM_UPSELL_DB_20201230.csv'"
      ]
     },
     "execution_count": 49,
     "metadata": {},
     "output_type": "execute_result"
    }
   ],
   "source": [
    "workdt = datetime.datetime.now()\n",
    "workdt = str(workdt.year) + str(workdt.month).zfill(2) + str(workdt.day).zfill(2)\n",
    "gizon_month = datetime.date(int(first_bill_month[0:4]), int(first_bill_month[4:6]), 1) - relativedelta(months=1)\n",
    "gizon_month = str(gizon_month.year)+str(gizon_month.month).zfill(2)\n",
    "\n",
    "filename = gizon_month[2:4] +'년'+ gizon_month[4:6] + '월기존_' + first_bill_month[2:4] +'년'+ first_bill_month[4:6] + '월신규_TM_UPSELL_DB_' + workdt + '.csv'\n",
    "filename"
   ]
  },
  {
   "cell_type": "code",
   "execution_count": 50,
   "metadata": {},
   "outputs": [],
   "source": [
    "df.to_csv(filename, encoding='utf-8-sig')"
   ]
  },
  {
   "cell_type": "code",
   "execution_count": null,
   "metadata": {},
   "outputs": [],
   "source": []
  },
  {
   "cell_type": "code",
   "execution_count": null,
   "metadata": {},
   "outputs": [],
   "source": []
  },
  {
   "cell_type": "code",
   "execution_count": null,
   "metadata": {},
   "outputs": [],
   "source": []
  }
 ],
 "metadata": {
  "kernelspec": {
   "display_name": "Python 3",
   "language": "python",
   "name": "python3"
  },
  "language_info": {
   "codemirror_mode": {
    "name": "ipython",
    "version": 3
   },
   "file_extension": ".py",
   "mimetype": "text/x-python",
   "name": "python",
   "nbconvert_exporter": "python",
   "pygments_lexer": "ipython3",
   "version": "3.6.8"
  }
 },
 "nbformat": 4,
 "nbformat_minor": 4
}
